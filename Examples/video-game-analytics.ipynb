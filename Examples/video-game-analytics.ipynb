{
 "cells": [
  {
   "cell_type": "code",
   "execution_count": 1,
   "id": "de3187b9",
   "metadata": {
    "execution": {
     "iopub.execute_input": "2024-12-16T12:26:41.322397Z",
     "iopub.status.busy": "2024-12-16T12:26:41.321292Z",
     "iopub.status.idle": "2024-12-16T12:26:42.200955Z",
     "shell.execute_reply": "2024-12-16T12:26:42.200108Z"
    },
    "papermill": {
     "duration": 0.88962,
     "end_time": "2024-12-16T12:26:42.203260",
     "exception": false,
     "start_time": "2024-12-16T12:26:41.313640",
     "status": "completed"
    },
    "tags": []
   },
   "outputs": [],
   "source": [
    "#Importing Libraries\n",
    "import numpy as np\n",
    "import pandas as pd\n",
    "import matplotlib.pyplot as plt"
   ]
  },
  {
   "cell_type": "code",
   "execution_count": 2,
   "id": "417b2d16",
   "metadata": {
    "execution": {
     "iopub.execute_input": "2024-12-16T12:26:42.217925Z",
     "iopub.status.busy": "2024-12-16T12:26:42.217051Z",
     "iopub.status.idle": "2024-12-16T12:26:42.580955Z",
     "shell.execute_reply": "2024-12-16T12:26:42.579870Z"
    },
    "papermill": {
     "duration": 0.373018,
     "end_time": "2024-12-16T12:26:42.583410",
     "exception": false,
     "start_time": "2024-12-16T12:26:42.210392",
     "status": "completed"
    },
    "tags": []
   },
   "outputs": [],
   "source": [
    "#Reading Dataset\n",
    "df = pd.read_csv(\"/kaggle/input/video-game-sales-2024/vgchartz-2024.csv\")"
   ]
  },
  {
   "cell_type": "code",
   "execution_count": 3,
   "id": "f4005d7d",
   "metadata": {
    "execution": {
     "iopub.execute_input": "2024-12-16T12:26:42.596639Z",
     "iopub.status.busy": "2024-12-16T12:26:42.596225Z",
     "iopub.status.idle": "2024-12-16T12:26:42.629407Z",
     "shell.execute_reply": "2024-12-16T12:26:42.628348Z"
    },
    "papermill": {
     "duration": 0.042615,
     "end_time": "2024-12-16T12:26:42.631394",
     "exception": false,
     "start_time": "2024-12-16T12:26:42.588779",
     "status": "completed"
    },
    "tags": []
   },
   "outputs": [
    {
     "data": {
      "text/html": [
       "<div>\n",
       "<style scoped>\n",
       "    .dataframe tbody tr th:only-of-type {\n",
       "        vertical-align: middle;\n",
       "    }\n",
       "\n",
       "    .dataframe tbody tr th {\n",
       "        vertical-align: top;\n",
       "    }\n",
       "\n",
       "    .dataframe thead th {\n",
       "        text-align: right;\n",
       "    }\n",
       "</style>\n",
       "<table border=\"1\" class=\"dataframe\">\n",
       "  <thead>\n",
       "    <tr style=\"text-align: right;\">\n",
       "      <th></th>\n",
       "      <th>img</th>\n",
       "      <th>title</th>\n",
       "      <th>console</th>\n",
       "      <th>genre</th>\n",
       "      <th>publisher</th>\n",
       "      <th>developer</th>\n",
       "      <th>critic_score</th>\n",
       "      <th>total_sales</th>\n",
       "      <th>na_sales</th>\n",
       "      <th>jp_sales</th>\n",
       "      <th>pal_sales</th>\n",
       "      <th>other_sales</th>\n",
       "      <th>release_date</th>\n",
       "      <th>last_update</th>\n",
       "    </tr>\n",
       "  </thead>\n",
       "  <tbody>\n",
       "    <tr>\n",
       "      <th>0</th>\n",
       "      <td>/games/boxart/full_6510540AmericaFrontccc.jpg</td>\n",
       "      <td>Grand Theft Auto V</td>\n",
       "      <td>PS3</td>\n",
       "      <td>Action</td>\n",
       "      <td>Rockstar Games</td>\n",
       "      <td>Rockstar North</td>\n",
       "      <td>9.4</td>\n",
       "      <td>20.32</td>\n",
       "      <td>6.37</td>\n",
       "      <td>0.99</td>\n",
       "      <td>9.85</td>\n",
       "      <td>3.12</td>\n",
       "      <td>2013-09-17</td>\n",
       "      <td>NaN</td>\n",
       "    </tr>\n",
       "    <tr>\n",
       "      <th>1</th>\n",
       "      <td>/games/boxart/full_5563178AmericaFrontccc.jpg</td>\n",
       "      <td>Grand Theft Auto V</td>\n",
       "      <td>PS4</td>\n",
       "      <td>Action</td>\n",
       "      <td>Rockstar Games</td>\n",
       "      <td>Rockstar North</td>\n",
       "      <td>9.7</td>\n",
       "      <td>19.39</td>\n",
       "      <td>6.06</td>\n",
       "      <td>0.60</td>\n",
       "      <td>9.71</td>\n",
       "      <td>3.02</td>\n",
       "      <td>2014-11-18</td>\n",
       "      <td>2018-01-03</td>\n",
       "    </tr>\n",
       "    <tr>\n",
       "      <th>2</th>\n",
       "      <td>/games/boxart/827563ccc.jpg</td>\n",
       "      <td>Grand Theft Auto: Vice City</td>\n",
       "      <td>PS2</td>\n",
       "      <td>Action</td>\n",
       "      <td>Rockstar Games</td>\n",
       "      <td>Rockstar North</td>\n",
       "      <td>9.6</td>\n",
       "      <td>16.15</td>\n",
       "      <td>8.41</td>\n",
       "      <td>0.47</td>\n",
       "      <td>5.49</td>\n",
       "      <td>1.78</td>\n",
       "      <td>2002-10-28</td>\n",
       "      <td>NaN</td>\n",
       "    </tr>\n",
       "    <tr>\n",
       "      <th>3</th>\n",
       "      <td>/games/boxart/full_9218923AmericaFrontccc.jpg</td>\n",
       "      <td>Grand Theft Auto V</td>\n",
       "      <td>X360</td>\n",
       "      <td>Action</td>\n",
       "      <td>Rockstar Games</td>\n",
       "      <td>Rockstar North</td>\n",
       "      <td>NaN</td>\n",
       "      <td>15.86</td>\n",
       "      <td>9.06</td>\n",
       "      <td>0.06</td>\n",
       "      <td>5.33</td>\n",
       "      <td>1.42</td>\n",
       "      <td>2013-09-17</td>\n",
       "      <td>NaN</td>\n",
       "    </tr>\n",
       "    <tr>\n",
       "      <th>4</th>\n",
       "      <td>/games/boxart/full_4990510AmericaFrontccc.jpg</td>\n",
       "      <td>Call of Duty: Black Ops 3</td>\n",
       "      <td>PS4</td>\n",
       "      <td>Shooter</td>\n",
       "      <td>Activision</td>\n",
       "      <td>Treyarch</td>\n",
       "      <td>8.1</td>\n",
       "      <td>15.09</td>\n",
       "      <td>6.18</td>\n",
       "      <td>0.41</td>\n",
       "      <td>6.05</td>\n",
       "      <td>2.44</td>\n",
       "      <td>2015-11-06</td>\n",
       "      <td>2018-01-14</td>\n",
       "    </tr>\n",
       "    <tr>\n",
       "      <th>...</th>\n",
       "      <td>...</td>\n",
       "      <td>...</td>\n",
       "      <td>...</td>\n",
       "      <td>...</td>\n",
       "      <td>...</td>\n",
       "      <td>...</td>\n",
       "      <td>...</td>\n",
       "      <td>...</td>\n",
       "      <td>...</td>\n",
       "      <td>...</td>\n",
       "      <td>...</td>\n",
       "      <td>...</td>\n",
       "      <td>...</td>\n",
       "      <td>...</td>\n",
       "    </tr>\n",
       "    <tr>\n",
       "      <th>64011</th>\n",
       "      <td>/games/boxart/full_2779838AmericaFrontccc.jpg</td>\n",
       "      <td>XBlaze Lost: Memories</td>\n",
       "      <td>PC</td>\n",
       "      <td>Visual Novel</td>\n",
       "      <td>Aksys Games</td>\n",
       "      <td>Arc System Works</td>\n",
       "      <td>NaN</td>\n",
       "      <td>NaN</td>\n",
       "      <td>NaN</td>\n",
       "      <td>NaN</td>\n",
       "      <td>NaN</td>\n",
       "      <td>NaN</td>\n",
       "      <td>2016-08-11</td>\n",
       "      <td>2019-01-28</td>\n",
       "    </tr>\n",
       "    <tr>\n",
       "      <th>64012</th>\n",
       "      <td>/games/boxart/full_8031506AmericaFrontccc.jpg</td>\n",
       "      <td>Yoru, Tomosu</td>\n",
       "      <td>PS4</td>\n",
       "      <td>Visual Novel</td>\n",
       "      <td>Nippon Ichi Software</td>\n",
       "      <td>Nippon Ichi Software</td>\n",
       "      <td>NaN</td>\n",
       "      <td>NaN</td>\n",
       "      <td>NaN</td>\n",
       "      <td>NaN</td>\n",
       "      <td>NaN</td>\n",
       "      <td>NaN</td>\n",
       "      <td>2020-07-30</td>\n",
       "      <td>2020-05-09</td>\n",
       "    </tr>\n",
       "    <tr>\n",
       "      <th>64013</th>\n",
       "      <td>/games/boxart/full_6553045AmericaFrontccc.jpg</td>\n",
       "      <td>Yoru, Tomosu</td>\n",
       "      <td>NS</td>\n",
       "      <td>Visual Novel</td>\n",
       "      <td>Nippon Ichi Software</td>\n",
       "      <td>Nippon Ichi Software</td>\n",
       "      <td>NaN</td>\n",
       "      <td>NaN</td>\n",
       "      <td>NaN</td>\n",
       "      <td>NaN</td>\n",
       "      <td>NaN</td>\n",
       "      <td>NaN</td>\n",
       "      <td>2020-07-30</td>\n",
       "      <td>2020-05-09</td>\n",
       "    </tr>\n",
       "    <tr>\n",
       "      <th>64014</th>\n",
       "      <td>/games/boxart/full_6012940JapanFrontccc.png</td>\n",
       "      <td>Yunohana SpRING! ~Mellow Times~</td>\n",
       "      <td>NS</td>\n",
       "      <td>Visual Novel</td>\n",
       "      <td>Idea Factory</td>\n",
       "      <td>Otomate</td>\n",
       "      <td>NaN</td>\n",
       "      <td>NaN</td>\n",
       "      <td>NaN</td>\n",
       "      <td>NaN</td>\n",
       "      <td>NaN</td>\n",
       "      <td>NaN</td>\n",
       "      <td>2019-02-28</td>\n",
       "      <td>2019-02-24</td>\n",
       "    </tr>\n",
       "    <tr>\n",
       "      <th>64015</th>\n",
       "      <td>/games/boxart/default.jpg</td>\n",
       "      <td>Yurukill: The Calumniation Games</td>\n",
       "      <td>PS4</td>\n",
       "      <td>Visual Novel</td>\n",
       "      <td>Unknown</td>\n",
       "      <td>G.rev Ltd.</td>\n",
       "      <td>NaN</td>\n",
       "      <td>NaN</td>\n",
       "      <td>NaN</td>\n",
       "      <td>NaN</td>\n",
       "      <td>NaN</td>\n",
       "      <td>NaN</td>\n",
       "      <td>NaN</td>\n",
       "      <td>2023-09-29</td>\n",
       "    </tr>\n",
       "  </tbody>\n",
       "</table>\n",
       "<p>64016 rows × 14 columns</p>\n",
       "</div>"
      ],
      "text/plain": [
       "                                                 img  \\\n",
       "0      /games/boxart/full_6510540AmericaFrontccc.jpg   \n",
       "1      /games/boxart/full_5563178AmericaFrontccc.jpg   \n",
       "2                        /games/boxart/827563ccc.jpg   \n",
       "3      /games/boxart/full_9218923AmericaFrontccc.jpg   \n",
       "4      /games/boxart/full_4990510AmericaFrontccc.jpg   \n",
       "...                                              ...   \n",
       "64011  /games/boxart/full_2779838AmericaFrontccc.jpg   \n",
       "64012  /games/boxart/full_8031506AmericaFrontccc.jpg   \n",
       "64013  /games/boxart/full_6553045AmericaFrontccc.jpg   \n",
       "64014    /games/boxart/full_6012940JapanFrontccc.png   \n",
       "64015                      /games/boxart/default.jpg   \n",
       "\n",
       "                                  title console         genre  \\\n",
       "0                    Grand Theft Auto V     PS3        Action   \n",
       "1                    Grand Theft Auto V     PS4        Action   \n",
       "2           Grand Theft Auto: Vice City     PS2        Action   \n",
       "3                    Grand Theft Auto V    X360        Action   \n",
       "4             Call of Duty: Black Ops 3     PS4       Shooter   \n",
       "...                                 ...     ...           ...   \n",
       "64011             XBlaze Lost: Memories      PC  Visual Novel   \n",
       "64012                      Yoru, Tomosu     PS4  Visual Novel   \n",
       "64013                      Yoru, Tomosu      NS  Visual Novel   \n",
       "64014   Yunohana SpRING! ~Mellow Times~      NS  Visual Novel   \n",
       "64015  Yurukill: The Calumniation Games     PS4  Visual Novel   \n",
       "\n",
       "                  publisher             developer  critic_score  total_sales  \\\n",
       "0            Rockstar Games        Rockstar North           9.4        20.32   \n",
       "1            Rockstar Games        Rockstar North           9.7        19.39   \n",
       "2            Rockstar Games        Rockstar North           9.6        16.15   \n",
       "3            Rockstar Games        Rockstar North           NaN        15.86   \n",
       "4                Activision              Treyarch           8.1        15.09   \n",
       "...                     ...                   ...           ...          ...   \n",
       "64011           Aksys Games      Arc System Works           NaN          NaN   \n",
       "64012  Nippon Ichi Software  Nippon Ichi Software           NaN          NaN   \n",
       "64013  Nippon Ichi Software  Nippon Ichi Software           NaN          NaN   \n",
       "64014          Idea Factory               Otomate           NaN          NaN   \n",
       "64015               Unknown            G.rev Ltd.           NaN          NaN   \n",
       "\n",
       "       na_sales  jp_sales  pal_sales  other_sales release_date last_update  \n",
       "0          6.37      0.99       9.85         3.12   2013-09-17         NaN  \n",
       "1          6.06      0.60       9.71         3.02   2014-11-18  2018-01-03  \n",
       "2          8.41      0.47       5.49         1.78   2002-10-28         NaN  \n",
       "3          9.06      0.06       5.33         1.42   2013-09-17         NaN  \n",
       "4          6.18      0.41       6.05         2.44   2015-11-06  2018-01-14  \n",
       "...         ...       ...        ...          ...          ...         ...  \n",
       "64011       NaN       NaN        NaN          NaN   2016-08-11  2019-01-28  \n",
       "64012       NaN       NaN        NaN          NaN   2020-07-30  2020-05-09  \n",
       "64013       NaN       NaN        NaN          NaN   2020-07-30  2020-05-09  \n",
       "64014       NaN       NaN        NaN          NaN   2019-02-28  2019-02-24  \n",
       "64015       NaN       NaN        NaN          NaN          NaN  2023-09-29  \n",
       "\n",
       "[64016 rows x 14 columns]"
      ]
     },
     "execution_count": 3,
     "metadata": {},
     "output_type": "execute_result"
    }
   ],
   "source": [
    "df"
   ]
  },
  {
   "cell_type": "code",
   "execution_count": 4,
   "id": "c898c9c6",
   "metadata": {
    "execution": {
     "iopub.execute_input": "2024-12-16T12:26:42.644812Z",
     "iopub.status.busy": "2024-12-16T12:26:42.644422Z",
     "iopub.status.idle": "2024-12-16T12:26:42.670436Z",
     "shell.execute_reply": "2024-12-16T12:26:42.669647Z"
    },
    "papermill": {
     "duration": 0.035463,
     "end_time": "2024-12-16T12:26:42.672710",
     "exception": false,
     "start_time": "2024-12-16T12:26:42.637247",
     "status": "completed"
    },
    "tags": []
   },
   "outputs": [],
   "source": [
    "#Removing Uneeded Columns\n",
    "df = df.drop('img', axis=1)\n",
    "df = df.drop('last_update', axis=1)"
   ]
  },
  {
   "cell_type": "code",
   "execution_count": 5,
   "id": "f73b8efa",
   "metadata": {
    "execution": {
     "iopub.execute_input": "2024-12-16T12:26:42.685994Z",
     "iopub.status.busy": "2024-12-16T12:26:42.685120Z",
     "iopub.status.idle": "2024-12-16T12:26:42.703651Z",
     "shell.execute_reply": "2024-12-16T12:26:42.702641Z"
    },
    "papermill": {
     "duration": 0.027393,
     "end_time": "2024-12-16T12:26:42.705763",
     "exception": false,
     "start_time": "2024-12-16T12:26:42.678370",
     "status": "completed"
    },
    "tags": []
   },
   "outputs": [
    {
     "data": {
      "text/html": [
       "<div>\n",
       "<style scoped>\n",
       "    .dataframe tbody tr th:only-of-type {\n",
       "        vertical-align: middle;\n",
       "    }\n",
       "\n",
       "    .dataframe tbody tr th {\n",
       "        vertical-align: top;\n",
       "    }\n",
       "\n",
       "    .dataframe thead th {\n",
       "        text-align: right;\n",
       "    }\n",
       "</style>\n",
       "<table border=\"1\" class=\"dataframe\">\n",
       "  <thead>\n",
       "    <tr style=\"text-align: right;\">\n",
       "      <th></th>\n",
       "      <th>title</th>\n",
       "      <th>console</th>\n",
       "      <th>genre</th>\n",
       "      <th>publisher</th>\n",
       "      <th>developer</th>\n",
       "      <th>critic_score</th>\n",
       "      <th>total_sales</th>\n",
       "      <th>na_sales</th>\n",
       "      <th>jp_sales</th>\n",
       "      <th>pal_sales</th>\n",
       "      <th>other_sales</th>\n",
       "      <th>release_date</th>\n",
       "    </tr>\n",
       "  </thead>\n",
       "  <tbody>\n",
       "    <tr>\n",
       "      <th>0</th>\n",
       "      <td>Grand Theft Auto V</td>\n",
       "      <td>PS3</td>\n",
       "      <td>Action</td>\n",
       "      <td>Rockstar Games</td>\n",
       "      <td>Rockstar North</td>\n",
       "      <td>9.4</td>\n",
       "      <td>20.32</td>\n",
       "      <td>6.37</td>\n",
       "      <td>0.99</td>\n",
       "      <td>9.85</td>\n",
       "      <td>3.12</td>\n",
       "      <td>2013-09-17</td>\n",
       "    </tr>\n",
       "    <tr>\n",
       "      <th>1</th>\n",
       "      <td>Grand Theft Auto V</td>\n",
       "      <td>PS4</td>\n",
       "      <td>Action</td>\n",
       "      <td>Rockstar Games</td>\n",
       "      <td>Rockstar North</td>\n",
       "      <td>9.7</td>\n",
       "      <td>19.39</td>\n",
       "      <td>6.06</td>\n",
       "      <td>0.60</td>\n",
       "      <td>9.71</td>\n",
       "      <td>3.02</td>\n",
       "      <td>2014-11-18</td>\n",
       "    </tr>\n",
       "    <tr>\n",
       "      <th>2</th>\n",
       "      <td>Grand Theft Auto: Vice City</td>\n",
       "      <td>PS2</td>\n",
       "      <td>Action</td>\n",
       "      <td>Rockstar Games</td>\n",
       "      <td>Rockstar North</td>\n",
       "      <td>9.6</td>\n",
       "      <td>16.15</td>\n",
       "      <td>8.41</td>\n",
       "      <td>0.47</td>\n",
       "      <td>5.49</td>\n",
       "      <td>1.78</td>\n",
       "      <td>2002-10-28</td>\n",
       "    </tr>\n",
       "    <tr>\n",
       "      <th>3</th>\n",
       "      <td>Grand Theft Auto V</td>\n",
       "      <td>X360</td>\n",
       "      <td>Action</td>\n",
       "      <td>Rockstar Games</td>\n",
       "      <td>Rockstar North</td>\n",
       "      <td>NaN</td>\n",
       "      <td>15.86</td>\n",
       "      <td>9.06</td>\n",
       "      <td>0.06</td>\n",
       "      <td>5.33</td>\n",
       "      <td>1.42</td>\n",
       "      <td>2013-09-17</td>\n",
       "    </tr>\n",
       "    <tr>\n",
       "      <th>4</th>\n",
       "      <td>Call of Duty: Black Ops 3</td>\n",
       "      <td>PS4</td>\n",
       "      <td>Shooter</td>\n",
       "      <td>Activision</td>\n",
       "      <td>Treyarch</td>\n",
       "      <td>8.1</td>\n",
       "      <td>15.09</td>\n",
       "      <td>6.18</td>\n",
       "      <td>0.41</td>\n",
       "      <td>6.05</td>\n",
       "      <td>2.44</td>\n",
       "      <td>2015-11-06</td>\n",
       "    </tr>\n",
       "    <tr>\n",
       "      <th>...</th>\n",
       "      <td>...</td>\n",
       "      <td>...</td>\n",
       "      <td>...</td>\n",
       "      <td>...</td>\n",
       "      <td>...</td>\n",
       "      <td>...</td>\n",
       "      <td>...</td>\n",
       "      <td>...</td>\n",
       "      <td>...</td>\n",
       "      <td>...</td>\n",
       "      <td>...</td>\n",
       "      <td>...</td>\n",
       "    </tr>\n",
       "    <tr>\n",
       "      <th>64011</th>\n",
       "      <td>XBlaze Lost: Memories</td>\n",
       "      <td>PC</td>\n",
       "      <td>Visual Novel</td>\n",
       "      <td>Aksys Games</td>\n",
       "      <td>Arc System Works</td>\n",
       "      <td>NaN</td>\n",
       "      <td>NaN</td>\n",
       "      <td>NaN</td>\n",
       "      <td>NaN</td>\n",
       "      <td>NaN</td>\n",
       "      <td>NaN</td>\n",
       "      <td>2016-08-11</td>\n",
       "    </tr>\n",
       "    <tr>\n",
       "      <th>64012</th>\n",
       "      <td>Yoru, Tomosu</td>\n",
       "      <td>PS4</td>\n",
       "      <td>Visual Novel</td>\n",
       "      <td>Nippon Ichi Software</td>\n",
       "      <td>Nippon Ichi Software</td>\n",
       "      <td>NaN</td>\n",
       "      <td>NaN</td>\n",
       "      <td>NaN</td>\n",
       "      <td>NaN</td>\n",
       "      <td>NaN</td>\n",
       "      <td>NaN</td>\n",
       "      <td>2020-07-30</td>\n",
       "    </tr>\n",
       "    <tr>\n",
       "      <th>64013</th>\n",
       "      <td>Yoru, Tomosu</td>\n",
       "      <td>NS</td>\n",
       "      <td>Visual Novel</td>\n",
       "      <td>Nippon Ichi Software</td>\n",
       "      <td>Nippon Ichi Software</td>\n",
       "      <td>NaN</td>\n",
       "      <td>NaN</td>\n",
       "      <td>NaN</td>\n",
       "      <td>NaN</td>\n",
       "      <td>NaN</td>\n",
       "      <td>NaN</td>\n",
       "      <td>2020-07-30</td>\n",
       "    </tr>\n",
       "    <tr>\n",
       "      <th>64014</th>\n",
       "      <td>Yunohana SpRING! ~Mellow Times~</td>\n",
       "      <td>NS</td>\n",
       "      <td>Visual Novel</td>\n",
       "      <td>Idea Factory</td>\n",
       "      <td>Otomate</td>\n",
       "      <td>NaN</td>\n",
       "      <td>NaN</td>\n",
       "      <td>NaN</td>\n",
       "      <td>NaN</td>\n",
       "      <td>NaN</td>\n",
       "      <td>NaN</td>\n",
       "      <td>2019-02-28</td>\n",
       "    </tr>\n",
       "    <tr>\n",
       "      <th>64015</th>\n",
       "      <td>Yurukill: The Calumniation Games</td>\n",
       "      <td>PS4</td>\n",
       "      <td>Visual Novel</td>\n",
       "      <td>Unknown</td>\n",
       "      <td>G.rev Ltd.</td>\n",
       "      <td>NaN</td>\n",
       "      <td>NaN</td>\n",
       "      <td>NaN</td>\n",
       "      <td>NaN</td>\n",
       "      <td>NaN</td>\n",
       "      <td>NaN</td>\n",
       "      <td>NaN</td>\n",
       "    </tr>\n",
       "  </tbody>\n",
       "</table>\n",
       "<p>64016 rows × 12 columns</p>\n",
       "</div>"
      ],
      "text/plain": [
       "                                  title console         genre  \\\n",
       "0                    Grand Theft Auto V     PS3        Action   \n",
       "1                    Grand Theft Auto V     PS4        Action   \n",
       "2           Grand Theft Auto: Vice City     PS2        Action   \n",
       "3                    Grand Theft Auto V    X360        Action   \n",
       "4             Call of Duty: Black Ops 3     PS4       Shooter   \n",
       "...                                 ...     ...           ...   \n",
       "64011             XBlaze Lost: Memories      PC  Visual Novel   \n",
       "64012                      Yoru, Tomosu     PS4  Visual Novel   \n",
       "64013                      Yoru, Tomosu      NS  Visual Novel   \n",
       "64014   Yunohana SpRING! ~Mellow Times~      NS  Visual Novel   \n",
       "64015  Yurukill: The Calumniation Games     PS4  Visual Novel   \n",
       "\n",
       "                  publisher             developer  critic_score  total_sales  \\\n",
       "0            Rockstar Games        Rockstar North           9.4        20.32   \n",
       "1            Rockstar Games        Rockstar North           9.7        19.39   \n",
       "2            Rockstar Games        Rockstar North           9.6        16.15   \n",
       "3            Rockstar Games        Rockstar North           NaN        15.86   \n",
       "4                Activision              Treyarch           8.1        15.09   \n",
       "...                     ...                   ...           ...          ...   \n",
       "64011           Aksys Games      Arc System Works           NaN          NaN   \n",
       "64012  Nippon Ichi Software  Nippon Ichi Software           NaN          NaN   \n",
       "64013  Nippon Ichi Software  Nippon Ichi Software           NaN          NaN   \n",
       "64014          Idea Factory               Otomate           NaN          NaN   \n",
       "64015               Unknown            G.rev Ltd.           NaN          NaN   \n",
       "\n",
       "       na_sales  jp_sales  pal_sales  other_sales release_date  \n",
       "0          6.37      0.99       9.85         3.12   2013-09-17  \n",
       "1          6.06      0.60       9.71         3.02   2014-11-18  \n",
       "2          8.41      0.47       5.49         1.78   2002-10-28  \n",
       "3          9.06      0.06       5.33         1.42   2013-09-17  \n",
       "4          6.18      0.41       6.05         2.44   2015-11-06  \n",
       "...         ...       ...        ...          ...          ...  \n",
       "64011       NaN       NaN        NaN          NaN   2016-08-11  \n",
       "64012       NaN       NaN        NaN          NaN   2020-07-30  \n",
       "64013       NaN       NaN        NaN          NaN   2020-07-30  \n",
       "64014       NaN       NaN        NaN          NaN   2019-02-28  \n",
       "64015       NaN       NaN        NaN          NaN          NaN  \n",
       "\n",
       "[64016 rows x 12 columns]"
      ]
     },
     "execution_count": 5,
     "metadata": {},
     "output_type": "execute_result"
    }
   ],
   "source": [
    "df"
   ]
  },
  {
   "cell_type": "code",
   "execution_count": 6,
   "id": "6ed4d89f",
   "metadata": {
    "execution": {
     "iopub.execute_input": "2024-12-16T12:26:42.720091Z",
     "iopub.status.busy": "2024-12-16T12:26:42.719713Z",
     "iopub.status.idle": "2024-12-16T12:26:42.748138Z",
     "shell.execute_reply": "2024-12-16T12:26:42.747127Z"
    },
    "papermill": {
     "duration": 0.038038,
     "end_time": "2024-12-16T12:26:42.750175",
     "exception": false,
     "start_time": "2024-12-16T12:26:42.712137",
     "status": "completed"
    },
    "tags": []
   },
   "outputs": [
    {
     "data": {
      "text/plain": [
       "title               0\n",
       "console             0\n",
       "genre               0\n",
       "publisher           0\n",
       "developer          17\n",
       "critic_score    57338\n",
       "total_sales     45094\n",
       "na_sales        51379\n",
       "jp_sales        57290\n",
       "pal_sales       51192\n",
       "other_sales     48888\n",
       "release_date     7051\n",
       "dtype: int64"
      ]
     },
     "execution_count": 6,
     "metadata": {},
     "output_type": "execute_result"
    }
   ],
   "source": [
    "#Checking Null Values\n",
    "df.isna().sum()"
   ]
  },
  {
   "cell_type": "code",
   "execution_count": 7,
   "id": "d7d7bbbc",
   "metadata": {
    "execution": {
     "iopub.execute_input": "2024-12-16T12:26:42.764848Z",
     "iopub.status.busy": "2024-12-16T12:26:42.764031Z",
     "iopub.status.idle": "2024-12-16T12:26:42.778898Z",
     "shell.execute_reply": "2024-12-16T12:26:42.778089Z"
    },
    "papermill": {
     "duration": 0.024642,
     "end_time": "2024-12-16T12:26:42.781140",
     "exception": false,
     "start_time": "2024-12-16T12:26:42.756498",
     "status": "completed"
    },
    "tags": []
   },
   "outputs": [],
   "source": [
    "#the number of missing rows is too large for removal, so we use interpolate to predict values based on a trendline. \n",
    "df['critic_score'] = df['critic_score'].interpolate()"
   ]
  },
  {
   "cell_type": "code",
   "execution_count": 8,
   "id": "8071abd6",
   "metadata": {
    "execution": {
     "iopub.execute_input": "2024-12-16T12:26:42.795342Z",
     "iopub.status.busy": "2024-12-16T12:26:42.794961Z",
     "iopub.status.idle": "2024-12-16T12:26:42.853141Z",
     "shell.execute_reply": "2024-12-16T12:26:42.852369Z"
    },
    "papermill": {
     "duration": 0.068035,
     "end_time": "2024-12-16T12:26:42.855485",
     "exception": false,
     "start_time": "2024-12-16T12:26:42.787450",
     "status": "completed"
    },
    "tags": []
   },
   "outputs": [],
   "source": [
    "df['total_sales'] = df['total_sales'].interpolate()\n",
    "df['na_sales'] = df['na_sales'].interpolate()\n",
    "df['jp_sales'] = df['jp_sales'].interpolate()\n",
    "df['pal_sales'] = df['pal_sales'].interpolate()\n",
    "df['other_sales'] = df['other_sales'].interpolate()"
   ]
  },
  {
   "cell_type": "code",
   "execution_count": 9,
   "id": "b5850844",
   "metadata": {
    "execution": {
     "iopub.execute_input": "2024-12-16T12:26:42.869938Z",
     "iopub.status.busy": "2024-12-16T12:26:42.869260Z",
     "iopub.status.idle": "2024-12-16T12:26:42.894715Z",
     "shell.execute_reply": "2024-12-16T12:26:42.893638Z"
    },
    "papermill": {
     "duration": 0.035194,
     "end_time": "2024-12-16T12:26:42.897134",
     "exception": false,
     "start_time": "2024-12-16T12:26:42.861940",
     "status": "completed"
    },
    "tags": []
   },
   "outputs": [],
   "source": [
    "#Some missing rows desingnated 'Unknown' weren't deleted by dropna() so we replaced these values with NaN to drop them.\n",
    "df['developer'] = df['developer'].replace(['unknown', ''], np.nan)\n",
    "df.dropna(subset=['developer'], inplace=True)\n"
   ]
  },
  {
   "cell_type": "code",
   "execution_count": 10,
   "id": "96844db8",
   "metadata": {
    "execution": {
     "iopub.execute_input": "2024-12-16T12:26:42.911373Z",
     "iopub.status.busy": "2024-12-16T12:26:42.910525Z",
     "iopub.status.idle": "2024-12-16T12:26:42.933980Z",
     "shell.execute_reply": "2024-12-16T12:26:42.933192Z"
    },
    "papermill": {
     "duration": 0.032602,
     "end_time": "2024-12-16T12:26:42.936075",
     "exception": false,
     "start_time": "2024-12-16T12:26:42.903473",
     "status": "completed"
    },
    "tags": []
   },
   "outputs": [],
   "source": [
    "df['release_date'] = df['release_date'].replace(['unknown', ''], np.nan)\n",
    "df.dropna(subset=['release_date'], inplace=True)"
   ]
  },
  {
   "cell_type": "code",
   "execution_count": 11,
   "id": "40598da3",
   "metadata": {
    "execution": {
     "iopub.execute_input": "2024-12-16T12:26:42.950071Z",
     "iopub.status.busy": "2024-12-16T12:26:42.949451Z",
     "iopub.status.idle": "2024-12-16T12:26:42.976339Z",
     "shell.execute_reply": "2024-12-16T12:26:42.975201Z"
    },
    "papermill": {
     "duration": 0.03634,
     "end_time": "2024-12-16T12:26:42.978664",
     "exception": false,
     "start_time": "2024-12-16T12:26:42.942324",
     "status": "completed"
    },
    "tags": []
   },
   "outputs": [
    {
     "data": {
      "text/plain": [
       "title           0\n",
       "console         0\n",
       "genre           0\n",
       "publisher       0\n",
       "developer       0\n",
       "critic_score    0\n",
       "total_sales     0\n",
       "na_sales        0\n",
       "jp_sales        0\n",
       "pal_sales       0\n",
       "other_sales     0\n",
       "release_date    0\n",
       "dtype: int64"
      ]
     },
     "execution_count": 11,
     "metadata": {},
     "output_type": "execute_result"
    }
   ],
   "source": [
    "#Missing Values Handled\n",
    "df.isna().sum()"
   ]
  },
  {
   "cell_type": "code",
   "execution_count": 12,
   "id": "6ee7e043",
   "metadata": {
    "execution": {
     "iopub.execute_input": "2024-12-16T12:26:42.993622Z",
     "iopub.status.busy": "2024-12-16T12:26:42.992888Z",
     "iopub.status.idle": "2024-12-16T12:26:43.054765Z",
     "shell.execute_reply": "2024-12-16T12:26:43.053708Z"
    },
    "papermill": {
     "duration": 0.071756,
     "end_time": "2024-12-16T12:26:43.057046",
     "exception": false,
     "start_time": "2024-12-16T12:26:42.985290",
     "status": "completed"
    },
    "tags": []
   },
   "outputs": [],
   "source": [
    "#Checking and Removing Duplicated Values\n",
    "df = df.drop_duplicates()"
   ]
  },
  {
   "cell_type": "code",
   "execution_count": 13,
   "id": "525ea996",
   "metadata": {
    "execution": {
     "iopub.execute_input": "2024-12-16T12:26:43.070655Z",
     "iopub.status.busy": "2024-12-16T12:26:43.070267Z",
     "iopub.status.idle": "2024-12-16T12:26:43.120044Z",
     "shell.execute_reply": "2024-12-16T12:26:43.119022Z"
    },
    "papermill": {
     "duration": 0.058824,
     "end_time": "2024-12-16T12:26:43.122099",
     "exception": false,
     "start_time": "2024-12-16T12:26:43.063275",
     "status": "completed"
    },
    "tags": []
   },
   "outputs": [
    {
     "data": {
      "text/plain": [
       "0"
      ]
     },
     "execution_count": 13,
     "metadata": {},
     "output_type": "execute_result"
    }
   ],
   "source": [
    "df.duplicated().sum()"
   ]
  },
  {
   "cell_type": "code",
   "execution_count": 14,
   "id": "917a37e9",
   "metadata": {
    "execution": {
     "iopub.execute_input": "2024-12-16T12:26:43.136978Z",
     "iopub.status.busy": "2024-12-16T12:26:43.136131Z",
     "iopub.status.idle": "2024-12-16T12:26:43.146099Z",
     "shell.execute_reply": "2024-12-16T12:26:43.145112Z"
    },
    "papermill": {
     "duration": 0.019467,
     "end_time": "2024-12-16T12:26:43.148177",
     "exception": false,
     "start_time": "2024-12-16T12:26:43.128710",
     "status": "completed"
    },
    "tags": []
   },
   "outputs": [],
   "source": [
    "#Renaming Column Names to be more consistent\n",
    "df = df.rename(columns = {'title':'Name', 'console':'Platform', 'genre':'Genre', 'publisher':'Publisher', 'developer':'Developer', 'critic_score':'Critic_Score', 'total_sales':'Global_Sales','na_sales':'NA_Sales','jp_sales':'JP_Sales','pal_sales':'PAL_Sales','other_sales':'Foreign_Sales','release_date':'Released'})"
   ]
  },
  {
   "cell_type": "code",
   "execution_count": 15,
   "id": "19097f2c",
   "metadata": {
    "execution": {
     "iopub.execute_input": "2024-12-16T12:26:43.161982Z",
     "iopub.status.busy": "2024-12-16T12:26:43.161632Z",
     "iopub.status.idle": "2024-12-16T12:26:43.172592Z",
     "shell.execute_reply": "2024-12-16T12:26:43.171580Z"
    },
    "papermill": {
     "duration": 0.020072,
     "end_time": "2024-12-16T12:26:43.174726",
     "exception": false,
     "start_time": "2024-12-16T12:26:43.154654",
     "status": "completed"
    },
    "tags": []
   },
   "outputs": [],
   "source": [
    "#Some names are part of the same company, we replace is used to keep things consistent.\n",
    "df['Publisher'] = df['Publisher'].replace({'Microsoft Studios': 'Microsoft Game Studios'})"
   ]
  },
  {
   "cell_type": "code",
   "execution_count": 16,
   "id": "4a61a956",
   "metadata": {
    "execution": {
     "iopub.execute_input": "2024-12-16T12:26:43.189710Z",
     "iopub.status.busy": "2024-12-16T12:26:43.188943Z",
     "iopub.status.idle": "2024-12-16T12:26:43.207285Z",
     "shell.execute_reply": "2024-12-16T12:26:43.206337Z"
    },
    "papermill": {
     "duration": 0.028005,
     "end_time": "2024-12-16T12:26:43.209287",
     "exception": false,
     "start_time": "2024-12-16T12:26:43.181282",
     "status": "completed"
    },
    "tags": []
   },
   "outputs": [
    {
     "data": {
      "text/html": [
       "<div>\n",
       "<style scoped>\n",
       "    .dataframe tbody tr th:only-of-type {\n",
       "        vertical-align: middle;\n",
       "    }\n",
       "\n",
       "    .dataframe tbody tr th {\n",
       "        vertical-align: top;\n",
       "    }\n",
       "\n",
       "    .dataframe thead th {\n",
       "        text-align: right;\n",
       "    }\n",
       "</style>\n",
       "<table border=\"1\" class=\"dataframe\">\n",
       "  <thead>\n",
       "    <tr style=\"text-align: right;\">\n",
       "      <th></th>\n",
       "      <th>Name</th>\n",
       "      <th>Platform</th>\n",
       "      <th>Genre</th>\n",
       "      <th>Publisher</th>\n",
       "      <th>Developer</th>\n",
       "      <th>Critic_Score</th>\n",
       "      <th>Global_Sales</th>\n",
       "      <th>NA_Sales</th>\n",
       "      <th>JP_Sales</th>\n",
       "      <th>PAL_Sales</th>\n",
       "      <th>Foreign_Sales</th>\n",
       "      <th>Released</th>\n",
       "    </tr>\n",
       "  </thead>\n",
       "  <tbody>\n",
       "    <tr>\n",
       "      <th>0</th>\n",
       "      <td>Grand Theft Auto V</td>\n",
       "      <td>PS3</td>\n",
       "      <td>Action</td>\n",
       "      <td>Rockstar Games</td>\n",
       "      <td>Rockstar North</td>\n",
       "      <td>9.40</td>\n",
       "      <td>20.32</td>\n",
       "      <td>6.37</td>\n",
       "      <td>0.99</td>\n",
       "      <td>9.85</td>\n",
       "      <td>3.12</td>\n",
       "      <td>2013-09-17</td>\n",
       "    </tr>\n",
       "    <tr>\n",
       "      <th>1</th>\n",
       "      <td>Grand Theft Auto V</td>\n",
       "      <td>PS4</td>\n",
       "      <td>Action</td>\n",
       "      <td>Rockstar Games</td>\n",
       "      <td>Rockstar North</td>\n",
       "      <td>9.70</td>\n",
       "      <td>19.39</td>\n",
       "      <td>6.06</td>\n",
       "      <td>0.60</td>\n",
       "      <td>9.71</td>\n",
       "      <td>3.02</td>\n",
       "      <td>2014-11-18</td>\n",
       "    </tr>\n",
       "    <tr>\n",
       "      <th>2</th>\n",
       "      <td>Grand Theft Auto: Vice City</td>\n",
       "      <td>PS2</td>\n",
       "      <td>Action</td>\n",
       "      <td>Rockstar Games</td>\n",
       "      <td>Rockstar North</td>\n",
       "      <td>9.60</td>\n",
       "      <td>16.15</td>\n",
       "      <td>8.41</td>\n",
       "      <td>0.47</td>\n",
       "      <td>5.49</td>\n",
       "      <td>1.78</td>\n",
       "      <td>2002-10-28</td>\n",
       "    </tr>\n",
       "    <tr>\n",
       "      <th>3</th>\n",
       "      <td>Grand Theft Auto V</td>\n",
       "      <td>X360</td>\n",
       "      <td>Action</td>\n",
       "      <td>Rockstar Games</td>\n",
       "      <td>Rockstar North</td>\n",
       "      <td>8.85</td>\n",
       "      <td>15.86</td>\n",
       "      <td>9.06</td>\n",
       "      <td>0.06</td>\n",
       "      <td>5.33</td>\n",
       "      <td>1.42</td>\n",
       "      <td>2013-09-17</td>\n",
       "    </tr>\n",
       "    <tr>\n",
       "      <th>4</th>\n",
       "      <td>Call of Duty: Black Ops 3</td>\n",
       "      <td>PS4</td>\n",
       "      <td>Shooter</td>\n",
       "      <td>Activision</td>\n",
       "      <td>Treyarch</td>\n",
       "      <td>8.10</td>\n",
       "      <td>15.09</td>\n",
       "      <td>6.18</td>\n",
       "      <td>0.41</td>\n",
       "      <td>6.05</td>\n",
       "      <td>2.44</td>\n",
       "      <td>2015-11-06</td>\n",
       "    </tr>\n",
       "    <tr>\n",
       "      <th>...</th>\n",
       "      <td>...</td>\n",
       "      <td>...</td>\n",
       "      <td>...</td>\n",
       "      <td>...</td>\n",
       "      <td>...</td>\n",
       "      <td>...</td>\n",
       "      <td>...</td>\n",
       "      <td>...</td>\n",
       "      <td>...</td>\n",
       "      <td>...</td>\n",
       "      <td>...</td>\n",
       "      <td>...</td>\n",
       "    </tr>\n",
       "    <tr>\n",
       "      <th>64010</th>\n",
       "      <td>World End Syndrome</td>\n",
       "      <td>PS4</td>\n",
       "      <td>Visual Novel</td>\n",
       "      <td>Arc System Works</td>\n",
       "      <td>Arc System Works</td>\n",
       "      <td>8.00</td>\n",
       "      <td>0.00</td>\n",
       "      <td>0.00</td>\n",
       "      <td>0.00</td>\n",
       "      <td>0.00</td>\n",
       "      <td>0.00</td>\n",
       "      <td>2018-04-26</td>\n",
       "    </tr>\n",
       "    <tr>\n",
       "      <th>64011</th>\n",
       "      <td>XBlaze Lost: Memories</td>\n",
       "      <td>PC</td>\n",
       "      <td>Visual Novel</td>\n",
       "      <td>Aksys Games</td>\n",
       "      <td>Arc System Works</td>\n",
       "      <td>8.00</td>\n",
       "      <td>0.00</td>\n",
       "      <td>0.00</td>\n",
       "      <td>0.00</td>\n",
       "      <td>0.00</td>\n",
       "      <td>0.00</td>\n",
       "      <td>2016-08-11</td>\n",
       "    </tr>\n",
       "    <tr>\n",
       "      <th>64012</th>\n",
       "      <td>Yoru, Tomosu</td>\n",
       "      <td>PS4</td>\n",
       "      <td>Visual Novel</td>\n",
       "      <td>Nippon Ichi Software</td>\n",
       "      <td>Nippon Ichi Software</td>\n",
       "      <td>8.00</td>\n",
       "      <td>0.00</td>\n",
       "      <td>0.00</td>\n",
       "      <td>0.00</td>\n",
       "      <td>0.00</td>\n",
       "      <td>0.00</td>\n",
       "      <td>2020-07-30</td>\n",
       "    </tr>\n",
       "    <tr>\n",
       "      <th>64013</th>\n",
       "      <td>Yoru, Tomosu</td>\n",
       "      <td>NS</td>\n",
       "      <td>Visual Novel</td>\n",
       "      <td>Nippon Ichi Software</td>\n",
       "      <td>Nippon Ichi Software</td>\n",
       "      <td>8.00</td>\n",
       "      <td>0.00</td>\n",
       "      <td>0.00</td>\n",
       "      <td>0.00</td>\n",
       "      <td>0.00</td>\n",
       "      <td>0.00</td>\n",
       "      <td>2020-07-30</td>\n",
       "    </tr>\n",
       "    <tr>\n",
       "      <th>64014</th>\n",
       "      <td>Yunohana SpRING! ~Mellow Times~</td>\n",
       "      <td>NS</td>\n",
       "      <td>Visual Novel</td>\n",
       "      <td>Idea Factory</td>\n",
       "      <td>Otomate</td>\n",
       "      <td>8.00</td>\n",
       "      <td>0.00</td>\n",
       "      <td>0.00</td>\n",
       "      <td>0.00</td>\n",
       "      <td>0.00</td>\n",
       "      <td>0.00</td>\n",
       "      <td>2019-02-28</td>\n",
       "    </tr>\n",
       "  </tbody>\n",
       "</table>\n",
       "<p>56954 rows × 12 columns</p>\n",
       "</div>"
      ],
      "text/plain": [
       "                                  Name Platform         Genre  \\\n",
       "0                   Grand Theft Auto V      PS3        Action   \n",
       "1                   Grand Theft Auto V      PS4        Action   \n",
       "2          Grand Theft Auto: Vice City      PS2        Action   \n",
       "3                   Grand Theft Auto V     X360        Action   \n",
       "4            Call of Duty: Black Ops 3      PS4       Shooter   \n",
       "...                                ...      ...           ...   \n",
       "64010               World End Syndrome      PS4  Visual Novel   \n",
       "64011            XBlaze Lost: Memories       PC  Visual Novel   \n",
       "64012                     Yoru, Tomosu      PS4  Visual Novel   \n",
       "64013                     Yoru, Tomosu       NS  Visual Novel   \n",
       "64014  Yunohana SpRING! ~Mellow Times~       NS  Visual Novel   \n",
       "\n",
       "                  Publisher             Developer  Critic_Score  Global_Sales  \\\n",
       "0            Rockstar Games        Rockstar North          9.40         20.32   \n",
       "1            Rockstar Games        Rockstar North          9.70         19.39   \n",
       "2            Rockstar Games        Rockstar North          9.60         16.15   \n",
       "3            Rockstar Games        Rockstar North          8.85         15.86   \n",
       "4                Activision              Treyarch          8.10         15.09   \n",
       "...                     ...                   ...           ...           ...   \n",
       "64010      Arc System Works      Arc System Works          8.00          0.00   \n",
       "64011           Aksys Games      Arc System Works          8.00          0.00   \n",
       "64012  Nippon Ichi Software  Nippon Ichi Software          8.00          0.00   \n",
       "64013  Nippon Ichi Software  Nippon Ichi Software          8.00          0.00   \n",
       "64014          Idea Factory               Otomate          8.00          0.00   \n",
       "\n",
       "       NA_Sales  JP_Sales  PAL_Sales  Foreign_Sales    Released  \n",
       "0          6.37      0.99       9.85           3.12  2013-09-17  \n",
       "1          6.06      0.60       9.71           3.02  2014-11-18  \n",
       "2          8.41      0.47       5.49           1.78  2002-10-28  \n",
       "3          9.06      0.06       5.33           1.42  2013-09-17  \n",
       "4          6.18      0.41       6.05           2.44  2015-11-06  \n",
       "...         ...       ...        ...            ...         ...  \n",
       "64010      0.00      0.00       0.00           0.00  2018-04-26  \n",
       "64011      0.00      0.00       0.00           0.00  2016-08-11  \n",
       "64012      0.00      0.00       0.00           0.00  2020-07-30  \n",
       "64013      0.00      0.00       0.00           0.00  2020-07-30  \n",
       "64014      0.00      0.00       0.00           0.00  2019-02-28  \n",
       "\n",
       "[56954 rows x 12 columns]"
      ]
     },
     "execution_count": 16,
     "metadata": {},
     "output_type": "execute_result"
    }
   ],
   "source": [
    "df"
   ]
  },
  {
   "cell_type": "code",
   "execution_count": 17,
   "id": "94155e3b",
   "metadata": {
    "execution": {
     "iopub.execute_input": "2024-12-16T12:26:43.224895Z",
     "iopub.status.busy": "2024-12-16T12:26:43.223869Z",
     "iopub.status.idle": "2024-12-16T12:26:43.247559Z",
     "shell.execute_reply": "2024-12-16T12:26:43.246724Z"
    },
    "papermill": {
     "duration": 0.033836,
     "end_time": "2024-12-16T12:26:43.249896",
     "exception": false,
     "start_time": "2024-12-16T12:26:43.216060",
     "status": "completed"
    },
    "tags": []
   },
   "outputs": [],
   "source": [
    "#Identifying Top 5 Games by Global Sales\n",
    "df1 = df.sort_values(by='Global_Sales', ascending=False)[['Name', 'Platform' ,'Global_Sales']]"
   ]
  },
  {
   "cell_type": "code",
   "execution_count": 18,
   "id": "c0318bdf",
   "metadata": {
    "execution": {
     "iopub.execute_input": "2024-12-16T12:26:43.265536Z",
     "iopub.status.busy": "2024-12-16T12:26:43.264576Z",
     "iopub.status.idle": "2024-12-16T12:26:43.275296Z",
     "shell.execute_reply": "2024-12-16T12:26:43.274210Z"
    },
    "papermill": {
     "duration": 0.020798,
     "end_time": "2024-12-16T12:26:43.277615",
     "exception": false,
     "start_time": "2024-12-16T12:26:43.256817",
     "status": "completed"
    },
    "tags": []
   },
   "outputs": [
    {
     "data": {
      "text/html": [
       "<div>\n",
       "<style scoped>\n",
       "    .dataframe tbody tr th:only-of-type {\n",
       "        vertical-align: middle;\n",
       "    }\n",
       "\n",
       "    .dataframe tbody tr th {\n",
       "        vertical-align: top;\n",
       "    }\n",
       "\n",
       "    .dataframe thead th {\n",
       "        text-align: right;\n",
       "    }\n",
       "</style>\n",
       "<table border=\"1\" class=\"dataframe\">\n",
       "  <thead>\n",
       "    <tr style=\"text-align: right;\">\n",
       "      <th></th>\n",
       "      <th>Name</th>\n",
       "      <th>Platform</th>\n",
       "      <th>Global_Sales</th>\n",
       "    </tr>\n",
       "  </thead>\n",
       "  <tbody>\n",
       "    <tr>\n",
       "      <th>0</th>\n",
       "      <td>Grand Theft Auto V</td>\n",
       "      <td>PS3</td>\n",
       "      <td>20.32</td>\n",
       "    </tr>\n",
       "    <tr>\n",
       "      <th>1</th>\n",
       "      <td>Grand Theft Auto V</td>\n",
       "      <td>PS4</td>\n",
       "      <td>19.39</td>\n",
       "    </tr>\n",
       "    <tr>\n",
       "      <th>2</th>\n",
       "      <td>Grand Theft Auto: Vice City</td>\n",
       "      <td>PS2</td>\n",
       "      <td>16.15</td>\n",
       "    </tr>\n",
       "    <tr>\n",
       "      <th>3</th>\n",
       "      <td>Grand Theft Auto V</td>\n",
       "      <td>X360</td>\n",
       "      <td>15.86</td>\n",
       "    </tr>\n",
       "    <tr>\n",
       "      <th>4</th>\n",
       "      <td>Call of Duty: Black Ops 3</td>\n",
       "      <td>PS4</td>\n",
       "      <td>15.09</td>\n",
       "    </tr>\n",
       "  </tbody>\n",
       "</table>\n",
       "</div>"
      ],
      "text/plain": [
       "                          Name Platform  Global_Sales\n",
       "0           Grand Theft Auto V      PS3         20.32\n",
       "1           Grand Theft Auto V      PS4         19.39\n",
       "2  Grand Theft Auto: Vice City      PS2         16.15\n",
       "3           Grand Theft Auto V     X360         15.86\n",
       "4    Call of Duty: Black Ops 3      PS4         15.09"
      ]
     },
     "execution_count": 18,
     "metadata": {},
     "output_type": "execute_result"
    }
   ],
   "source": [
    "df1.head()"
   ]
  },
  {
   "cell_type": "code",
   "execution_count": 19,
   "id": "c7253ebe",
   "metadata": {
    "execution": {
     "iopub.execute_input": "2024-12-16T12:26:43.293714Z",
     "iopub.status.busy": "2024-12-16T12:26:43.292907Z",
     "iopub.status.idle": "2024-12-16T12:26:43.323278Z",
     "shell.execute_reply": "2024-12-16T12:26:43.322213Z"
    },
    "papermill": {
     "duration": 0.040963,
     "end_time": "2024-12-16T12:26:43.325667",
     "exception": false,
     "start_time": "2024-12-16T12:26:43.284704",
     "status": "completed"
    },
    "tags": []
   },
   "outputs": [],
   "source": [
    "df1['Name_Platform'] = df1['Name'] + ' (' + df1['Platform'] + ')'\n",
    "x = df1['Name_Platform'].head()\n",
    "y = df1['Global_Sales'].head()"
   ]
  },
  {
   "cell_type": "code",
   "execution_count": 20,
   "id": "a4463cc3",
   "metadata": {
    "execution": {
     "iopub.execute_input": "2024-12-16T12:26:43.341042Z",
     "iopub.status.busy": "2024-12-16T12:26:43.340159Z",
     "iopub.status.idle": "2024-12-16T12:26:43.621029Z",
     "shell.execute_reply": "2024-12-16T12:26:43.620034Z"
    },
    "papermill": {
     "duration": 0.290568,
     "end_time": "2024-12-16T12:26:43.623104",
     "exception": false,
     "start_time": "2024-12-16T12:26:43.332536",
     "status": "completed"
    },
    "tags": []
   },
   "outputs": [
    {
     "data": {
      "text/plain": [
       "<BarContainer object of 5 artists>"
      ]
     },
     "execution_count": 20,
     "metadata": {},
     "output_type": "execute_result"
    },
    {
     "data": {
      "image/png": "[encoded data removed]",
      "text/plain": [
       "<Figure size 1000x600 with 1 Axes>"
      ]
     },
     "metadata": {},
     "output_type": "display_data"
    }
   ],
   "source": [
    "plt.figure(figsize=(10, 6))\n",
    "plt.barh(x, y, color='skyblue')\n"
   ]
  },
  {
   "cell_type": "code",
   "execution_count": 21,
   "id": "aedc9fb8",
   "metadata": {
    "execution": {
     "iopub.execute_input": "2024-12-16T12:26:43.640074Z",
     "iopub.status.busy": "2024-12-16T12:26:43.639197Z",
     "iopub.status.idle": "2024-12-16T12:26:43.645131Z",
     "shell.execute_reply": "2024-12-16T12:26:43.644384Z"
    },
    "papermill": {
     "duration": 0.016547,
     "end_time": "2024-12-16T12:26:43.647149",
     "exception": false,
     "start_time": "2024-12-16T12:26:43.630602",
     "status": "completed"
    },
    "tags": []
   },
   "outputs": [],
   "source": [
    "#Identifying Top Publishers based on Global Sales\n",
    "df2 = df[['Publisher', 'Global_Sales']]"
   ]
  },
  {
   "cell_type": "code",
   "execution_count": 22,
   "id": "baa45f4d",
   "metadata": {
    "execution": {
     "iopub.execute_input": "2024-12-16T12:26:43.663544Z",
     "iopub.status.busy": "2024-12-16T12:26:43.662906Z",
     "iopub.status.idle": "2024-12-16T12:26:43.674094Z",
     "shell.execute_reply": "2024-12-16T12:26:43.673097Z"
    },
    "papermill": {
     "duration": 0.021595,
     "end_time": "2024-12-16T12:26:43.676120",
     "exception": false,
     "start_time": "2024-12-16T12:26:43.654525",
     "status": "completed"
    },
    "tags": []
   },
   "outputs": [
    {
     "data": {
      "text/html": [
       "<div>\n",
       "<style scoped>\n",
       "    .dataframe tbody tr th:only-of-type {\n",
       "        vertical-align: middle;\n",
       "    }\n",
       "\n",
       "    .dataframe tbody tr th {\n",
       "        vertical-align: top;\n",
       "    }\n",
       "\n",
       "    .dataframe thead th {\n",
       "        text-align: right;\n",
       "    }\n",
       "</style>\n",
       "<table border=\"1\" class=\"dataframe\">\n",
       "  <thead>\n",
       "    <tr style=\"text-align: right;\">\n",
       "      <th></th>\n",
       "      <th>Publisher</th>\n",
       "      <th>Global_Sales</th>\n",
       "    </tr>\n",
       "  </thead>\n",
       "  <tbody>\n",
       "    <tr>\n",
       "      <th>0</th>\n",
       "      <td>Rockstar Games</td>\n",
       "      <td>20.32</td>\n",
       "    </tr>\n",
       "    <tr>\n",
       "      <th>1</th>\n",
       "      <td>Rockstar Games</td>\n",
       "      <td>19.39</td>\n",
       "    </tr>\n",
       "    <tr>\n",
       "      <th>2</th>\n",
       "      <td>Rockstar Games</td>\n",
       "      <td>16.15</td>\n",
       "    </tr>\n",
       "    <tr>\n",
       "      <th>3</th>\n",
       "      <td>Rockstar Games</td>\n",
       "      <td>15.86</td>\n",
       "    </tr>\n",
       "    <tr>\n",
       "      <th>4</th>\n",
       "      <td>Activision</td>\n",
       "      <td>15.09</td>\n",
       "    </tr>\n",
       "    <tr>\n",
       "      <th>...</th>\n",
       "      <td>...</td>\n",
       "      <td>...</td>\n",
       "    </tr>\n",
       "    <tr>\n",
       "      <th>64010</th>\n",
       "      <td>Arc System Works</td>\n",
       "      <td>0.00</td>\n",
       "    </tr>\n",
       "    <tr>\n",
       "      <th>64011</th>\n",
       "      <td>Aksys Games</td>\n",
       "      <td>0.00</td>\n",
       "    </tr>\n",
       "    <tr>\n",
       "      <th>64012</th>\n",
       "      <td>Nippon Ichi Software</td>\n",
       "      <td>0.00</td>\n",
       "    </tr>\n",
       "    <tr>\n",
       "      <th>64013</th>\n",
       "      <td>Nippon Ichi Software</td>\n",
       "      <td>0.00</td>\n",
       "    </tr>\n",
       "    <tr>\n",
       "      <th>64014</th>\n",
       "      <td>Idea Factory</td>\n",
       "      <td>0.00</td>\n",
       "    </tr>\n",
       "  </tbody>\n",
       "</table>\n",
       "<p>56954 rows × 2 columns</p>\n",
       "</div>"
      ],
      "text/plain": [
       "                  Publisher  Global_Sales\n",
       "0            Rockstar Games         20.32\n",
       "1            Rockstar Games         19.39\n",
       "2            Rockstar Games         16.15\n",
       "3            Rockstar Games         15.86\n",
       "4                Activision         15.09\n",
       "...                     ...           ...\n",
       "64010      Arc System Works          0.00\n",
       "64011           Aksys Games          0.00\n",
       "64012  Nippon Ichi Software          0.00\n",
       "64013  Nippon Ichi Software          0.00\n",
       "64014          Idea Factory          0.00\n",
       "\n",
       "[56954 rows x 2 columns]"
      ]
     },
     "execution_count": 22,
     "metadata": {},
     "output_type": "execute_result"
    }
   ],
   "source": [
    "df2"
   ]
  },
  {
   "cell_type": "code",
   "execution_count": 23,
   "id": "283c2453",
   "metadata": {
    "execution": {
     "iopub.execute_input": "2024-12-16T12:26:43.692611Z",
     "iopub.status.busy": "2024-12-16T12:26:43.692210Z",
     "iopub.status.idle": "2024-12-16T12:26:43.968710Z",
     "shell.execute_reply": "2024-12-16T12:26:43.967730Z"
    },
    "papermill": {
     "duration": 0.287335,
     "end_time": "2024-12-16T12:26:43.971069",
     "exception": false,
     "start_time": "2024-12-16T12:26:43.683734",
     "status": "completed"
    },
    "tags": []
   },
   "outputs": [
    {
     "data": {
      "text/plain": [
       "<BarContainer object of 30 artists>"
      ]
     },
     "execution_count": 23,
     "metadata": {},
     "output_type": "execute_result"
    },
    {
     "data": {
      "image/png": "[encoded data removed]",
      "text/plain": [
       "<Figure size 640x480 with 1 Axes>"
      ]
     },
     "metadata": {},
     "output_type": "display_data"
    }
   ],
   "source": [
    "x = df2['Publisher'].head(30)\n",
    "y = df2['Global_Sales'].head(30)\n",
    "plt.barh(x,y)"
   ]
  },
  {
   "cell_type": "code",
   "execution_count": 24,
   "id": "ba42de6a",
   "metadata": {
    "execution": {
     "iopub.execute_input": "2024-12-16T12:26:43.989834Z",
     "iopub.status.busy": "2024-12-16T12:26:43.989063Z",
     "iopub.status.idle": "2024-12-16T12:26:43.995772Z",
     "shell.execute_reply": "2024-12-16T12:26:43.994849Z"
    },
    "papermill": {
     "duration": 0.018442,
     "end_time": "2024-12-16T12:26:43.997898",
     "exception": false,
     "start_time": "2024-12-16T12:26:43.979456",
     "status": "completed"
    },
    "tags": []
   },
   "outputs": [],
   "source": [
    "#using a Pie Chart to display how each region make up of Global Sales in Percentage\n",
    "region_totals = {\n",
    "    \"NA\": df[\"NA_Sales\"].sum(),\n",
    "    \"JP\": df[\"JP_Sales\"].sum(),\n",
    "    \"PAL\": df[\"PAL_Sales\"].sum(),\n",
    "    \"Foreign\": df[\"Foreign_Sales\"].sum(),\n",
    "}"
   ]
  },
  {
   "cell_type": "code",
   "execution_count": 25,
   "id": "e413594b",
   "metadata": {
    "execution": {
     "iopub.execute_input": "2024-12-16T12:26:44.016915Z",
     "iopub.status.busy": "2024-12-16T12:26:44.016021Z",
     "iopub.status.idle": "2024-12-16T12:26:44.020465Z",
     "shell.execute_reply": "2024-12-16T12:26:44.019621Z"
    },
    "papermill": {
     "duration": 0.015783,
     "end_time": "2024-12-16T12:26:44.022242",
     "exception": false,
     "start_time": "2024-12-16T12:26:44.006459",
     "status": "completed"
    },
    "tags": []
   },
   "outputs": [],
   "source": [
    "regions = list(region_totals.keys())\n",
    "sales = list(region_totals.values())"
   ]
  },
  {
   "cell_type": "code",
   "execution_count": 26,
   "id": "4dedff97",
   "metadata": {
    "execution": {
     "iopub.execute_input": "2024-12-16T12:26:44.040097Z",
     "iopub.status.busy": "2024-12-16T12:26:44.039757Z",
     "iopub.status.idle": "2024-12-16T12:26:44.201343Z",
     "shell.execute_reply": "2024-12-16T12:26:44.200003Z"
    },
    "papermill": {
     "duration": 0.175215,
     "end_time": "2024-12-16T12:26:44.205758",
     "exception": false,
     "start_time": "2024-12-16T12:26:44.030543",
     "status": "completed"
    },
    "tags": []
   },
   "outputs": [
    {
     "data": {
      "image/png": "[encoded data removed]",
      "text/plain": [
       "<Figure size 600x600 with 1 Axes>"
      ]
     },
     "metadata": {},
     "output_type": "display_data"
    }
   ],
   "source": [
    "plt.figure(figsize=(6, 6))\n",
    "plt.pie(sales, labels=regions, autopct='%1.1f%%', startangle=90)\n",
    "plt.title(\"Percentage Contribution of Each Region to Global Sales\")\n",
    "plt.show()"
   ]
  },
  {
   "cell_type": "code",
   "execution_count": 27,
   "id": "9804a7e5",
   "metadata": {
    "execution": {
     "iopub.execute_input": "2024-12-16T12:26:44.252546Z",
     "iopub.status.busy": "2024-12-16T12:26:44.251744Z",
     "iopub.status.idle": "2024-12-16T12:26:44.683528Z",
     "shell.execute_reply": "2024-12-16T12:26:44.682703Z"
    },
    "papermill": {
     "duration": 0.455869,
     "end_time": "2024-12-16T12:26:44.685860",
     "exception": false,
     "start_time": "2024-12-16T12:26:44.229991",
     "status": "completed"
    },
    "tags": []
   },
   "outputs": [],
   "source": [
    "#Saving Updated Dataset for Later Examinations\n",
    "df.to_csv(\"updated_dataset.csv\", index=False)"
   ]
  },
  {
   "cell_type": "code",
   "execution_count": null,
   "id": "bc35a5fa",
   "metadata": {
    "papermill": {
     "duration": 0.008456,
     "end_time": "2024-12-16T12:26:44.703111",
     "exception": false,
     "start_time": "2024-12-16T12:26:44.694655",
     "status": "completed"
    },
    "tags": []
   },
   "outputs": [],
   "source": []
  }
 ],
 "metadata": {
  "kaggle": {
   "accelerator": "none",
   "dataSources": [
    {
     "datasetId": 4371999,
     "sourceId": 7507070,
     "sourceType": "datasetVersion"
    }
   ],
   "dockerImageVersionId": 30804,
   "isGpuEnabled": false,
   "isInternetEnabled": false,
   "language": "python",
   "sourceType": "notebook"
  },
  "kernelspec": {
   "display_name": "Python 3",
   "language": "python",
   "name": "python3"
  },
  "language_info": {
   "codemirror_mode": {
    "name": "ipython",
    "version": 3
   },
   "file_extension": ".py",
   "mimetype": "text/x-python",
   "name": "python",
   "nbconvert_exporter": "python",
   "pygments_lexer": "ipython3",
   "version": "3.10.14"
  },
  "papermill": {
   "default_parameters": {},
   "duration": 6.636618,
   "end_time": "2024-12-16T12:26:45.232245",
   "environment_variables": {},
   "exception": null,
   "input_path": "__notebook__.ipynb",
   "output_path": "__notebook__.ipynb",
   "parameters": {},
   "start_time": "2024-12-16T12:26:38.595627",
   "version": "2.6.0"
  }
 },
 "nbformat": 4,
 "nbformat_minor": 5
}
