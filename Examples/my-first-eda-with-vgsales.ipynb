{
 "cells": [
  {
   "cell_type": "code",
   "execution_count": 1,
   "id": "c604d0d8",
   "metadata": {
    "_cell_guid": "b1076dfc-b9ad-4769-8c92-a6c4dae69d19",
    "_uuid": "8f2839f25d086af736a60e9eeb907d3b93b6e0e5",
    "execution": {
     "iopub.execute_input": "2024-10-10T21:31:16.341619Z",
     "iopub.status.busy": "2024-10-10T21:31:16.341075Z",
     "iopub.status.idle": "2024-10-10T21:31:19.384937Z",
     "shell.execute_reply": "2024-10-10T21:31:19.383522Z"
    },
    "papermill": {
     "duration": 3.056791,
     "end_time": "2024-10-10T21:31:19.387817",
     "exception": false,
     "start_time": "2024-10-10T21:31:16.331026",
     "status": "completed"
    },
    "tags": []
   },
   "outputs": [
    {
     "name": "stdout",
     "output_type": "stream",
     "text": [
      "/kaggle/input/video-game-sales-2024/vgchartz-2024.csv\n"
     ]
    }
   ],
   "source": [
    "# This Python 3 environment comes with many helpful analytics libraries installed\n",
    "# It is defined by the kaggle/python Docker image: https://github.com/kaggle/docker-python\n",
    "# For example, here's several helpful packages to load\n",
    "\n",
    "import numpy as np # linear algebra\n",
    "import pandas as pd # data processing, CSV file I/O (e.g. pd.read_csv)\n",
    "import seaborn as sns # For Data visualization\n",
    "# Input data files are available in the read-only \"../input/\" directory\n",
    "# For example, running this (by clicking run or pressing Shift+Enter) will list all files under the input directory\n",
    "\n",
    "import os\n",
    "for dirname, _, filenames in os.walk('/kaggle/input'):\n",
    "    for filename in filenames:\n",
    "        print(os.path.join(dirname, filename))\n",
    "\n",
    "# You can write up to 20GB to the current directory (/kaggle/working/) that gets preserved as output when you create a version using \"Save & Run All\" \n",
    "# You can also write temporary files to /kaggle/temp/, but they won't be saved outside of the current session"
   ]
  },
  {
   "cell_type": "code",
   "execution_count": 2,
   "id": "faf14536",
   "metadata": {
    "execution": {
     "iopub.execute_input": "2024-10-10T21:31:19.406227Z",
     "iopub.status.busy": "2024-10-10T21:31:19.405610Z",
     "iopub.status.idle": "2024-10-10T21:31:19.801097Z",
     "shell.execute_reply": "2024-10-10T21:31:19.799817Z"
    },
    "papermill": {
     "duration": 0.40809,
     "end_time": "2024-10-10T21:31:19.804099",
     "exception": false,
     "start_time": "2024-10-10T21:31:19.396009",
     "status": "completed"
    },
    "tags": []
   },
   "outputs": [],
   "source": [
    "df = pd.read_csv('/kaggle/input/video-game-sales-2024/vgchartz-2024.csv')"
   ]
  },
  {
   "cell_type": "code",
   "execution_count": 3,
   "id": "a068397f",
   "metadata": {
    "execution": {
     "iopub.execute_input": "2024-10-10T21:31:19.821741Z",
     "iopub.status.busy": "2024-10-10T21:31:19.821216Z",
     "iopub.status.idle": "2024-10-10T21:31:19.855370Z",
     "shell.execute_reply": "2024-10-10T21:31:19.854053Z"
    },
    "papermill": {
     "duration": 0.046268,
     "end_time": "2024-10-10T21:31:19.858215",
     "exception": false,
     "start_time": "2024-10-10T21:31:19.811947",
     "status": "completed"
    },
    "tags": []
   },
   "outputs": [
    {
     "data": {
      "text/html": [
       "<div>\n",
       "<style scoped>\n",
       "    .dataframe tbody tr th:only-of-type {\n",
       "        vertical-align: middle;\n",
       "    }\n",
       "\n",
       "    .dataframe tbody tr th {\n",
       "        vertical-align: top;\n",
       "    }\n",
       "\n",
       "    .dataframe thead th {\n",
       "        text-align: right;\n",
       "    }\n",
       "</style>\n",
       "<table border=\"1\" class=\"dataframe\">\n",
       "  <thead>\n",
       "    <tr style=\"text-align: right;\">\n",
       "      <th></th>\n",
       "      <th>img</th>\n",
       "      <th>title</th>\n",
       "      <th>console</th>\n",
       "      <th>genre</th>\n",
       "      <th>publisher</th>\n",
       "      <th>developer</th>\n",
       "      <th>critic_score</th>\n",
       "      <th>total_sales</th>\n",
       "      <th>na_sales</th>\n",
       "      <th>jp_sales</th>\n",
       "      <th>pal_sales</th>\n",
       "      <th>other_sales</th>\n",
       "      <th>release_date</th>\n",
       "      <th>last_update</th>\n",
       "    </tr>\n",
       "  </thead>\n",
       "  <tbody>\n",
       "    <tr>\n",
       "      <th>0</th>\n",
       "      <td>/games/boxart/full_6510540AmericaFrontccc.jpg</td>\n",
       "      <td>Grand Theft Auto V</td>\n",
       "      <td>PS3</td>\n",
       "      <td>Action</td>\n",
       "      <td>Rockstar Games</td>\n",
       "      <td>Rockstar North</td>\n",
       "      <td>9.4</td>\n",
       "      <td>20.32</td>\n",
       "      <td>6.37</td>\n",
       "      <td>0.99</td>\n",
       "      <td>9.85</td>\n",
       "      <td>3.12</td>\n",
       "      <td>2013-09-17</td>\n",
       "      <td>NaN</td>\n",
       "    </tr>\n",
       "    <tr>\n",
       "      <th>1</th>\n",
       "      <td>/games/boxart/full_5563178AmericaFrontccc.jpg</td>\n",
       "      <td>Grand Theft Auto V</td>\n",
       "      <td>PS4</td>\n",
       "      <td>Action</td>\n",
       "      <td>Rockstar Games</td>\n",
       "      <td>Rockstar North</td>\n",
       "      <td>9.7</td>\n",
       "      <td>19.39</td>\n",
       "      <td>6.06</td>\n",
       "      <td>0.60</td>\n",
       "      <td>9.71</td>\n",
       "      <td>3.02</td>\n",
       "      <td>2014-11-18</td>\n",
       "      <td>2018-01-03</td>\n",
       "    </tr>\n",
       "    <tr>\n",
       "      <th>2</th>\n",
       "      <td>/games/boxart/827563ccc.jpg</td>\n",
       "      <td>Grand Theft Auto: Vice City</td>\n",
       "      <td>PS2</td>\n",
       "      <td>Action</td>\n",
       "      <td>Rockstar Games</td>\n",
       "      <td>Rockstar North</td>\n",
       "      <td>9.6</td>\n",
       "      <td>16.15</td>\n",
       "      <td>8.41</td>\n",
       "      <td>0.47</td>\n",
       "      <td>5.49</td>\n",
       "      <td>1.78</td>\n",
       "      <td>2002-10-28</td>\n",
       "      <td>NaN</td>\n",
       "    </tr>\n",
       "    <tr>\n",
       "      <th>3</th>\n",
       "      <td>/games/boxart/full_9218923AmericaFrontccc.jpg</td>\n",
       "      <td>Grand Theft Auto V</td>\n",
       "      <td>X360</td>\n",
       "      <td>Action</td>\n",
       "      <td>Rockstar Games</td>\n",
       "      <td>Rockstar North</td>\n",
       "      <td>NaN</td>\n",
       "      <td>15.86</td>\n",
       "      <td>9.06</td>\n",
       "      <td>0.06</td>\n",
       "      <td>5.33</td>\n",
       "      <td>1.42</td>\n",
       "      <td>2013-09-17</td>\n",
       "      <td>NaN</td>\n",
       "    </tr>\n",
       "    <tr>\n",
       "      <th>4</th>\n",
       "      <td>/games/boxart/full_4990510AmericaFrontccc.jpg</td>\n",
       "      <td>Call of Duty: Black Ops 3</td>\n",
       "      <td>PS4</td>\n",
       "      <td>Shooter</td>\n",
       "      <td>Activision</td>\n",
       "      <td>Treyarch</td>\n",
       "      <td>8.1</td>\n",
       "      <td>15.09</td>\n",
       "      <td>6.18</td>\n",
       "      <td>0.41</td>\n",
       "      <td>6.05</td>\n",
       "      <td>2.44</td>\n",
       "      <td>2015-11-06</td>\n",
       "      <td>2018-01-14</td>\n",
       "    </tr>\n",
       "  </tbody>\n",
       "</table>\n",
       "</div>"
      ],
      "text/plain": [
       "                                             img                        title  \\\n",
       "0  /games/boxart/full_6510540AmericaFrontccc.jpg           Grand Theft Auto V   \n",
       "1  /games/boxart/full_5563178AmericaFrontccc.jpg           Grand Theft Auto V   \n",
       "2                    /games/boxart/827563ccc.jpg  Grand Theft Auto: Vice City   \n",
       "3  /games/boxart/full_9218923AmericaFrontccc.jpg           Grand Theft Auto V   \n",
       "4  /games/boxart/full_4990510AmericaFrontccc.jpg    Call of Duty: Black Ops 3   \n",
       "\n",
       "  console    genre       publisher       developer  critic_score  total_sales  \\\n",
       "0     PS3   Action  Rockstar Games  Rockstar North           9.4        20.32   \n",
       "1     PS4   Action  Rockstar Games  Rockstar North           9.7        19.39   \n",
       "2     PS2   Action  Rockstar Games  Rockstar North           9.6        16.15   \n",
       "3    X360   Action  Rockstar Games  Rockstar North           NaN        15.86   \n",
       "4     PS4  Shooter      Activision        Treyarch           8.1        15.09   \n",
       "\n",
       "   na_sales  jp_sales  pal_sales  other_sales release_date last_update  \n",
       "0      6.37      0.99       9.85         3.12   2013-09-17         NaN  \n",
       "1      6.06      0.60       9.71         3.02   2014-11-18  2018-01-03  \n",
       "2      8.41      0.47       5.49         1.78   2002-10-28         NaN  \n",
       "3      9.06      0.06       5.33         1.42   2013-09-17         NaN  \n",
       "4      6.18      0.41       6.05         2.44   2015-11-06  2018-01-14  "
      ]
     },
     "execution_count": 3,
     "metadata": {},
     "output_type": "execute_result"
    }
   ],
   "source": [
    "df.head()"
   ]
  },
  {
   "cell_type": "code",
   "execution_count": 4,
   "id": "3ba2b7da",
   "metadata": {
    "execution": {
     "iopub.execute_input": "2024-10-10T21:31:19.876642Z",
     "iopub.status.busy": "2024-10-10T21:31:19.876196Z",
     "iopub.status.idle": "2024-10-10T21:31:19.884121Z",
     "shell.execute_reply": "2024-10-10T21:31:19.882927Z"
    },
    "papermill": {
     "duration": 0.020219,
     "end_time": "2024-10-10T21:31:19.886871",
     "exception": false,
     "start_time": "2024-10-10T21:31:19.866652",
     "status": "completed"
    },
    "tags": []
   },
   "outputs": [
    {
     "data": {
      "text/plain": [
       "(64016, 14)"
      ]
     },
     "execution_count": 4,
     "metadata": {},
     "output_type": "execute_result"
    }
   ],
   "source": [
    "df.shape"
   ]
  },
  {
   "cell_type": "code",
   "execution_count": 5,
   "id": "3fc9822c",
   "metadata": {
    "execution": {
     "iopub.execute_input": "2024-10-10T21:31:19.905955Z",
     "iopub.status.busy": "2024-10-10T21:31:19.905502Z",
     "iopub.status.idle": "2024-10-10T21:31:19.990559Z",
     "shell.execute_reply": "2024-10-10T21:31:19.989087Z"
    },
    "papermill": {
     "duration": 0.097648,
     "end_time": "2024-10-10T21:31:19.993362",
     "exception": false,
     "start_time": "2024-10-10T21:31:19.895714",
     "status": "completed"
    },
    "tags": []
   },
   "outputs": [
    {
     "name": "stdout",
     "output_type": "stream",
     "text": [
      "<class 'pandas.core.frame.DataFrame'>\n",
      "RangeIndex: 64016 entries, 0 to 64015\n",
      "Data columns (total 14 columns):\n",
      " #   Column        Non-Null Count  Dtype  \n",
      "---  ------        --------------  -----  \n",
      " 0   img           64016 non-null  object \n",
      " 1   title         64016 non-null  object \n",
      " 2   console       64016 non-null  object \n",
      " 3   genre         64016 non-null  object \n",
      " 4   publisher     64016 non-null  object \n",
      " 5   developer     63999 non-null  object \n",
      " 6   critic_score  6678 non-null   float64\n",
      " 7   total_sales   18922 non-null  float64\n",
      " 8   na_sales      12637 non-null  float64\n",
      " 9   jp_sales      6726 non-null   float64\n",
      " 10  pal_sales     12824 non-null  float64\n",
      " 11  other_sales   15128 non-null  float64\n",
      " 12  release_date  56965 non-null  object \n",
      " 13  last_update   17879 non-null  object \n",
      "dtypes: float64(6), object(8)\n",
      "memory usage: 6.8+ MB\n"
     ]
    }
   ],
   "source": [
    "df.info()"
   ]
  },
  {
   "cell_type": "code",
   "execution_count": 6,
   "id": "cc0a1cad",
   "metadata": {
    "execution": {
     "iopub.execute_input": "2024-10-10T21:31:20.013184Z",
     "iopub.status.busy": "2024-10-10T21:31:20.012764Z",
     "iopub.status.idle": "2024-10-10T21:31:20.065480Z",
     "shell.execute_reply": "2024-10-10T21:31:20.064268Z"
    },
    "papermill": {
     "duration": 0.06647,
     "end_time": "2024-10-10T21:31:20.068372",
     "exception": false,
     "start_time": "2024-10-10T21:31:20.001902",
     "status": "completed"
    },
    "tags": []
   },
   "outputs": [
    {
     "data": {
      "text/html": [
       "<div>\n",
       "<style scoped>\n",
       "    .dataframe tbody tr th:only-of-type {\n",
       "        vertical-align: middle;\n",
       "    }\n",
       "\n",
       "    .dataframe tbody tr th {\n",
       "        vertical-align: top;\n",
       "    }\n",
       "\n",
       "    .dataframe thead th {\n",
       "        text-align: right;\n",
       "    }\n",
       "</style>\n",
       "<table border=\"1\" class=\"dataframe\">\n",
       "  <thead>\n",
       "    <tr style=\"text-align: right;\">\n",
       "      <th></th>\n",
       "      <th>critic_score</th>\n",
       "      <th>total_sales</th>\n",
       "      <th>na_sales</th>\n",
       "      <th>jp_sales</th>\n",
       "      <th>pal_sales</th>\n",
       "      <th>other_sales</th>\n",
       "    </tr>\n",
       "  </thead>\n",
       "  <tbody>\n",
       "    <tr>\n",
       "      <th>count</th>\n",
       "      <td>6678.000000</td>\n",
       "      <td>18922.000000</td>\n",
       "      <td>12637.000000</td>\n",
       "      <td>6726.000000</td>\n",
       "      <td>12824.000000</td>\n",
       "      <td>15128.000000</td>\n",
       "    </tr>\n",
       "    <tr>\n",
       "      <th>mean</th>\n",
       "      <td>7.220440</td>\n",
       "      <td>0.349113</td>\n",
       "      <td>0.264740</td>\n",
       "      <td>0.102281</td>\n",
       "      <td>0.149472</td>\n",
       "      <td>0.043041</td>\n",
       "    </tr>\n",
       "    <tr>\n",
       "      <th>std</th>\n",
       "      <td>1.457066</td>\n",
       "      <td>0.807462</td>\n",
       "      <td>0.494787</td>\n",
       "      <td>0.168811</td>\n",
       "      <td>0.392653</td>\n",
       "      <td>0.126643</td>\n",
       "    </tr>\n",
       "    <tr>\n",
       "      <th>min</th>\n",
       "      <td>1.000000</td>\n",
       "      <td>0.000000</td>\n",
       "      <td>0.000000</td>\n",
       "      <td>0.000000</td>\n",
       "      <td>0.000000</td>\n",
       "      <td>0.000000</td>\n",
       "    </tr>\n",
       "    <tr>\n",
       "      <th>25%</th>\n",
       "      <td>6.400000</td>\n",
       "      <td>0.030000</td>\n",
       "      <td>0.050000</td>\n",
       "      <td>0.020000</td>\n",
       "      <td>0.010000</td>\n",
       "      <td>0.000000</td>\n",
       "    </tr>\n",
       "    <tr>\n",
       "      <th>50%</th>\n",
       "      <td>7.500000</td>\n",
       "      <td>0.120000</td>\n",
       "      <td>0.120000</td>\n",
       "      <td>0.040000</td>\n",
       "      <td>0.040000</td>\n",
       "      <td>0.010000</td>\n",
       "    </tr>\n",
       "    <tr>\n",
       "      <th>75%</th>\n",
       "      <td>8.300000</td>\n",
       "      <td>0.340000</td>\n",
       "      <td>0.280000</td>\n",
       "      <td>0.120000</td>\n",
       "      <td>0.140000</td>\n",
       "      <td>0.030000</td>\n",
       "    </tr>\n",
       "    <tr>\n",
       "      <th>max</th>\n",
       "      <td>10.000000</td>\n",
       "      <td>20.320000</td>\n",
       "      <td>9.760000</td>\n",
       "      <td>2.130000</td>\n",
       "      <td>9.850000</td>\n",
       "      <td>3.120000</td>\n",
       "    </tr>\n",
       "  </tbody>\n",
       "</table>\n",
       "</div>"
      ],
      "text/plain": [
       "       critic_score   total_sales      na_sales     jp_sales     pal_sales  \\\n",
       "count   6678.000000  18922.000000  12637.000000  6726.000000  12824.000000   \n",
       "mean       7.220440      0.349113      0.264740     0.102281      0.149472   \n",
       "std        1.457066      0.807462      0.494787     0.168811      0.392653   \n",
       "min        1.000000      0.000000      0.000000     0.000000      0.000000   \n",
       "25%        6.400000      0.030000      0.050000     0.020000      0.010000   \n",
       "50%        7.500000      0.120000      0.120000     0.040000      0.040000   \n",
       "75%        8.300000      0.340000      0.280000     0.120000      0.140000   \n",
       "max       10.000000     20.320000      9.760000     2.130000      9.850000   \n",
       "\n",
       "        other_sales  \n",
       "count  15128.000000  \n",
       "mean       0.043041  \n",
       "std        0.126643  \n",
       "min        0.000000  \n",
       "25%        0.000000  \n",
       "50%        0.010000  \n",
       "75%        0.030000  \n",
       "max        3.120000  "
      ]
     },
     "execution_count": 6,
     "metadata": {},
     "output_type": "execute_result"
    }
   ],
   "source": [
    "df.describe()"
   ]
  },
  {
   "cell_type": "markdown",
   "id": "c30747dd",
   "metadata": {
    "papermill": {
     "duration": 0.008422,
     "end_time": "2024-10-10T21:31:20.086169",
     "exception": false,
     "start_time": "2024-10-10T21:31:20.077747",
     "status": "completed"
    },
    "tags": []
   },
   "source": [
    "Clean"
   ]
  },
  {
   "cell_type": "code",
   "execution_count": 7,
   "id": "7c2ecee2",
   "metadata": {
    "execution": {
     "iopub.execute_input": "2024-10-10T21:31:20.105402Z",
     "iopub.status.busy": "2024-10-10T21:31:20.104975Z",
     "iopub.status.idle": "2024-10-10T21:31:20.152756Z",
     "shell.execute_reply": "2024-10-10T21:31:20.151337Z"
    },
    "papermill": {
     "duration": 0.060941,
     "end_time": "2024-10-10T21:31:20.155799",
     "exception": false,
     "start_time": "2024-10-10T21:31:20.094858",
     "status": "completed"
    },
    "tags": []
   },
   "outputs": [
    {
     "data": {
      "text/html": [
       "<div>\n",
       "<style scoped>\n",
       "    .dataframe tbody tr th:only-of-type {\n",
       "        vertical-align: middle;\n",
       "    }\n",
       "\n",
       "    .dataframe tbody tr th {\n",
       "        vertical-align: top;\n",
       "    }\n",
       "\n",
       "    .dataframe thead th {\n",
       "        text-align: right;\n",
       "    }\n",
       "</style>\n",
       "<table border=\"1\" class=\"dataframe\">\n",
       "  <thead>\n",
       "    <tr style=\"text-align: right;\">\n",
       "      <th></th>\n",
       "      <th>critic_score</th>\n",
       "      <th>total_sales</th>\n",
       "      <th>na_sales</th>\n",
       "      <th>jp_sales</th>\n",
       "      <th>pal_sales</th>\n",
       "      <th>other_sales</th>\n",
       "    </tr>\n",
       "  </thead>\n",
       "  <tbody>\n",
       "    <tr>\n",
       "      <th>count</th>\n",
       "      <td>6678.000000</td>\n",
       "      <td>18922.000000</td>\n",
       "      <td>12637.000000</td>\n",
       "      <td>6726.000000</td>\n",
       "      <td>12824.000000</td>\n",
       "      <td>15128.000000</td>\n",
       "    </tr>\n",
       "    <tr>\n",
       "      <th>mean</th>\n",
       "      <td>7.220440</td>\n",
       "      <td>0.349113</td>\n",
       "      <td>0.264740</td>\n",
       "      <td>0.102281</td>\n",
       "      <td>0.149472</td>\n",
       "      <td>0.043041</td>\n",
       "    </tr>\n",
       "    <tr>\n",
       "      <th>std</th>\n",
       "      <td>1.457066</td>\n",
       "      <td>0.807462</td>\n",
       "      <td>0.494787</td>\n",
       "      <td>0.168811</td>\n",
       "      <td>0.392653</td>\n",
       "      <td>0.126643</td>\n",
       "    </tr>\n",
       "    <tr>\n",
       "      <th>min</th>\n",
       "      <td>1.000000</td>\n",
       "      <td>0.000000</td>\n",
       "      <td>0.000000</td>\n",
       "      <td>0.000000</td>\n",
       "      <td>0.000000</td>\n",
       "      <td>0.000000</td>\n",
       "    </tr>\n",
       "    <tr>\n",
       "      <th>25%</th>\n",
       "      <td>6.400000</td>\n",
       "      <td>0.030000</td>\n",
       "      <td>0.050000</td>\n",
       "      <td>0.020000</td>\n",
       "      <td>0.010000</td>\n",
       "      <td>0.000000</td>\n",
       "    </tr>\n",
       "    <tr>\n",
       "      <th>50%</th>\n",
       "      <td>7.500000</td>\n",
       "      <td>0.120000</td>\n",
       "      <td>0.120000</td>\n",
       "      <td>0.040000</td>\n",
       "      <td>0.040000</td>\n",
       "      <td>0.010000</td>\n",
       "    </tr>\n",
       "    <tr>\n",
       "      <th>75%</th>\n",
       "      <td>8.300000</td>\n",
       "      <td>0.340000</td>\n",
       "      <td>0.280000</td>\n",
       "      <td>0.120000</td>\n",
       "      <td>0.140000</td>\n",
       "      <td>0.030000</td>\n",
       "    </tr>\n",
       "    <tr>\n",
       "      <th>max</th>\n",
       "      <td>10.000000</td>\n",
       "      <td>20.320000</td>\n",
       "      <td>9.760000</td>\n",
       "      <td>2.130000</td>\n",
       "      <td>9.850000</td>\n",
       "      <td>3.120000</td>\n",
       "    </tr>\n",
       "  </tbody>\n",
       "</table>\n",
       "</div>"
      ],
      "text/plain": [
       "       critic_score   total_sales      na_sales     jp_sales     pal_sales  \\\n",
       "count   6678.000000  18922.000000  12637.000000  6726.000000  12824.000000   \n",
       "mean       7.220440      0.349113      0.264740     0.102281      0.149472   \n",
       "std        1.457066      0.807462      0.494787     0.168811      0.392653   \n",
       "min        1.000000      0.000000      0.000000     0.000000      0.000000   \n",
       "25%        6.400000      0.030000      0.050000     0.020000      0.010000   \n",
       "50%        7.500000      0.120000      0.120000     0.040000      0.040000   \n",
       "75%        8.300000      0.340000      0.280000     0.120000      0.140000   \n",
       "max       10.000000     20.320000      9.760000     2.130000      9.850000   \n",
       "\n",
       "        other_sales  \n",
       "count  15128.000000  \n",
       "mean       0.043041  \n",
       "std        0.126643  \n",
       "min        0.000000  \n",
       "25%        0.000000  \n",
       "50%        0.010000  \n",
       "75%        0.030000  \n",
       "max        3.120000  "
      ]
     },
     "execution_count": 7,
     "metadata": {},
     "output_type": "execute_result"
    }
   ],
   "source": [
    "df.describe()"
   ]
  },
  {
   "cell_type": "code",
   "execution_count": 8,
   "id": "dd18268b",
   "metadata": {
    "execution": {
     "iopub.execute_input": "2024-10-10T21:31:20.176319Z",
     "iopub.status.busy": "2024-10-10T21:31:20.175896Z",
     "iopub.status.idle": "2024-10-10T21:31:20.182475Z",
     "shell.execute_reply": "2024-10-10T21:31:20.181126Z"
    },
    "papermill": {
     "duration": 0.019968,
     "end_time": "2024-10-10T21:31:20.185298",
     "exception": false,
     "start_time": "2024-10-10T21:31:20.165330",
     "status": "completed"
    },
    "tags": []
   },
   "outputs": [],
   "source": [
    "mask = df.total_sales.isna()"
   ]
  },
  {
   "cell_type": "code",
   "execution_count": 9,
   "id": "f3ea8724",
   "metadata": {
    "execution": {
     "iopub.execute_input": "2024-10-10T21:31:20.206274Z",
     "iopub.status.busy": "2024-10-10T21:31:20.205860Z",
     "iopub.status.idle": "2024-10-10T21:31:20.265169Z",
     "shell.execute_reply": "2024-10-10T21:31:20.263896Z"
    },
    "papermill": {
     "duration": 0.073003,
     "end_time": "2024-10-10T21:31:20.267808",
     "exception": false,
     "start_time": "2024-10-10T21:31:20.194805",
     "status": "completed"
    },
    "tags": []
   },
   "outputs": [
    {
     "data": {
      "text/plain": [
       "img                 0\n",
       "title               0\n",
       "console             0\n",
       "genre               0\n",
       "publisher           0\n",
       "developer          13\n",
       "critic_score    42542\n",
       "total_sales     45094\n",
       "na_sales        45094\n",
       "jp_sales        45094\n",
       "pal_sales       45094\n",
       "other_sales     45094\n",
       "release_date     6961\n",
       "last_update     31234\n",
       "dtype: int64"
      ]
     },
     "execution_count": 9,
     "metadata": {},
     "output_type": "execute_result"
    }
   ],
   "source": [
    "df[mask].isna().sum()"
   ]
  },
  {
   "cell_type": "code",
   "execution_count": 10,
   "id": "11c26c5f",
   "metadata": {
    "execution": {
     "iopub.execute_input": "2024-10-10T21:31:20.288696Z",
     "iopub.status.busy": "2024-10-10T21:31:20.287845Z",
     "iopub.status.idle": "2024-10-10T21:31:20.350092Z",
     "shell.execute_reply": "2024-10-10T21:31:20.348906Z"
    },
    "papermill": {
     "duration": 0.07569,
     "end_time": "2024-10-10T21:31:20.352820",
     "exception": false,
     "start_time": "2024-10-10T21:31:20.277130",
     "status": "completed"
    },
    "tags": []
   },
   "outputs": [
    {
     "data": {
      "text/plain": [
       "img                 0\n",
       "title               0\n",
       "console             0\n",
       "genre               0\n",
       "publisher           0\n",
       "developer          17\n",
       "critic_score    57338\n",
       "total_sales     45094\n",
       "na_sales        51379\n",
       "jp_sales        57290\n",
       "pal_sales       51192\n",
       "other_sales     48888\n",
       "release_date     7051\n",
       "last_update     46137\n",
       "dtype: int64"
      ]
     },
     "execution_count": 10,
     "metadata": {},
     "output_type": "execute_result"
    }
   ],
   "source": [
    "#Confirm if the regional sales have more NAN than the Total Sales \n",
    "df.isna().sum()"
   ]
  },
  {
   "cell_type": "code",
   "execution_count": 11,
   "id": "1f01afb5",
   "metadata": {
    "execution": {
     "iopub.execute_input": "2024-10-10T21:31:20.373823Z",
     "iopub.status.busy": "2024-10-10T21:31:20.373012Z",
     "iopub.status.idle": "2024-10-10T21:31:20.393970Z",
     "shell.execute_reply": "2024-10-10T21:31:20.392640Z"
    },
    "papermill": {
     "duration": 0.035054,
     "end_time": "2024-10-10T21:31:20.397193",
     "exception": false,
     "start_time": "2024-10-10T21:31:20.362139",
     "status": "completed"
    },
    "tags": []
   },
   "outputs": [],
   "source": [
    "#and Drop the na of the total_Sales (also drop the na release_date)\n",
    "df.dropna(subset=['total_sales','release_date'], axis=0, inplace=True)"
   ]
  },
  {
   "cell_type": "code",
   "execution_count": 12,
   "id": "53accfd3",
   "metadata": {
    "execution": {
     "iopub.execute_input": "2024-10-10T21:31:20.418547Z",
     "iopub.status.busy": "2024-10-10T21:31:20.418061Z",
     "iopub.status.idle": "2024-10-10T21:31:20.444612Z",
     "shell.execute_reply": "2024-10-10T21:31:20.443466Z"
    },
    "papermill": {
     "duration": 0.040105,
     "end_time": "2024-10-10T21:31:20.447155",
     "exception": false,
     "start_time": "2024-10-10T21:31:20.407050",
     "status": "completed"
    },
    "tags": []
   },
   "outputs": [
    {
     "data": {
      "text/plain": [
       "img                 0\n",
       "title               0\n",
       "console             0\n",
       "genre               0\n",
       "publisher           0\n",
       "developer           3\n",
       "critic_score    14709\n",
       "total_sales         0\n",
       "na_sales         6212\n",
       "jp_sales        12144\n",
       "pal_sales        6056\n",
       "other_sales      3761\n",
       "release_date        0\n",
       "last_update     14816\n",
       "dtype: int64"
      ]
     },
     "execution_count": 12,
     "metadata": {},
     "output_type": "execute_result"
    }
   ],
   "source": [
    "df.isna().sum()"
   ]
  },
  {
   "cell_type": "code",
   "execution_count": 13,
   "id": "45e2acd6",
   "metadata": {
    "execution": {
     "iopub.execute_input": "2024-10-10T21:31:20.468031Z",
     "iopub.status.busy": "2024-10-10T21:31:20.467608Z",
     "iopub.status.idle": "2024-10-10T21:31:20.490335Z",
     "shell.execute_reply": "2024-10-10T21:31:20.489208Z"
    },
    "papermill": {
     "duration": 0.036237,
     "end_time": "2024-10-10T21:31:20.492962",
     "exception": false,
     "start_time": "2024-10-10T21:31:20.456725",
     "status": "completed"
    },
    "tags": []
   },
   "outputs": [
    {
     "data": {
      "text/html": [
       "<div>\n",
       "<style scoped>\n",
       "    .dataframe tbody tr th:only-of-type {\n",
       "        vertical-align: middle;\n",
       "    }\n",
       "\n",
       "    .dataframe tbody tr th {\n",
       "        vertical-align: top;\n",
       "    }\n",
       "\n",
       "    .dataframe thead th {\n",
       "        text-align: right;\n",
       "    }\n",
       "</style>\n",
       "<table border=\"1\" class=\"dataframe\">\n",
       "  <thead>\n",
       "    <tr style=\"text-align: right;\">\n",
       "      <th></th>\n",
       "      <th>img</th>\n",
       "      <th>title</th>\n",
       "      <th>console</th>\n",
       "      <th>genre</th>\n",
       "      <th>publisher</th>\n",
       "      <th>developer</th>\n",
       "      <th>critic_score</th>\n",
       "      <th>total_sales</th>\n",
       "      <th>na_sales</th>\n",
       "      <th>jp_sales</th>\n",
       "      <th>pal_sales</th>\n",
       "      <th>other_sales</th>\n",
       "      <th>release_date</th>\n",
       "      <th>last_update</th>\n",
       "    </tr>\n",
       "  </thead>\n",
       "  <tbody>\n",
       "    <tr>\n",
       "      <th>0</th>\n",
       "      <td>/games/boxart/full_6510540AmericaFrontccc.jpg</td>\n",
       "      <td>Grand Theft Auto V</td>\n",
       "      <td>PS3</td>\n",
       "      <td>Action</td>\n",
       "      <td>Rockstar Games</td>\n",
       "      <td>Rockstar North</td>\n",
       "      <td>9.4</td>\n",
       "      <td>20.32</td>\n",
       "      <td>6.37</td>\n",
       "      <td>0.99</td>\n",
       "      <td>9.85</td>\n",
       "      <td>3.12</td>\n",
       "      <td>2013-09-17</td>\n",
       "      <td>NaN</td>\n",
       "    </tr>\n",
       "    <tr>\n",
       "      <th>1</th>\n",
       "      <td>/games/boxart/full_5563178AmericaFrontccc.jpg</td>\n",
       "      <td>Grand Theft Auto V</td>\n",
       "      <td>PS4</td>\n",
       "      <td>Action</td>\n",
       "      <td>Rockstar Games</td>\n",
       "      <td>Rockstar North</td>\n",
       "      <td>9.7</td>\n",
       "      <td>19.39</td>\n",
       "      <td>6.06</td>\n",
       "      <td>0.60</td>\n",
       "      <td>9.71</td>\n",
       "      <td>3.02</td>\n",
       "      <td>2014-11-18</td>\n",
       "      <td>2018-01-03</td>\n",
       "    </tr>\n",
       "    <tr>\n",
       "      <th>2</th>\n",
       "      <td>/games/boxart/827563ccc.jpg</td>\n",
       "      <td>Grand Theft Auto: Vice City</td>\n",
       "      <td>PS2</td>\n",
       "      <td>Action</td>\n",
       "      <td>Rockstar Games</td>\n",
       "      <td>Rockstar North</td>\n",
       "      <td>9.6</td>\n",
       "      <td>16.15</td>\n",
       "      <td>8.41</td>\n",
       "      <td>0.47</td>\n",
       "      <td>5.49</td>\n",
       "      <td>1.78</td>\n",
       "      <td>2002-10-28</td>\n",
       "      <td>NaN</td>\n",
       "    </tr>\n",
       "    <tr>\n",
       "      <th>3</th>\n",
       "      <td>/games/boxart/full_9218923AmericaFrontccc.jpg</td>\n",
       "      <td>Grand Theft Auto V</td>\n",
       "      <td>X360</td>\n",
       "      <td>Action</td>\n",
       "      <td>Rockstar Games</td>\n",
       "      <td>Rockstar North</td>\n",
       "      <td>NaN</td>\n",
       "      <td>15.86</td>\n",
       "      <td>9.06</td>\n",
       "      <td>0.06</td>\n",
       "      <td>5.33</td>\n",
       "      <td>1.42</td>\n",
       "      <td>2013-09-17</td>\n",
       "      <td>NaN</td>\n",
       "    </tr>\n",
       "    <tr>\n",
       "      <th>4</th>\n",
       "      <td>/games/boxart/full_4990510AmericaFrontccc.jpg</td>\n",
       "      <td>Call of Duty: Black Ops 3</td>\n",
       "      <td>PS4</td>\n",
       "      <td>Shooter</td>\n",
       "      <td>Activision</td>\n",
       "      <td>Treyarch</td>\n",
       "      <td>8.1</td>\n",
       "      <td>15.09</td>\n",
       "      <td>6.18</td>\n",
       "      <td>0.41</td>\n",
       "      <td>6.05</td>\n",
       "      <td>2.44</td>\n",
       "      <td>2015-11-06</td>\n",
       "      <td>2018-01-14</td>\n",
       "    </tr>\n",
       "  </tbody>\n",
       "</table>\n",
       "</div>"
      ],
      "text/plain": [
       "                                             img                        title  \\\n",
       "0  /games/boxart/full_6510540AmericaFrontccc.jpg           Grand Theft Auto V   \n",
       "1  /games/boxart/full_5563178AmericaFrontccc.jpg           Grand Theft Auto V   \n",
       "2                    /games/boxart/827563ccc.jpg  Grand Theft Auto: Vice City   \n",
       "3  /games/boxart/full_9218923AmericaFrontccc.jpg           Grand Theft Auto V   \n",
       "4  /games/boxart/full_4990510AmericaFrontccc.jpg    Call of Duty: Black Ops 3   \n",
       "\n",
       "  console    genre       publisher       developer  critic_score  total_sales  \\\n",
       "0     PS3   Action  Rockstar Games  Rockstar North           9.4        20.32   \n",
       "1     PS4   Action  Rockstar Games  Rockstar North           9.7        19.39   \n",
       "2     PS2   Action  Rockstar Games  Rockstar North           9.6        16.15   \n",
       "3    X360   Action  Rockstar Games  Rockstar North           NaN        15.86   \n",
       "4     PS4  Shooter      Activision        Treyarch           8.1        15.09   \n",
       "\n",
       "   na_sales  jp_sales  pal_sales  other_sales release_date last_update  \n",
       "0      6.37      0.99       9.85         3.12   2013-09-17         NaN  \n",
       "1      6.06      0.60       9.71         3.02   2014-11-18  2018-01-03  \n",
       "2      8.41      0.47       5.49         1.78   2002-10-28         NaN  \n",
       "3      9.06      0.06       5.33         1.42   2013-09-17         NaN  \n",
       "4      6.18      0.41       6.05         2.44   2015-11-06  2018-01-14  "
      ]
     },
     "execution_count": 13,
     "metadata": {},
     "output_type": "execute_result"
    }
   ],
   "source": [
    "df.head()"
   ]
  },
  {
   "cell_type": "code",
   "execution_count": 14,
   "id": "afc74846",
   "metadata": {
    "execution": {
     "iopub.execute_input": "2024-10-10T21:31:20.515268Z",
     "iopub.status.busy": "2024-10-10T21:31:20.514769Z",
     "iopub.status.idle": "2024-10-10T21:31:20.534397Z",
     "shell.execute_reply": "2024-10-10T21:31:20.533093Z"
    },
    "papermill": {
     "duration": 0.034282,
     "end_time": "2024-10-10T21:31:20.537527",
     "exception": false,
     "start_time": "2024-10-10T21:31:20.503245",
     "status": "completed"
    },
    "tags": []
   },
   "outputs": [],
   "source": [
    "#Change the date to datetime\n",
    "df['release_date'] = pd.to_datetime(df['release_date'])"
   ]
  },
  {
   "cell_type": "code",
   "execution_count": 15,
   "id": "648f57fd",
   "metadata": {
    "execution": {
     "iopub.execute_input": "2024-10-10T21:31:20.559665Z",
     "iopub.status.busy": "2024-10-10T21:31:20.559175Z",
     "iopub.status.idle": "2024-10-10T21:31:20.566973Z",
     "shell.execute_reply": "2024-10-10T21:31:20.565861Z"
    },
    "papermill": {
     "duration": 0.021911,
     "end_time": "2024-10-10T21:31:20.569618",
     "exception": false,
     "start_time": "2024-10-10T21:31:20.547707",
     "status": "completed"
    },
    "tags": []
   },
   "outputs": [],
   "source": [
    "#Create a release year column\n",
    "df['release_year'] = df['release_date'].dt.year"
   ]
  },
  {
   "cell_type": "code",
   "execution_count": 16,
   "id": "50227862",
   "metadata": {
    "execution": {
     "iopub.execute_input": "2024-10-10T21:31:20.592558Z",
     "iopub.status.busy": "2024-10-10T21:31:20.591372Z",
     "iopub.status.idle": "2024-10-10T21:31:20.615386Z",
     "shell.execute_reply": "2024-10-10T21:31:20.614207Z"
    },
    "papermill": {
     "duration": 0.038447,
     "end_time": "2024-10-10T21:31:20.618041",
     "exception": false,
     "start_time": "2024-10-10T21:31:20.579594",
     "status": "completed"
    },
    "tags": []
   },
   "outputs": [
    {
     "data": {
      "text/html": [
       "<div>\n",
       "<style scoped>\n",
       "    .dataframe tbody tr th:only-of-type {\n",
       "        vertical-align: middle;\n",
       "    }\n",
       "\n",
       "    .dataframe tbody tr th {\n",
       "        vertical-align: top;\n",
       "    }\n",
       "\n",
       "    .dataframe thead th {\n",
       "        text-align: right;\n",
       "    }\n",
       "</style>\n",
       "<table border=\"1\" class=\"dataframe\">\n",
       "  <thead>\n",
       "    <tr style=\"text-align: right;\">\n",
       "      <th></th>\n",
       "      <th>img</th>\n",
       "      <th>title</th>\n",
       "      <th>console</th>\n",
       "      <th>genre</th>\n",
       "      <th>publisher</th>\n",
       "      <th>developer</th>\n",
       "      <th>critic_score</th>\n",
       "      <th>total_sales</th>\n",
       "      <th>na_sales</th>\n",
       "      <th>jp_sales</th>\n",
       "      <th>pal_sales</th>\n",
       "      <th>other_sales</th>\n",
       "      <th>release_date</th>\n",
       "      <th>last_update</th>\n",
       "      <th>release_year</th>\n",
       "    </tr>\n",
       "  </thead>\n",
       "  <tbody>\n",
       "    <tr>\n",
       "      <th>0</th>\n",
       "      <td>/games/boxart/full_6510540AmericaFrontccc.jpg</td>\n",
       "      <td>Grand Theft Auto V</td>\n",
       "      <td>PS3</td>\n",
       "      <td>Action</td>\n",
       "      <td>Rockstar Games</td>\n",
       "      <td>Rockstar North</td>\n",
       "      <td>9.4</td>\n",
       "      <td>20.32</td>\n",
       "      <td>6.37</td>\n",
       "      <td>0.99</td>\n",
       "      <td>9.85</td>\n",
       "      <td>3.12</td>\n",
       "      <td>2013-09-17</td>\n",
       "      <td>NaN</td>\n",
       "      <td>2013</td>\n",
       "    </tr>\n",
       "    <tr>\n",
       "      <th>1</th>\n",
       "      <td>/games/boxart/full_5563178AmericaFrontccc.jpg</td>\n",
       "      <td>Grand Theft Auto V</td>\n",
       "      <td>PS4</td>\n",
       "      <td>Action</td>\n",
       "      <td>Rockstar Games</td>\n",
       "      <td>Rockstar North</td>\n",
       "      <td>9.7</td>\n",
       "      <td>19.39</td>\n",
       "      <td>6.06</td>\n",
       "      <td>0.60</td>\n",
       "      <td>9.71</td>\n",
       "      <td>3.02</td>\n",
       "      <td>2014-11-18</td>\n",
       "      <td>2018-01-03</td>\n",
       "      <td>2014</td>\n",
       "    </tr>\n",
       "    <tr>\n",
       "      <th>2</th>\n",
       "      <td>/games/boxart/827563ccc.jpg</td>\n",
       "      <td>Grand Theft Auto: Vice City</td>\n",
       "      <td>PS2</td>\n",
       "      <td>Action</td>\n",
       "      <td>Rockstar Games</td>\n",
       "      <td>Rockstar North</td>\n",
       "      <td>9.6</td>\n",
       "      <td>16.15</td>\n",
       "      <td>8.41</td>\n",
       "      <td>0.47</td>\n",
       "      <td>5.49</td>\n",
       "      <td>1.78</td>\n",
       "      <td>2002-10-28</td>\n",
       "      <td>NaN</td>\n",
       "      <td>2002</td>\n",
       "    </tr>\n",
       "    <tr>\n",
       "      <th>3</th>\n",
       "      <td>/games/boxart/full_9218923AmericaFrontccc.jpg</td>\n",
       "      <td>Grand Theft Auto V</td>\n",
       "      <td>X360</td>\n",
       "      <td>Action</td>\n",
       "      <td>Rockstar Games</td>\n",
       "      <td>Rockstar North</td>\n",
       "      <td>NaN</td>\n",
       "      <td>15.86</td>\n",
       "      <td>9.06</td>\n",
       "      <td>0.06</td>\n",
       "      <td>5.33</td>\n",
       "      <td>1.42</td>\n",
       "      <td>2013-09-17</td>\n",
       "      <td>NaN</td>\n",
       "      <td>2013</td>\n",
       "    </tr>\n",
       "    <tr>\n",
       "      <th>4</th>\n",
       "      <td>/games/boxart/full_4990510AmericaFrontccc.jpg</td>\n",
       "      <td>Call of Duty: Black Ops 3</td>\n",
       "      <td>PS4</td>\n",
       "      <td>Shooter</td>\n",
       "      <td>Activision</td>\n",
       "      <td>Treyarch</td>\n",
       "      <td>8.1</td>\n",
       "      <td>15.09</td>\n",
       "      <td>6.18</td>\n",
       "      <td>0.41</td>\n",
       "      <td>6.05</td>\n",
       "      <td>2.44</td>\n",
       "      <td>2015-11-06</td>\n",
       "      <td>2018-01-14</td>\n",
       "      <td>2015</td>\n",
       "    </tr>\n",
       "  </tbody>\n",
       "</table>\n",
       "</div>"
      ],
      "text/plain": [
       "                                             img                        title  \\\n",
       "0  /games/boxart/full_6510540AmericaFrontccc.jpg           Grand Theft Auto V   \n",
       "1  /games/boxart/full_5563178AmericaFrontccc.jpg           Grand Theft Auto V   \n",
       "2                    /games/boxart/827563ccc.jpg  Grand Theft Auto: Vice City   \n",
       "3  /games/boxart/full_9218923AmericaFrontccc.jpg           Grand Theft Auto V   \n",
       "4  /games/boxart/full_4990510AmericaFrontccc.jpg    Call of Duty: Black Ops 3   \n",
       "\n",
       "  console    genre       publisher       developer  critic_score  total_sales  \\\n",
       "0     PS3   Action  Rockstar Games  Rockstar North           9.4        20.32   \n",
       "1     PS4   Action  Rockstar Games  Rockstar North           9.7        19.39   \n",
       "2     PS2   Action  Rockstar Games  Rockstar North           9.6        16.15   \n",
       "3    X360   Action  Rockstar Games  Rockstar North           NaN        15.86   \n",
       "4     PS4  Shooter      Activision        Treyarch           8.1        15.09   \n",
       "\n",
       "   na_sales  jp_sales  pal_sales  other_sales release_date last_update  \\\n",
       "0      6.37      0.99       9.85         3.12   2013-09-17         NaN   \n",
       "1      6.06      0.60       9.71         3.02   2014-11-18  2018-01-03   \n",
       "2      8.41      0.47       5.49         1.78   2002-10-28         NaN   \n",
       "3      9.06      0.06       5.33         1.42   2013-09-17         NaN   \n",
       "4      6.18      0.41       6.05         2.44   2015-11-06  2018-01-14   \n",
       "\n",
       "   release_year  \n",
       "0          2013  \n",
       "1          2014  \n",
       "2          2002  \n",
       "3          2013  \n",
       "4          2015  "
      ]
     },
     "execution_count": 16,
     "metadata": {},
     "output_type": "execute_result"
    }
   ],
   "source": [
    "df.head()"
   ]
  },
  {
   "cell_type": "markdown",
   "id": "bcda86a0",
   "metadata": {
    "papermill": {
     "duration": 0.010079,
     "end_time": "2024-10-10T21:31:20.638595",
     "exception": false,
     "start_time": "2024-10-10T21:31:20.628516",
     "status": "completed"
    },
    "tags": []
   },
   "source": [
    "Analysis ! "
   ]
  },
  {
   "cell_type": "code",
   "execution_count": 17,
   "id": "553f1f18",
   "metadata": {
    "execution": {
     "iopub.execute_input": "2024-10-10T21:31:20.661002Z",
     "iopub.status.busy": "2024-10-10T21:31:20.660558Z",
     "iopub.status.idle": "2024-10-10T21:31:20.706832Z",
     "shell.execute_reply": "2024-10-10T21:31:20.705539Z"
    },
    "papermill": {
     "duration": 0.060656,
     "end_time": "2024-10-10T21:31:20.709583",
     "exception": false,
     "start_time": "2024-10-10T21:31:20.648927",
     "status": "completed"
    },
    "tags": []
   },
   "outputs": [
    {
     "data": {
      "text/html": [
       "<div>\n",
       "<style scoped>\n",
       "    .dataframe tbody tr th:only-of-type {\n",
       "        vertical-align: middle;\n",
       "    }\n",
       "\n",
       "    .dataframe tbody tr th {\n",
       "        vertical-align: top;\n",
       "    }\n",
       "\n",
       "    .dataframe thead th {\n",
       "        text-align: right;\n",
       "    }\n",
       "</style>\n",
       "<table border=\"1\" class=\"dataframe\">\n",
       "  <thead>\n",
       "    <tr style=\"text-align: right;\">\n",
       "      <th></th>\n",
       "      <th>critic_score</th>\n",
       "      <th>total_sales</th>\n",
       "      <th>na_sales</th>\n",
       "      <th>jp_sales</th>\n",
       "      <th>pal_sales</th>\n",
       "      <th>other_sales</th>\n",
       "      <th>release_date</th>\n",
       "      <th>release_year</th>\n",
       "    </tr>\n",
       "  </thead>\n",
       "  <tbody>\n",
       "    <tr>\n",
       "      <th>count</th>\n",
       "      <td>4123.000000</td>\n",
       "      <td>18832.000000</td>\n",
       "      <td>12620.000000</td>\n",
       "      <td>6688.000000</td>\n",
       "      <td>12776.000000</td>\n",
       "      <td>15071.000000</td>\n",
       "      <td>18832</td>\n",
       "      <td>18832.000000</td>\n",
       "    </tr>\n",
       "    <tr>\n",
       "      <th>mean</th>\n",
       "      <td>7.101819</td>\n",
       "      <td>0.350431</td>\n",
       "      <td>0.265036</td>\n",
       "      <td>0.102421</td>\n",
       "      <td>0.149862</td>\n",
       "      <td>0.043163</td>\n",
       "      <td>2008-04-02 22:17:32.166525184</td>\n",
       "      <td>2007.686916</td>\n",
       "    </tr>\n",
       "    <tr>\n",
       "      <th>min</th>\n",
       "      <td>1.000000</td>\n",
       "      <td>0.000000</td>\n",
       "      <td>0.000000</td>\n",
       "      <td>0.000000</td>\n",
       "      <td>0.000000</td>\n",
       "      <td>0.000000</td>\n",
       "      <td>1977-01-01 00:00:00</td>\n",
       "      <td>1977.000000</td>\n",
       "    </tr>\n",
       "    <tr>\n",
       "      <th>25%</th>\n",
       "      <td>6.300000</td>\n",
       "      <td>0.030000</td>\n",
       "      <td>0.050000</td>\n",
       "      <td>0.020000</td>\n",
       "      <td>0.010000</td>\n",
       "      <td>0.000000</td>\n",
       "      <td>2004-09-27 00:00:00</td>\n",
       "      <td>2004.000000</td>\n",
       "    </tr>\n",
       "    <tr>\n",
       "      <th>50%</th>\n",
       "      <td>7.300000</td>\n",
       "      <td>0.120000</td>\n",
       "      <td>0.120000</td>\n",
       "      <td>0.040000</td>\n",
       "      <td>0.040000</td>\n",
       "      <td>0.010000</td>\n",
       "      <td>2008-10-21 00:00:00</td>\n",
       "      <td>2008.000000</td>\n",
       "    </tr>\n",
       "    <tr>\n",
       "      <th>75%</th>\n",
       "      <td>8.100000</td>\n",
       "      <td>0.350000</td>\n",
       "      <td>0.280000</td>\n",
       "      <td>0.120000</td>\n",
       "      <td>0.140000</td>\n",
       "      <td>0.030000</td>\n",
       "      <td>2011-11-08 00:00:00</td>\n",
       "      <td>2011.000000</td>\n",
       "    </tr>\n",
       "    <tr>\n",
       "      <th>max</th>\n",
       "      <td>10.000000</td>\n",
       "      <td>20.320000</td>\n",
       "      <td>9.760000</td>\n",
       "      <td>2.130000</td>\n",
       "      <td>9.850000</td>\n",
       "      <td>3.120000</td>\n",
       "      <td>2020-12-31 00:00:00</td>\n",
       "      <td>2020.000000</td>\n",
       "    </tr>\n",
       "    <tr>\n",
       "      <th>std</th>\n",
       "      <td>1.439631</td>\n",
       "      <td>0.809039</td>\n",
       "      <td>0.495046</td>\n",
       "      <td>0.169141</td>\n",
       "      <td>0.393217</td>\n",
       "      <td>0.126838</td>\n",
       "      <td>NaN</td>\n",
       "      <td>6.028529</td>\n",
       "    </tr>\n",
       "  </tbody>\n",
       "</table>\n",
       "</div>"
      ],
      "text/plain": [
       "       critic_score   total_sales      na_sales     jp_sales     pal_sales  \\\n",
       "count   4123.000000  18832.000000  12620.000000  6688.000000  12776.000000   \n",
       "mean       7.101819      0.350431      0.265036     0.102421      0.149862   \n",
       "min        1.000000      0.000000      0.000000     0.000000      0.000000   \n",
       "25%        6.300000      0.030000      0.050000     0.020000      0.010000   \n",
       "50%        7.300000      0.120000      0.120000     0.040000      0.040000   \n",
       "75%        8.100000      0.350000      0.280000     0.120000      0.140000   \n",
       "max       10.000000     20.320000      9.760000     2.130000      9.850000   \n",
       "std        1.439631      0.809039      0.495046     0.169141      0.393217   \n",
       "\n",
       "        other_sales                   release_date  release_year  \n",
       "count  15071.000000                          18832  18832.000000  \n",
       "mean       0.043163  2008-04-02 22:17:32.166525184   2007.686916  \n",
       "min        0.000000            1977-01-01 00:00:00   1977.000000  \n",
       "25%        0.000000            2004-09-27 00:00:00   2004.000000  \n",
       "50%        0.010000            2008-10-21 00:00:00   2008.000000  \n",
       "75%        0.030000            2011-11-08 00:00:00   2011.000000  \n",
       "max        3.120000            2020-12-31 00:00:00   2020.000000  \n",
       "std        0.126838                            NaN      6.028529  "
      ]
     },
     "execution_count": 17,
     "metadata": {},
     "output_type": "execute_result"
    }
   ],
   "source": [
    "df.describe()"
   ]
  },
  {
   "cell_type": "code",
   "execution_count": 18,
   "id": "ca0374ba",
   "metadata": {
    "execution": {
     "iopub.execute_input": "2024-10-10T21:31:20.734507Z",
     "iopub.status.busy": "2024-10-10T21:31:20.733175Z",
     "iopub.status.idle": "2024-10-10T21:31:20.745654Z",
     "shell.execute_reply": "2024-10-10T21:31:20.744564Z"
    },
    "papermill": {
     "duration": 0.02817,
     "end_time": "2024-10-10T21:31:20.748400",
     "exception": false,
     "start_time": "2024-10-10T21:31:20.720230",
     "status": "completed"
    },
    "tags": []
   },
   "outputs": [],
   "source": [
    "df_sales_by_year = df.groupby('release_year')[['total_sales','na_sales','jp_sales','pal_sales','other_sales']].sum()\n"
   ]
  },
  {
   "cell_type": "code",
   "execution_count": 19,
   "id": "d2e7581e",
   "metadata": {
    "execution": {
     "iopub.execute_input": "2024-10-10T21:31:20.772247Z",
     "iopub.status.busy": "2024-10-10T21:31:20.771801Z",
     "iopub.status.idle": "2024-10-10T21:31:20.789139Z",
     "shell.execute_reply": "2024-10-10T21:31:20.787940Z"
    },
    "papermill": {
     "duration": 0.032137,
     "end_time": "2024-10-10T21:31:20.791681",
     "exception": false,
     "start_time": "2024-10-10T21:31:20.759544",
     "status": "completed"
    },
    "tags": []
   },
   "outputs": [
    {
     "data": {
      "text/html": [
       "<div>\n",
       "<style scoped>\n",
       "    .dataframe tbody tr th:only-of-type {\n",
       "        vertical-align: middle;\n",
       "    }\n",
       "\n",
       "    .dataframe tbody tr th {\n",
       "        vertical-align: top;\n",
       "    }\n",
       "\n",
       "    .dataframe thead th {\n",
       "        text-align: right;\n",
       "    }\n",
       "</style>\n",
       "<table border=\"1\" class=\"dataframe\">\n",
       "  <thead>\n",
       "    <tr style=\"text-align: right;\">\n",
       "      <th></th>\n",
       "      <th>total_sales</th>\n",
       "      <th>na_sales</th>\n",
       "      <th>jp_sales</th>\n",
       "      <th>pal_sales</th>\n",
       "      <th>other_sales</th>\n",
       "    </tr>\n",
       "    <tr>\n",
       "      <th>release_year</th>\n",
       "      <th></th>\n",
       "      <th></th>\n",
       "      <th></th>\n",
       "      <th></th>\n",
       "      <th></th>\n",
       "    </tr>\n",
       "  </thead>\n",
       "  <tbody>\n",
       "    <tr>\n",
       "      <th>1977</th>\n",
       "      <td>2.50</td>\n",
       "      <td>2.34</td>\n",
       "      <td>0.0</td>\n",
       "      <td>0.14</td>\n",
       "      <td>0.02</td>\n",
       "    </tr>\n",
       "    <tr>\n",
       "      <th>1978</th>\n",
       "      <td>2.36</td>\n",
       "      <td>2.20</td>\n",
       "      <td>0.0</td>\n",
       "      <td>0.14</td>\n",
       "      <td>0.00</td>\n",
       "    </tr>\n",
       "    <tr>\n",
       "      <th>1979</th>\n",
       "      <td>0.31</td>\n",
       "      <td>0.29</td>\n",
       "      <td>0.0</td>\n",
       "      <td>0.02</td>\n",
       "      <td>0.00</td>\n",
       "    </tr>\n",
       "    <tr>\n",
       "      <th>1980</th>\n",
       "      <td>2.26</td>\n",
       "      <td>2.11</td>\n",
       "      <td>0.0</td>\n",
       "      <td>0.13</td>\n",
       "      <td>0.02</td>\n",
       "    </tr>\n",
       "    <tr>\n",
       "      <th>1981</th>\n",
       "      <td>7.73</td>\n",
       "      <td>7.21</td>\n",
       "      <td>0.0</td>\n",
       "      <td>0.45</td>\n",
       "      <td>0.08</td>\n",
       "    </tr>\n",
       "  </tbody>\n",
       "</table>\n",
       "</div>"
      ],
      "text/plain": [
       "              total_sales  na_sales  jp_sales  pal_sales  other_sales\n",
       "release_year                                                         \n",
       "1977                 2.50      2.34       0.0       0.14         0.02\n",
       "1978                 2.36      2.20       0.0       0.14         0.00\n",
       "1979                 0.31      0.29       0.0       0.02         0.00\n",
       "1980                 2.26      2.11       0.0       0.13         0.02\n",
       "1981                 7.73      7.21       0.0       0.45         0.08"
      ]
     },
     "execution_count": 19,
     "metadata": {},
     "output_type": "execute_result"
    }
   ],
   "source": [
    "df_sales_by_year.head()"
   ]
  },
  {
   "cell_type": "code",
   "execution_count": 20,
   "id": "4294e39f",
   "metadata": {
    "execution": {
     "iopub.execute_input": "2024-10-10T21:31:20.816021Z",
     "iopub.status.busy": "2024-10-10T21:31:20.815547Z",
     "iopub.status.idle": "2024-10-10T21:31:21.291081Z",
     "shell.execute_reply": "2024-10-10T21:31:21.289681Z"
    },
    "papermill": {
     "duration": 0.49189,
     "end_time": "2024-10-10T21:31:21.294563",
     "exception": false,
     "start_time": "2024-10-10T21:31:20.802673",
     "status": "completed"
    },
    "tags": []
   },
   "outputs": [
    {
     "name": "stderr",
     "output_type": "stream",
     "text": [
      "/opt/conda/lib/python3.10/site-packages/seaborn/_oldcore.py:1119: FutureWarning: use_inf_as_na option is deprecated and will be removed in a future version. Convert inf values to NaN before operating instead.\n",
      "  with pd.option_context('mode.use_inf_as_na', True):\n",
      "/opt/conda/lib/python3.10/site-packages/seaborn/_oldcore.py:1119: FutureWarning: use_inf_as_na option is deprecated and will be removed in a future version. Convert inf values to NaN before operating instead.\n",
      "  with pd.option_context('mode.use_inf_as_na', True):\n"
     ]
    },
    {
     "data": {
      "text/plain": [
       "<Axes: xlabel='release_year'>"
      ]
     },
     "execution_count": 20,
     "metadata": {},
     "output_type": "execute_result"
    },
    {
     "data": {
      "image/png": "[encoded data removed]",
      "text/plain": [
       "<Figure size 640x480 with 1 Axes>"
      ]
     },
     "metadata": {},
     "output_type": "display_data"
    }
   ],
   "source": [
    "sns.lineplot(data=df_sales_by_year)"
   ]
  }
 ],
 "metadata": {
  "kaggle": {
   "accelerator": "none",
   "dataSources": [
    {
     "datasetId": 4371999,
     "sourceId": 7507070,
     "sourceType": "datasetVersion"
    }
   ],
   "dockerImageVersionId": 30786,
   "isGpuEnabled": false,
   "isInternetEnabled": true,
   "language": "python",
   "sourceType": "notebook"
  },
  "kernelspec": {
   "display_name": "Python 3",
   "language": "python",
   "name": "python3"
  },
  "language_info": {
   "codemirror_mode": {
    "name": "ipython",
    "version": 3
   },
   "file_extension": ".py",
   "mimetype": "text/x-python",
   "name": "python",
   "nbconvert_exporter": "python",
   "pygments_lexer": "ipython3",
   "version": "3.10.14"
  },
  "papermill": {
   "default_parameters": {},
   "duration": 8.856333,
   "end_time": "2024-10-10T21:31:21.928680",
   "environment_variables": {},
   "exception": null,
   "input_path": "__notebook__.ipynb",
   "output_path": "__notebook__.ipynb",
   "parameters": {},
   "start_time": "2024-10-10T21:31:13.072347",
   "version": "2.6.0"
  },
  "vscode": {
   "interpreter": {
    "hash": "146de41bdd921a4e49b5430ed435984d2f3b4e3da25c2db8b0d474b5a0f67c6d"
   }
  }
 },
 "nbformat": 4,
 "nbformat_minor": 5
}
