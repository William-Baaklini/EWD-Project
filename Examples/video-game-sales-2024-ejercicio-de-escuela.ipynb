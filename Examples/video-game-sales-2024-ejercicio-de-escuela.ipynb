{
 "cells": [
  {
   "cell_type": "code",
   "execution_count": 1,
   "id": "49bebc6f",
   "metadata": {
    "_cell_guid": "b1076dfc-b9ad-4769-8c92-a6c4dae69d19",
    "_uuid": "8f2839f25d086af736a60e9eeb907d3b93b6e0e5",
    "execution": {
     "iopub.execute_input": "2024-09-27T19:54:23.876189Z",
     "iopub.status.busy": "2024-09-27T19:54:23.875744Z",
     "iopub.status.idle": "2024-09-27T19:54:25.301501Z",
     "shell.execute_reply": "2024-09-27T19:54:25.300355Z"
    },
    "papermill": {
     "duration": 1.438388,
     "end_time": "2024-09-27T19:54:25.304007",
     "exception": false,
     "start_time": "2024-09-27T19:54:23.865619",
     "status": "completed"
    },
    "tags": []
   },
   "outputs": [
    {
     "data": {
      "text/html": [
       "<div>\n",
       "<style scoped>\n",
       "    .dataframe tbody tr th:only-of-type {\n",
       "        vertical-align: middle;\n",
       "    }\n",
       "\n",
       "    .dataframe tbody tr th {\n",
       "        vertical-align: top;\n",
       "    }\n",
       "\n",
       "    .dataframe thead th {\n",
       "        text-align: right;\n",
       "    }\n",
       "</style>\n",
       "<table border=\"1\" class=\"dataframe\">\n",
       "  <thead>\n",
       "    <tr style=\"text-align: right;\">\n",
       "      <th></th>\n",
       "      <th>img</th>\n",
       "      <th>title</th>\n",
       "      <th>console</th>\n",
       "      <th>genre</th>\n",
       "      <th>publisher</th>\n",
       "      <th>developer</th>\n",
       "      <th>critic_score</th>\n",
       "      <th>total_sales</th>\n",
       "      <th>na_sales</th>\n",
       "      <th>jp_sales</th>\n",
       "      <th>pal_sales</th>\n",
       "      <th>other_sales</th>\n",
       "      <th>release_date</th>\n",
       "      <th>last_update</th>\n",
       "    </tr>\n",
       "  </thead>\n",
       "  <tbody>\n",
       "    <tr>\n",
       "      <th>0</th>\n",
       "      <td>/games/boxart/full_6510540AmericaFrontccc.jpg</td>\n",
       "      <td>Grand Theft Auto V</td>\n",
       "      <td>PS3</td>\n",
       "      <td>Action</td>\n",
       "      <td>Rockstar Games</td>\n",
       "      <td>Rockstar North</td>\n",
       "      <td>9.4</td>\n",
       "      <td>20.32</td>\n",
       "      <td>6.37</td>\n",
       "      <td>0.99</td>\n",
       "      <td>9.85</td>\n",
       "      <td>3.12</td>\n",
       "      <td>2013-09-17</td>\n",
       "      <td>NaN</td>\n",
       "    </tr>\n",
       "    <tr>\n",
       "      <th>1</th>\n",
       "      <td>/games/boxart/full_5563178AmericaFrontccc.jpg</td>\n",
       "      <td>Grand Theft Auto V</td>\n",
       "      <td>PS4</td>\n",
       "      <td>Action</td>\n",
       "      <td>Rockstar Games</td>\n",
       "      <td>Rockstar North</td>\n",
       "      <td>9.7</td>\n",
       "      <td>19.39</td>\n",
       "      <td>6.06</td>\n",
       "      <td>0.60</td>\n",
       "      <td>9.71</td>\n",
       "      <td>3.02</td>\n",
       "      <td>2014-11-18</td>\n",
       "      <td>2018-01-03</td>\n",
       "    </tr>\n",
       "    <tr>\n",
       "      <th>2</th>\n",
       "      <td>/games/boxart/827563ccc.jpg</td>\n",
       "      <td>Grand Theft Auto: Vice City</td>\n",
       "      <td>PS2</td>\n",
       "      <td>Action</td>\n",
       "      <td>Rockstar Games</td>\n",
       "      <td>Rockstar North</td>\n",
       "      <td>9.6</td>\n",
       "      <td>16.15</td>\n",
       "      <td>8.41</td>\n",
       "      <td>0.47</td>\n",
       "      <td>5.49</td>\n",
       "      <td>1.78</td>\n",
       "      <td>2002-10-28</td>\n",
       "      <td>NaN</td>\n",
       "    </tr>\n",
       "    <tr>\n",
       "      <th>3</th>\n",
       "      <td>/games/boxart/full_9218923AmericaFrontccc.jpg</td>\n",
       "      <td>Grand Theft Auto V</td>\n",
       "      <td>X360</td>\n",
       "      <td>Action</td>\n",
       "      <td>Rockstar Games</td>\n",
       "      <td>Rockstar North</td>\n",
       "      <td>NaN</td>\n",
       "      <td>15.86</td>\n",
       "      <td>9.06</td>\n",
       "      <td>0.06</td>\n",
       "      <td>5.33</td>\n",
       "      <td>1.42</td>\n",
       "      <td>2013-09-17</td>\n",
       "      <td>NaN</td>\n",
       "    </tr>\n",
       "    <tr>\n",
       "      <th>4</th>\n",
       "      <td>/games/boxart/full_4990510AmericaFrontccc.jpg</td>\n",
       "      <td>Call of Duty: Black Ops 3</td>\n",
       "      <td>PS4</td>\n",
       "      <td>Shooter</td>\n",
       "      <td>Activision</td>\n",
       "      <td>Treyarch</td>\n",
       "      <td>8.1</td>\n",
       "      <td>15.09</td>\n",
       "      <td>6.18</td>\n",
       "      <td>0.41</td>\n",
       "      <td>6.05</td>\n",
       "      <td>2.44</td>\n",
       "      <td>2015-11-06</td>\n",
       "      <td>2018-01-14</td>\n",
       "    </tr>\n",
       "  </tbody>\n",
       "</table>\n",
       "</div>"
      ],
      "text/plain": [
       "                                             img                        title  \\\n",
       "0  /games/boxart/full_6510540AmericaFrontccc.jpg           Grand Theft Auto V   \n",
       "1  /games/boxart/full_5563178AmericaFrontccc.jpg           Grand Theft Auto V   \n",
       "2                    /games/boxart/827563ccc.jpg  Grand Theft Auto: Vice City   \n",
       "3  /games/boxart/full_9218923AmericaFrontccc.jpg           Grand Theft Auto V   \n",
       "4  /games/boxart/full_4990510AmericaFrontccc.jpg    Call of Duty: Black Ops 3   \n",
       "\n",
       "  console    genre       publisher       developer  critic_score  total_sales  \\\n",
       "0     PS3   Action  Rockstar Games  Rockstar North           9.4        20.32   \n",
       "1     PS4   Action  Rockstar Games  Rockstar North           9.7        19.39   \n",
       "2     PS2   Action  Rockstar Games  Rockstar North           9.6        16.15   \n",
       "3    X360   Action  Rockstar Games  Rockstar North           NaN        15.86   \n",
       "4     PS4  Shooter      Activision        Treyarch           8.1        15.09   \n",
       "\n",
       "   na_sales  jp_sales  pal_sales  other_sales release_date last_update  \n",
       "0      6.37      0.99       9.85         3.12   2013-09-17         NaN  \n",
       "1      6.06      0.60       9.71         3.02   2014-11-18  2018-01-03  \n",
       "2      8.41      0.47       5.49         1.78   2002-10-28         NaN  \n",
       "3      9.06      0.06       5.33         1.42   2013-09-17         NaN  \n",
       "4      6.18      0.41       6.05         2.44   2015-11-06  2018-01-14  "
      ]
     },
     "execution_count": 1,
     "metadata": {},
     "output_type": "execute_result"
    }
   ],
   "source": [
    "import pandas as pd\n",
    "\n",
    "data = pd.read_csv('/kaggle/input/video-game-sales-2024/vgchartz-2024.csv')\n",
    "data.head()"
   ]
  },
  {
   "cell_type": "code",
   "execution_count": 2,
   "id": "a1fc36e7",
   "metadata": {
    "execution": {
     "iopub.execute_input": "2024-09-27T19:54:25.321407Z",
     "iopub.status.busy": "2024-09-27T19:54:25.320957Z",
     "iopub.status.idle": "2024-09-27T19:54:25.345704Z",
     "shell.execute_reply": "2024-09-27T19:54:25.344562Z"
    },
    "papermill": {
     "duration": 0.036211,
     "end_time": "2024-09-27T19:54:25.348265",
     "exception": false,
     "start_time": "2024-09-27T19:54:25.312054",
     "status": "completed"
    },
    "tags": []
   },
   "outputs": [
    {
     "data": {
      "text/html": [
       "<div>\n",
       "<style scoped>\n",
       "    .dataframe tbody tr th:only-of-type {\n",
       "        vertical-align: middle;\n",
       "    }\n",
       "\n",
       "    .dataframe tbody tr th {\n",
       "        vertical-align: top;\n",
       "    }\n",
       "\n",
       "    .dataframe thead th {\n",
       "        text-align: right;\n",
       "    }\n",
       "</style>\n",
       "<table border=\"1\" class=\"dataframe\">\n",
       "  <thead>\n",
       "    <tr style=\"text-align: right;\">\n",
       "      <th></th>\n",
       "      <th>genre</th>\n",
       "      <th>total_sales</th>\n",
       "      <th>pal_sales</th>\n",
       "      <th>other_sales</th>\n",
       "    </tr>\n",
       "  </thead>\n",
       "  <tbody>\n",
       "    <tr>\n",
       "      <th>0</th>\n",
       "      <td>Action</td>\n",
       "      <td>20.32</td>\n",
       "      <td>9.85</td>\n",
       "      <td>3.12</td>\n",
       "    </tr>\n",
       "    <tr>\n",
       "      <th>1</th>\n",
       "      <td>Action</td>\n",
       "      <td>19.39</td>\n",
       "      <td>9.71</td>\n",
       "      <td>3.02</td>\n",
       "    </tr>\n",
       "    <tr>\n",
       "      <th>2</th>\n",
       "      <td>Action</td>\n",
       "      <td>16.15</td>\n",
       "      <td>5.49</td>\n",
       "      <td>1.78</td>\n",
       "    </tr>\n",
       "    <tr>\n",
       "      <th>3</th>\n",
       "      <td>Action</td>\n",
       "      <td>15.86</td>\n",
       "      <td>5.33</td>\n",
       "      <td>1.42</td>\n",
       "    </tr>\n",
       "    <tr>\n",
       "      <th>4</th>\n",
       "      <td>Shooter</td>\n",
       "      <td>15.09</td>\n",
       "      <td>6.05</td>\n",
       "      <td>2.44</td>\n",
       "    </tr>\n",
       "    <tr>\n",
       "      <th>...</th>\n",
       "      <td>...</td>\n",
       "      <td>...</td>\n",
       "      <td>...</td>\n",
       "      <td>...</td>\n",
       "    </tr>\n",
       "    <tr>\n",
       "      <th>64011</th>\n",
       "      <td>Visual Novel</td>\n",
       "      <td>NaN</td>\n",
       "      <td>NaN</td>\n",
       "      <td>NaN</td>\n",
       "    </tr>\n",
       "    <tr>\n",
       "      <th>64012</th>\n",
       "      <td>Visual Novel</td>\n",
       "      <td>NaN</td>\n",
       "      <td>NaN</td>\n",
       "      <td>NaN</td>\n",
       "    </tr>\n",
       "    <tr>\n",
       "      <th>64013</th>\n",
       "      <td>Visual Novel</td>\n",
       "      <td>NaN</td>\n",
       "      <td>NaN</td>\n",
       "      <td>NaN</td>\n",
       "    </tr>\n",
       "    <tr>\n",
       "      <th>64014</th>\n",
       "      <td>Visual Novel</td>\n",
       "      <td>NaN</td>\n",
       "      <td>NaN</td>\n",
       "      <td>NaN</td>\n",
       "    </tr>\n",
       "    <tr>\n",
       "      <th>64015</th>\n",
       "      <td>Visual Novel</td>\n",
       "      <td>NaN</td>\n",
       "      <td>NaN</td>\n",
       "      <td>NaN</td>\n",
       "    </tr>\n",
       "  </tbody>\n",
       "</table>\n",
       "<p>64016 rows × 4 columns</p>\n",
       "</div>"
      ],
      "text/plain": [
       "              genre  total_sales  pal_sales  other_sales\n",
       "0            Action        20.32       9.85         3.12\n",
       "1            Action        19.39       9.71         3.02\n",
       "2            Action        16.15       5.49         1.78\n",
       "3            Action        15.86       5.33         1.42\n",
       "4           Shooter        15.09       6.05         2.44\n",
       "...             ...          ...        ...          ...\n",
       "64011  Visual Novel          NaN        NaN          NaN\n",
       "64012  Visual Novel          NaN        NaN          NaN\n",
       "64013  Visual Novel          NaN        NaN          NaN\n",
       "64014  Visual Novel          NaN        NaN          NaN\n",
       "64015  Visual Novel          NaN        NaN          NaN\n",
       "\n",
       "[64016 rows x 4 columns]"
      ]
     },
     "execution_count": 2,
     "metadata": {},
     "output_type": "execute_result"
    }
   ],
   "source": [
    "data = data.drop(columns=[\"img\",\"title\",\"console\",\"publisher\",\"developer\",\"critic_score\",\"na_sales\",\"jp_sales\",\"release_date\",\"last_update\"])\n",
    "data"
   ]
  },
  {
   "cell_type": "code",
   "execution_count": 3,
   "id": "30de573c",
   "metadata": {
    "execution": {
     "iopub.execute_input": "2024-09-27T19:54:25.366799Z",
     "iopub.status.busy": "2024-09-27T19:54:25.365719Z",
     "iopub.status.idle": "2024-09-27T19:54:25.381580Z",
     "shell.execute_reply": "2024-09-27T19:54:25.380609Z"
    },
    "papermill": {
     "duration": 0.027811,
     "end_time": "2024-09-27T19:54:25.384156",
     "exception": false,
     "start_time": "2024-09-27T19:54:25.356345",
     "status": "completed"
    },
    "tags": []
   },
   "outputs": [],
   "source": [
    "data = data.dropna()"
   ]
  },
  {
   "cell_type": "code",
   "execution_count": 4,
   "id": "01e9237e",
   "metadata": {
    "execution": {
     "iopub.execute_input": "2024-09-27T19:54:25.403171Z",
     "iopub.status.busy": "2024-09-27T19:54:25.402738Z",
     "iopub.status.idle": "2024-09-27T19:54:25.426055Z",
     "shell.execute_reply": "2024-09-27T19:54:25.424687Z"
    },
    "papermill": {
     "duration": 0.036245,
     "end_time": "2024-09-27T19:54:25.428879",
     "exception": false,
     "start_time": "2024-09-27T19:54:25.392634",
     "status": "completed"
    },
    "tags": []
   },
   "outputs": [
    {
     "name": "stdout",
     "output_type": "stream",
     "text": [
      "<class 'pandas.core.frame.DataFrame'>\n",
      "Index: 12648 entries, 0 to 18920\n",
      "Data columns (total 4 columns):\n",
      " #   Column       Non-Null Count  Dtype  \n",
      "---  ------       --------------  -----  \n",
      " 0   genre        12648 non-null  object \n",
      " 1   total_sales  12648 non-null  float64\n",
      " 2   pal_sales    12648 non-null  float64\n",
      " 3   other_sales  12648 non-null  float64\n",
      "dtypes: float64(3), object(1)\n",
      "memory usage: 494.1+ KB\n"
     ]
    }
   ],
   "source": [
    "data.info()"
   ]
  },
  {
   "cell_type": "code",
   "execution_count": 5,
   "id": "09589ab9",
   "metadata": {
    "execution": {
     "iopub.execute_input": "2024-09-27T19:54:25.448869Z",
     "iopub.status.busy": "2024-09-27T19:54:25.447675Z",
     "iopub.status.idle": "2024-09-27T19:54:25.459391Z",
     "shell.execute_reply": "2024-09-27T19:54:25.458215Z"
    },
    "papermill": {
     "duration": 0.024121,
     "end_time": "2024-09-27T19:54:25.461999",
     "exception": false,
     "start_time": "2024-09-27T19:54:25.437878",
     "status": "completed"
    },
    "tags": []
   },
   "outputs": [
    {
     "data": {
      "text/plain": [
       "genre\n",
       "Action              2112\n",
       "Sports              1860\n",
       "Shooter             1256\n",
       "Racing              1209\n",
       "Misc                1164\n",
       "Adventure            902\n",
       "Platform             795\n",
       "Role-Playing         737\n",
       "Simulation           691\n",
       "Fighting             568\n",
       "Strategy             502\n",
       "Puzzle               494\n",
       "Action-Adventure     219\n",
       "Music                 90\n",
       "MMO                   19\n",
       "Party                 17\n",
       "Visual Novel           8\n",
       "Education              3\n",
       "Sandbox                1\n",
       "Board Game             1\n",
       "Name: count, dtype: int64"
      ]
     },
     "execution_count": 5,
     "metadata": {},
     "output_type": "execute_result"
    }
   ],
   "source": [
    "data['genre'].value_counts()"
   ]
  },
  {
   "cell_type": "code",
   "execution_count": 6,
   "id": "fd5bec30",
   "metadata": {
    "execution": {
     "iopub.execute_input": "2024-09-27T19:54:25.480673Z",
     "iopub.status.busy": "2024-09-27T19:54:25.480262Z",
     "iopub.status.idle": "2024-09-27T19:54:26.949316Z",
     "shell.execute_reply": "2024-09-27T19:54:26.948081Z"
    },
    "papermill": {
     "duration": 1.481703,
     "end_time": "2024-09-27T19:54:26.952187",
     "exception": false,
     "start_time": "2024-09-27T19:54:25.470484",
     "status": "completed"
    },
    "tags": []
   },
   "outputs": [
    {
     "data": {
      "text/plain": [
       "(12648, 10118, 2530)"
      ]
     },
     "execution_count": 6,
     "metadata": {},
     "output_type": "execute_result"
    }
   ],
   "source": [
    "from sklearn.model_selection import train_test_split\n",
    "\n",
    "train, test = train_test_split(data, test_size=0.2) \n",
    "\n",
    "len (data), len(train), len(test)"
   ]
  },
  {
   "cell_type": "code",
   "execution_count": 7,
   "id": "5feb4f73",
   "metadata": {
    "execution": {
     "iopub.execute_input": "2024-09-27T19:54:26.971297Z",
     "iopub.status.busy": "2024-09-27T19:54:26.970668Z",
     "iopub.status.idle": "2024-09-27T19:54:26.982574Z",
     "shell.execute_reply": "2024-09-27T19:54:26.981378Z"
    },
    "papermill": {
     "duration": 0.024671,
     "end_time": "2024-09-27T19:54:26.985419",
     "exception": false,
     "start_time": "2024-09-27T19:54:26.960748",
     "status": "completed"
    },
    "tags": []
   },
   "outputs": [],
   "source": [
    "train_data, y_train = train.drop(['total_sales'], axis=1), train['total_sales'].copy()\n",
    "test_data, y_test = test.drop(['total_sales'], axis=1), test['total_sales'].copy()\n",
    "\n",
    "train_num = train_data.drop(['genre'], axis=1)\n",
    "train_cat = train_data[['genre']]"
   ]
  },
  {
   "cell_type": "code",
   "execution_count": 8,
   "id": "33d6bf31",
   "metadata": {
    "execution": {
     "iopub.execute_input": "2024-09-27T19:54:27.005028Z",
     "iopub.status.busy": "2024-09-27T19:54:27.004552Z",
     "iopub.status.idle": "2024-09-27T19:54:27.014171Z",
     "shell.execute_reply": "2024-09-27T19:54:27.012984Z"
    },
    "papermill": {
     "duration": 0.021693,
     "end_time": "2024-09-27T19:54:27.016598",
     "exception": false,
     "start_time": "2024-09-27T19:54:26.994905",
     "status": "completed"
    },
    "tags": []
   },
   "outputs": [
    {
     "data": {
      "text/plain": [
       "2225     0.72\n",
       "9948     0.11\n",
       "2884     0.57\n",
       "606      1.81\n",
       "2727     0.60\n",
       "         ... \n",
       "6340     0.24\n",
       "462      2.15\n",
       "5358     0.29\n",
       "99       4.79\n",
       "10097    0.10\n",
       "Name: total_sales, Length: 2530, dtype: float64"
      ]
     },
     "execution_count": 8,
     "metadata": {},
     "output_type": "execute_result"
    }
   ],
   "source": [
    "y_test"
   ]
  },
  {
   "cell_type": "code",
   "execution_count": 9,
   "id": "280321d8",
   "metadata": {
    "execution": {
     "iopub.execute_input": "2024-09-27T19:54:27.035863Z",
     "iopub.status.busy": "2024-09-27T19:54:27.035002Z",
     "iopub.status.idle": "2024-09-27T19:54:27.050130Z",
     "shell.execute_reply": "2024-09-27T19:54:27.048962Z"
    },
    "papermill": {
     "duration": 0.027773,
     "end_time": "2024-09-27T19:54:27.052921",
     "exception": false,
     "start_time": "2024-09-27T19:54:27.025148",
     "status": "completed"
    },
    "tags": []
   },
   "outputs": [
    {
     "data": {
      "text/html": [
       "<div>\n",
       "<style scoped>\n",
       "    .dataframe tbody tr th:only-of-type {\n",
       "        vertical-align: middle;\n",
       "    }\n",
       "\n",
       "    .dataframe tbody tr th {\n",
       "        vertical-align: top;\n",
       "    }\n",
       "\n",
       "    .dataframe thead th {\n",
       "        text-align: right;\n",
       "    }\n",
       "</style>\n",
       "<table border=\"1\" class=\"dataframe\">\n",
       "  <thead>\n",
       "    <tr style=\"text-align: right;\">\n",
       "      <th></th>\n",
       "      <th>genre</th>\n",
       "      <th>pal_sales</th>\n",
       "      <th>other_sales</th>\n",
       "    </tr>\n",
       "  </thead>\n",
       "  <tbody>\n",
       "    <tr>\n",
       "      <th>1851</th>\n",
       "      <td>Shooter</td>\n",
       "      <td>0.27</td>\n",
       "      <td>0.13</td>\n",
       "    </tr>\n",
       "    <tr>\n",
       "      <th>1957</th>\n",
       "      <td>Role-Playing</td>\n",
       "      <td>0.10</td>\n",
       "      <td>0.05</td>\n",
       "    </tr>\n",
       "    <tr>\n",
       "      <th>5019</th>\n",
       "      <td>Puzzle</td>\n",
       "      <td>0.02</td>\n",
       "      <td>0.02</td>\n",
       "    </tr>\n",
       "    <tr>\n",
       "      <th>11166</th>\n",
       "      <td>Racing</td>\n",
       "      <td>0.06</td>\n",
       "      <td>0.01</td>\n",
       "    </tr>\n",
       "    <tr>\n",
       "      <th>8722</th>\n",
       "      <td>Fighting</td>\n",
       "      <td>0.03</td>\n",
       "      <td>0.00</td>\n",
       "    </tr>\n",
       "    <tr>\n",
       "      <th>...</th>\n",
       "      <td>...</td>\n",
       "      <td>...</td>\n",
       "      <td>...</td>\n",
       "    </tr>\n",
       "    <tr>\n",
       "      <th>4698</th>\n",
       "      <td>Misc</td>\n",
       "      <td>0.08</td>\n",
       "      <td>0.01</td>\n",
       "    </tr>\n",
       "    <tr>\n",
       "      <th>17141</th>\n",
       "      <td>Adventure</td>\n",
       "      <td>0.01</td>\n",
       "      <td>0.00</td>\n",
       "    </tr>\n",
       "    <tr>\n",
       "      <th>7353</th>\n",
       "      <td>Sports</td>\n",
       "      <td>0.05</td>\n",
       "      <td>0.00</td>\n",
       "    </tr>\n",
       "    <tr>\n",
       "      <th>6215</th>\n",
       "      <td>Racing</td>\n",
       "      <td>0.03</td>\n",
       "      <td>0.03</td>\n",
       "    </tr>\n",
       "    <tr>\n",
       "      <th>4479</th>\n",
       "      <td>Misc</td>\n",
       "      <td>0.20</td>\n",
       "      <td>0.04</td>\n",
       "    </tr>\n",
       "  </tbody>\n",
       "</table>\n",
       "<p>10118 rows × 3 columns</p>\n",
       "</div>"
      ],
      "text/plain": [
       "              genre  pal_sales  other_sales\n",
       "1851        Shooter       0.27         0.13\n",
       "1957   Role-Playing       0.10         0.05\n",
       "5019         Puzzle       0.02         0.02\n",
       "11166        Racing       0.06         0.01\n",
       "8722       Fighting       0.03         0.00\n",
       "...             ...        ...          ...\n",
       "4698           Misc       0.08         0.01\n",
       "17141     Adventure       0.01         0.00\n",
       "7353         Sports       0.05         0.00\n",
       "6215         Racing       0.03         0.03\n",
       "4479           Misc       0.20         0.04\n",
       "\n",
       "[10118 rows x 3 columns]"
      ]
     },
     "execution_count": 9,
     "metadata": {},
     "output_type": "execute_result"
    }
   ],
   "source": [
    "train_data"
   ]
  },
  {
   "cell_type": "code",
   "execution_count": 10,
   "id": "54a8e1ba",
   "metadata": {
    "execution": {
     "iopub.execute_input": "2024-09-27T19:54:27.072696Z",
     "iopub.status.busy": "2024-09-27T19:54:27.072228Z",
     "iopub.status.idle": "2024-09-27T19:54:27.082347Z",
     "shell.execute_reply": "2024-09-27T19:54:27.081220Z"
    },
    "papermill": {
     "duration": 0.023061,
     "end_time": "2024-09-27T19:54:27.084754",
     "exception": false,
     "start_time": "2024-09-27T19:54:27.061693",
     "status": "completed"
    },
    "tags": []
   },
   "outputs": [
    {
     "data": {
      "text/plain": [
       "1851     0.85\n",
       "1957     0.81\n",
       "5019     0.32\n",
       "11166    0.08\n",
       "8722     0.14\n",
       "         ... \n",
       "4698     0.35\n",
       "17141    0.01\n",
       "7353     0.19\n",
       "6215     0.24\n",
       "4479     0.37\n",
       "Name: total_sales, Length: 10118, dtype: float64"
      ]
     },
     "execution_count": 10,
     "metadata": {},
     "output_type": "execute_result"
    }
   ],
   "source": [
    "y_train"
   ]
  },
  {
   "cell_type": "code",
   "execution_count": 11,
   "id": "1cf2abff",
   "metadata": {
    "execution": {
     "iopub.execute_input": "2024-09-27T19:54:27.104702Z",
     "iopub.status.busy": "2024-09-27T19:54:27.104282Z",
     "iopub.status.idle": "2024-09-27T19:54:27.378617Z",
     "shell.execute_reply": "2024-09-27T19:54:27.377270Z"
    },
    "papermill": {
     "duration": 0.287457,
     "end_time": "2024-09-27T19:54:27.381394",
     "exception": false,
     "start_time": "2024-09-27T19:54:27.093937",
     "status": "completed"
    },
    "tags": []
   },
   "outputs": [
    {
     "data": {
      "text/plain": [
       "array([0.04, 0.01])"
      ]
     },
     "execution_count": 11,
     "metadata": {},
     "output_type": "execute_result"
    }
   ],
   "source": [
    "from sklearn.impute import SimpleImputer\n",
    "\n",
    "imputer = SimpleImputer(strategy=\"median\") \n",
    "imputer.fit(train_num) \n",
    "imputer.statistics_"
   ]
  },
  {
   "cell_type": "code",
   "execution_count": 12,
   "id": "5ecdb021",
   "metadata": {
    "execution": {
     "iopub.execute_input": "2024-09-27T19:54:27.402683Z",
     "iopub.status.busy": "2024-09-27T19:54:27.402225Z",
     "iopub.status.idle": "2024-09-27T19:54:27.412672Z",
     "shell.execute_reply": "2024-09-27T19:54:27.411548Z"
    },
    "papermill": {
     "duration": 0.023993,
     "end_time": "2024-09-27T19:54:27.415151",
     "exception": false,
     "start_time": "2024-09-27T19:54:27.391158",
     "status": "completed"
    },
    "tags": []
   },
   "outputs": [
    {
     "data": {
      "text/plain": [
       "array([[0.27, 0.13],\n",
       "       [0.1 , 0.05],\n",
       "       [0.02, 0.02],\n",
       "       ...,\n",
       "       [0.05, 0.  ],\n",
       "       [0.03, 0.03],\n",
       "       [0.2 , 0.04]])"
      ]
     },
     "execution_count": 12,
     "metadata": {},
     "output_type": "execute_result"
    }
   ],
   "source": [
    "X_train_num = imputer.transform(train_num) \n",
    "\n",
    "X_train_num"
   ]
  },
  {
   "cell_type": "code",
   "execution_count": 13,
   "id": "7a7d4c3d",
   "metadata": {
    "execution": {
     "iopub.execute_input": "2024-09-27T19:54:27.435886Z",
     "iopub.status.busy": "2024-09-27T19:54:27.435386Z",
     "iopub.status.idle": "2024-09-27T19:54:27.446479Z",
     "shell.execute_reply": "2024-09-27T19:54:27.444940Z"
    },
    "papermill": {
     "duration": 0.024459,
     "end_time": "2024-09-27T19:54:27.449019",
     "exception": false,
     "start_time": "2024-09-27T19:54:27.424560",
     "status": "completed"
    },
    "tags": []
   },
   "outputs": [
    {
     "data": {
      "text/plain": [
       "array([[ 0.29900357,  0.56332058],\n",
       "       [-0.1261852 , -0.00179426],\n",
       "       [-0.32627403, -0.21371232],\n",
       "       ...,\n",
       "       [-0.25124072, -0.35499103],\n",
       "       [-0.30126293, -0.14307297],\n",
       "       [ 0.12392584, -0.07243361]])"
      ]
     },
     "execution_count": 13,
     "metadata": {},
     "output_type": "execute_result"
    }
   ],
   "source": [
    "from sklearn.preprocessing import StandardScaler \n",
    "\n",
    "scaler = StandardScaler() # mean y std\n",
    "scaler.fit(X_train_num)\n",
    "X_train_num_scaled = scaler.transform(X_train_num)\n",
    "X_train_num_scaled"
   ]
  },
  {
   "cell_type": "code",
   "execution_count": 14,
   "id": "f1787401",
   "metadata": {
    "execution": {
     "iopub.execute_input": "2024-09-27T19:54:27.470137Z",
     "iopub.status.busy": "2024-09-27T19:54:27.469664Z",
     "iopub.status.idle": "2024-09-27T19:54:27.483186Z",
     "shell.execute_reply": "2024-09-27T19:54:27.482007Z"
    },
    "papermill": {
     "duration": 0.027,
     "end_time": "2024-09-27T19:54:27.485593",
     "exception": false,
     "start_time": "2024-09-27T19:54:27.458593",
     "status": "completed"
    },
    "tags": []
   },
   "outputs": [
    {
     "data": {
      "text/plain": [
       "<Compressed Sparse Row sparse matrix of dtype 'float64'\n",
       "\twith 10118 stored elements and shape (10118, 20)>"
      ]
     },
     "execution_count": 14,
     "metadata": {},
     "output_type": "execute_result"
    }
   ],
   "source": [
    "from sklearn.preprocessing import OneHotEncoder\n",
    "\n",
    "cat_encoder = OneHotEncoder()\n",
    "X_train_cat = cat_encoder.fit_transform(train_cat)\n",
    "X_train_cat"
   ]
  },
  {
   "cell_type": "code",
   "execution_count": 15,
   "id": "9ba9ae51",
   "metadata": {
    "execution": {
     "iopub.execute_input": "2024-09-27T19:54:27.507340Z",
     "iopub.status.busy": "2024-09-27T19:54:27.506598Z",
     "iopub.status.idle": "2024-09-27T19:54:27.517308Z",
     "shell.execute_reply": "2024-09-27T19:54:27.516253Z"
    },
    "papermill": {
     "duration": 0.024426,
     "end_time": "2024-09-27T19:54:27.519743",
     "exception": false,
     "start_time": "2024-09-27T19:54:27.495317",
     "status": "completed"
    },
    "tags": []
   },
   "outputs": [
    {
     "data": {
      "text/plain": [
       "array([[0., 0., 0., ..., 0., 0., 0.],\n",
       "       [0., 0., 0., ..., 0., 0., 0.],\n",
       "       [0., 0., 0., ..., 0., 0., 0.],\n",
       "       ...,\n",
       "       [0., 0., 0., ..., 1., 0., 0.],\n",
       "       [0., 0., 0., ..., 0., 0., 0.],\n",
       "       [0., 0., 0., ..., 0., 0., 0.]])"
      ]
     },
     "execution_count": 15,
     "metadata": {},
     "output_type": "execute_result"
    }
   ],
   "source": [
    "X_train_cat.toarray()"
   ]
  },
  {
   "cell_type": "code",
   "execution_count": 16,
   "id": "2916977f",
   "metadata": {
    "execution": {
     "iopub.execute_input": "2024-09-27T19:54:27.541214Z",
     "iopub.status.busy": "2024-09-27T19:54:27.540769Z",
     "iopub.status.idle": "2024-09-27T19:54:27.550677Z",
     "shell.execute_reply": "2024-09-27T19:54:27.549497Z"
    },
    "papermill": {
     "duration": 0.023693,
     "end_time": "2024-09-27T19:54:27.553224",
     "exception": false,
     "start_time": "2024-09-27T19:54:27.529531",
     "status": "completed"
    },
    "tags": []
   },
   "outputs": [
    {
     "data": {
      "text/plain": [
       "1851     0.85\n",
       "1957     0.81\n",
       "5019     0.32\n",
       "11166    0.08\n",
       "8722     0.14\n",
       "         ... \n",
       "4698     0.35\n",
       "17141    0.01\n",
       "7353     0.19\n",
       "6215     0.24\n",
       "4479     0.37\n",
       "Name: total_sales, Length: 10118, dtype: float64"
      ]
     },
     "execution_count": 16,
     "metadata": {},
     "output_type": "execute_result"
    }
   ],
   "source": [
    "y_train"
   ]
  },
  {
   "cell_type": "code",
   "execution_count": 17,
   "id": "96109363",
   "metadata": {
    "execution": {
     "iopub.execute_input": "2024-09-27T19:54:27.575177Z",
     "iopub.status.busy": "2024-09-27T19:54:27.574724Z",
     "iopub.status.idle": "2024-09-27T19:54:27.590123Z",
     "shell.execute_reply": "2024-09-27T19:54:27.588944Z"
    },
    "papermill": {
     "duration": 0.02951,
     "end_time": "2024-09-27T19:54:27.592775",
     "exception": false,
     "start_time": "2024-09-27T19:54:27.563265",
     "status": "completed"
    },
    "tags": []
   },
   "outputs": [],
   "source": [
    "from sklearn.pipeline import Pipeline\n",
    "from sklearn.compose import ColumnTransformer\n",
    "\n",
    "num_pipeline = Pipeline([\n",
    "        ('imputer', SimpleImputer(strategy=\"median\")),\n",
    "        ('std_scaler', StandardScaler()),\n",
    "    ])\n",
    "\n",
    "num_attribs = list(train_num)\n",
    "cat_attribs = [\"genre\"]\n",
    "\n",
    "full_pipeline = ColumnTransformer([\n",
    "\t(\"num\", num_pipeline, num_attribs),\n",
    "\t(\"cat\", OneHotEncoder(), cat_attribs),\n",
    "])"
   ]
  },
  {
   "cell_type": "code",
   "execution_count": 18,
   "id": "81752e45",
   "metadata": {
    "execution": {
     "iopub.execute_input": "2024-09-27T19:54:27.616023Z",
     "iopub.status.busy": "2024-09-27T19:54:27.615461Z",
     "iopub.status.idle": "2024-09-27T19:54:27.642989Z",
     "shell.execute_reply": "2024-09-27T19:54:27.641862Z"
    },
    "papermill": {
     "duration": 0.042893,
     "end_time": "2024-09-27T19:54:27.645657",
     "exception": false,
     "start_time": "2024-09-27T19:54:27.602764",
     "status": "completed"
    },
    "tags": []
   },
   "outputs": [
    {
     "data": {
      "text/plain": [
       "<Compressed Sparse Row sparse matrix of dtype 'float64'\n",
       "\twith 30354 stored elements and shape (10118, 22)>"
      ]
     },
     "execution_count": 18,
     "metadata": {},
     "output_type": "execute_result"
    }
   ],
   "source": [
    "X_train = full_pipeline.fit_transform(train_data)\n",
    "\n",
    "X_train"
   ]
  },
  {
   "cell_type": "code",
   "execution_count": 19,
   "id": "412c4fcb",
   "metadata": {
    "execution": {
     "iopub.execute_input": "2024-09-27T19:54:27.668553Z",
     "iopub.status.busy": "2024-09-27T19:54:27.668057Z",
     "iopub.status.idle": "2024-09-27T19:54:27.683335Z",
     "shell.execute_reply": "2024-09-27T19:54:27.682022Z"
    },
    "papermill": {
     "duration": 0.029931,
     "end_time": "2024-09-27T19:54:27.686043",
     "exception": false,
     "start_time": "2024-09-27T19:54:27.656112",
     "status": "completed"
    },
    "tags": []
   },
   "outputs": [
    {
     "data": {
      "text/plain": [
       "<Compressed Sparse Row sparse matrix of dtype 'float64'\n",
       "\twith 7590 stored elements and shape (2530, 22)>"
      ]
     },
     "execution_count": 19,
     "metadata": {},
     "output_type": "execute_result"
    }
   ],
   "source": [
    "X_test = full_pipeline.transform(test_data) \n",
    "\n",
    "X_test"
   ]
  },
  {
   "cell_type": "code",
   "execution_count": 20,
   "id": "210208ae",
   "metadata": {
    "execution": {
     "iopub.execute_input": "2024-09-27T19:54:27.708635Z",
     "iopub.status.busy": "2024-09-27T19:54:27.708212Z",
     "iopub.status.idle": "2024-09-27T19:54:27.754265Z",
     "shell.execute_reply": "2024-09-27T19:54:27.752639Z"
    },
    "papermill": {
     "duration": 0.062033,
     "end_time": "2024-09-27T19:54:27.758482",
     "exception": false,
     "start_time": "2024-09-27T19:54:27.696449",
     "status": "completed"
    },
    "tags": []
   },
   "outputs": [
    {
     "data": {
      "text/html": [
       "<style>#sk-container-id-1 {color: black;background-color: white;}#sk-container-id-1 pre{padding: 0;}#sk-container-id-1 div.sk-toggleable {background-color: white;}#sk-container-id-1 label.sk-toggleable__label {cursor: pointer;display: block;width: 100%;margin-bottom: 0;padding: 0.3em;box-sizing: border-box;text-align: center;}#sk-container-id-1 label.sk-toggleable__label-arrow:before {content: \"▸\";float: left;margin-right: 0.25em;color: #696969;}#sk-container-id-1 label.sk-toggleable__label-arrow:hover:before {color: black;}#sk-container-id-1 div.sk-estimator:hover label.sk-toggleable__label-arrow:before {color: black;}#sk-container-id-1 div.sk-toggleable__content {max-height: 0;max-width: 0;overflow: hidden;text-align: left;background-color: #f0f8ff;}#sk-container-id-1 div.sk-toggleable__content pre {margin: 0.2em;color: black;border-radius: 0.25em;background-color: #f0f8ff;}#sk-container-id-1 input.sk-toggleable__control:checked~div.sk-toggleable__content {max-height: 200px;max-width: 100%;overflow: auto;}#sk-container-id-1 input.sk-toggleable__control:checked~label.sk-toggleable__label-arrow:before {content: \"▾\";}#sk-container-id-1 div.sk-estimator input.sk-toggleable__control:checked~label.sk-toggleable__label {background-color: #d4ebff;}#sk-container-id-1 div.sk-label input.sk-toggleable__control:checked~label.sk-toggleable__label {background-color: #d4ebff;}#sk-container-id-1 input.sk-hidden--visually {border: 0;clip: rect(1px 1px 1px 1px);clip: rect(1px, 1px, 1px, 1px);height: 1px;margin: -1px;overflow: hidden;padding: 0;position: absolute;width: 1px;}#sk-container-id-1 div.sk-estimator {font-family: monospace;background-color: #f0f8ff;border: 1px dotted black;border-radius: 0.25em;box-sizing: border-box;margin-bottom: 0.5em;}#sk-container-id-1 div.sk-estimator:hover {background-color: #d4ebff;}#sk-container-id-1 div.sk-parallel-item::after {content: \"\";width: 100%;border-bottom: 1px solid gray;flex-grow: 1;}#sk-container-id-1 div.sk-label:hover label.sk-toggleable__label {background-color: #d4ebff;}#sk-container-id-1 div.sk-serial::before {content: \"\";position: absolute;border-left: 1px solid gray;box-sizing: border-box;top: 0;bottom: 0;left: 50%;z-index: 0;}#sk-container-id-1 div.sk-serial {display: flex;flex-direction: column;align-items: center;background-color: white;padding-right: 0.2em;padding-left: 0.2em;position: relative;}#sk-container-id-1 div.sk-item {position: relative;z-index: 1;}#sk-container-id-1 div.sk-parallel {display: flex;align-items: stretch;justify-content: center;background-color: white;position: relative;}#sk-container-id-1 div.sk-item::before, #sk-container-id-1 div.sk-parallel-item::before {content: \"\";position: absolute;border-left: 1px solid gray;box-sizing: border-box;top: 0;bottom: 0;left: 50%;z-index: -1;}#sk-container-id-1 div.sk-parallel-item {display: flex;flex-direction: column;z-index: 1;position: relative;background-color: white;}#sk-container-id-1 div.sk-parallel-item:first-child::after {align-self: flex-end;width: 50%;}#sk-container-id-1 div.sk-parallel-item:last-child::after {align-self: flex-start;width: 50%;}#sk-container-id-1 div.sk-parallel-item:only-child::after {width: 0;}#sk-container-id-1 div.sk-dashed-wrapped {border: 1px dashed gray;margin: 0 0.4em 0.5em 0.4em;box-sizing: border-box;padding-bottom: 0.4em;background-color: white;}#sk-container-id-1 div.sk-label label {font-family: monospace;font-weight: bold;display: inline-block;line-height: 1.2em;}#sk-container-id-1 div.sk-label-container {text-align: center;}#sk-container-id-1 div.sk-container {/* jupyter's `normalize.less` sets `[hidden] { display: none; }` but bootstrap.min.css set `[hidden] { display: none !important; }` so we also need the `!important` here to be able to override the default hidden behavior on the sphinx rendered scikit-learn.org. See: https://github.com/scikit-learn/scikit-learn/issues/21755 */display: inline-block !important;position: relative;}#sk-container-id-1 div.sk-text-repr-fallback {display: none;}</style><div id=\"sk-container-id-1\" class=\"sk-top-container\"><div class=\"sk-text-repr-fallback\"><pre>LinearRegression()</pre><b>In a Jupyter environment, please rerun this cell to show the HTML representation or trust the notebook. <br />On GitHub, the HTML representation is unable to render, please try loading this page with nbviewer.org.</b></div><div class=\"sk-container\" hidden><div class=\"sk-item\"><div class=\"sk-estimator sk-toggleable\"><input class=\"sk-toggleable__control sk-hidden--visually\" id=\"sk-estimator-id-1\" type=\"checkbox\" checked><label for=\"sk-estimator-id-1\" class=\"sk-toggleable__label sk-toggleable__label-arrow\">LinearRegression</label><div class=\"sk-toggleable__content\"><pre>LinearRegression()</pre></div></div></div></div></div>"
      ],
      "text/plain": [
       "LinearRegression()"
      ]
     },
     "execution_count": 20,
     "metadata": {},
     "output_type": "execute_result"
    }
   ],
   "source": [
    "from sklearn.linear_model import LinearRegression\n",
    "\n",
    "lin_reg = LinearRegression()\n",
    "lin_reg.fit(X_train, y_train)"
   ]
  },
  {
   "cell_type": "code",
   "execution_count": 21,
   "id": "9a9d91a0",
   "metadata": {
    "execution": {
     "iopub.execute_input": "2024-09-27T19:54:27.805380Z",
     "iopub.status.busy": "2024-09-27T19:54:27.804653Z",
     "iopub.status.idle": "2024-09-27T19:54:27.816837Z",
     "shell.execute_reply": "2024-09-27T19:54:27.815346Z"
    },
    "papermill": {
     "duration": 0.040346,
     "end_time": "2024-09-27T19:54:27.820843",
     "exception": false,
     "start_time": "2024-09-27T19:54:27.780497",
     "status": "completed"
    },
    "tags": []
   },
   "outputs": [
    {
     "data": {
      "text/plain": [
       "array([0.74323525, 0.17191002, 0.6054358 , 1.04042366, 0.52108142,\n",
       "       0.08254894, 0.08174439, 0.15518141, 0.2373796 , 0.25545985])"
      ]
     },
     "execution_count": 21,
     "metadata": {},
     "output_type": "execute_result"
    }
   ],
   "source": [
    "preds = lin_reg.predict(X_test)\n",
    "preds[:10]"
   ]
  }
 ],
 "metadata": {
  "kaggle": {
   "accelerator": "none",
   "dataSources": [
    {
     "datasetId": 4371999,
     "sourceId": 7507070,
     "sourceType": "datasetVersion"
    }
   ],
   "dockerImageVersionId": 30775,
   "isGpuEnabled": false,
   "isInternetEnabled": true,
   "language": "python",
   "sourceType": "notebook"
  },
  "kernelspec": {
   "display_name": "Python 3",
   "language": "python",
   "name": "python3"
  },
  "language_info": {
   "codemirror_mode": {
    "name": "ipython",
    "version": 3
   },
   "file_extension": ".py",
   "mimetype": "text/x-python",
   "name": "python",
   "nbconvert_exporter": "python",
   "pygments_lexer": "ipython3",
   "version": "3.10.14"
  },
  "papermill": {
   "default_parameters": {},
   "duration": 7.827336,
   "end_time": "2024-09-27T19:54:28.467024",
   "environment_variables": {},
   "exception": null,
   "input_path": "__notebook__.ipynb",
   "output_path": "__notebook__.ipynb",
   "parameters": {},
   "start_time": "2024-09-27T19:54:20.639688",
   "version": "2.6.0"
  }
 },
 "nbformat": 4,
 "nbformat_minor": 5
}
