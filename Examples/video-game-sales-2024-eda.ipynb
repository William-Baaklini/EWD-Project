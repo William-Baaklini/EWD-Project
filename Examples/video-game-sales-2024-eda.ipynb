{
 "cells": [
  {
   "cell_type": "code",
   "execution_count": 1,
   "id": "0e38c590",
   "metadata": {
    "_cell_guid": "b1076dfc-b9ad-4769-8c92-a6c4dae69d19",
    "_uuid": "8f2839f25d086af736a60e9eeb907d3b93b6e0e5",
    "execution": {
     "iopub.execute_input": "2024-05-31T03:25:11.530039Z",
     "iopub.status.busy": "2024-05-31T03:25:11.529124Z",
     "iopub.status.idle": "2024-05-31T03:25:12.414777Z",
     "shell.execute_reply": "2024-05-31T03:25:12.413344Z"
    },
    "papermill": {
     "duration": 0.908727,
     "end_time": "2024-05-31T03:25:12.417388",
     "exception": false,
     "start_time": "2024-05-31T03:25:11.508661",
     "status": "completed"
    },
    "tags": []
   },
   "outputs": [
    {
     "name": "stdout",
     "output_type": "stream",
     "text": [
      "/kaggle/input/video-game-sales-2024/vgchartz-2024.csv\n"
     ]
    }
   ],
   "source": [
    "# This Python 3 environment comes with many helpful analytics libraries installed\n",
    "# It is defined by the kaggle/python Docker image: https://github.com/kaggle/docker-python\n",
    "# For example, here's several helpful packages to load\n",
    "\n",
    "import numpy as np # linear algebra\n",
    "import pandas as pd # data processing, CSV file I/O (e.g. pd.read_csv)\n",
    "\n",
    "# Input data files are available in the read-only \"../input/\" directory\n",
    "# For example, running this (by clicking run or pressing Shift+Enter) will list all files under the input directory\n",
    "\n",
    "import os\n",
    "for dirname, _, filenames in os.walk('/kaggle/input'):\n",
    "    for filename in filenames:\n",
    "        print(os.path.join(dirname, filename))\n",
    "\n",
    "# You can write up to 20GB to the current directory (/kaggle/working/) that gets preserved as output when you create a version using \"Save & Run All\" \n",
    "# You can also write temporary files to /kaggle/temp/, but they won't be saved outside of the current session"
   ]
  },
  {
   "cell_type": "markdown",
   "id": "28d1e30a",
   "metadata": {
    "papermill": {
     "duration": 0.017988,
     "end_time": "2024-05-31T03:25:12.453846",
     "exception": false,
     "start_time": "2024-05-31T03:25:12.435858",
     "status": "completed"
    },
    "tags": []
   },
   "source": [
    "# Data Load"
   ]
  },
  {
   "cell_type": "code",
   "execution_count": 2,
   "id": "7ae5456f",
   "metadata": {
    "execution": {
     "iopub.execute_input": "2024-05-31T03:25:12.493709Z",
     "iopub.status.busy": "2024-05-31T03:25:12.493185Z",
     "iopub.status.idle": "2024-05-31T03:25:12.970229Z",
     "shell.execute_reply": "2024-05-31T03:25:12.969015Z"
    },
    "papermill": {
     "duration": 0.500543,
     "end_time": "2024-05-31T03:25:12.972952",
     "exception": false,
     "start_time": "2024-05-31T03:25:12.472409",
     "status": "completed"
    },
    "tags": []
   },
   "outputs": [],
   "source": [
    "import pandas as pd\n",
    "\n",
    "df = pd.read_csv('/kaggle/input/video-game-sales-2024/vgchartz-2024.csv')"
   ]
  },
  {
   "cell_type": "code",
   "execution_count": 3,
   "id": "9ecb2612",
   "metadata": {
    "execution": {
     "iopub.execute_input": "2024-05-31T03:25:13.014036Z",
     "iopub.status.busy": "2024-05-31T03:25:13.013008Z",
     "iopub.status.idle": "2024-05-31T03:25:13.047039Z",
     "shell.execute_reply": "2024-05-31T03:25:13.045636Z"
    },
    "papermill": {
     "duration": 0.057055,
     "end_time": "2024-05-31T03:25:13.049783",
     "exception": false,
     "start_time": "2024-05-31T03:25:12.992728",
     "status": "completed"
    },
    "tags": []
   },
   "outputs": [
    {
     "data": {
      "text/html": [
       "<div>\n",
       "<style scoped>\n",
       "    .dataframe tbody tr th:only-of-type {\n",
       "        vertical-align: middle;\n",
       "    }\n",
       "\n",
       "    .dataframe tbody tr th {\n",
       "        vertical-align: top;\n",
       "    }\n",
       "\n",
       "    .dataframe thead th {\n",
       "        text-align: right;\n",
       "    }\n",
       "</style>\n",
       "<table border=\"1\" class=\"dataframe\">\n",
       "  <thead>\n",
       "    <tr style=\"text-align: right;\">\n",
       "      <th></th>\n",
       "      <th>img</th>\n",
       "      <th>title</th>\n",
       "      <th>console</th>\n",
       "      <th>genre</th>\n",
       "      <th>publisher</th>\n",
       "      <th>developer</th>\n",
       "      <th>critic_score</th>\n",
       "      <th>total_sales</th>\n",
       "      <th>na_sales</th>\n",
       "      <th>jp_sales</th>\n",
       "      <th>pal_sales</th>\n",
       "      <th>other_sales</th>\n",
       "      <th>release_date</th>\n",
       "      <th>last_update</th>\n",
       "    </tr>\n",
       "  </thead>\n",
       "  <tbody>\n",
       "    <tr>\n",
       "      <th>0</th>\n",
       "      <td>/games/boxart/full_6510540AmericaFrontccc.jpg</td>\n",
       "      <td>Grand Theft Auto V</td>\n",
       "      <td>PS3</td>\n",
       "      <td>Action</td>\n",
       "      <td>Rockstar Games</td>\n",
       "      <td>Rockstar North</td>\n",
       "      <td>9.4</td>\n",
       "      <td>20.32</td>\n",
       "      <td>6.37</td>\n",
       "      <td>0.99</td>\n",
       "      <td>9.85</td>\n",
       "      <td>3.12</td>\n",
       "      <td>2013-09-17</td>\n",
       "      <td>NaN</td>\n",
       "    </tr>\n",
       "    <tr>\n",
       "      <th>1</th>\n",
       "      <td>/games/boxart/full_5563178AmericaFrontccc.jpg</td>\n",
       "      <td>Grand Theft Auto V</td>\n",
       "      <td>PS4</td>\n",
       "      <td>Action</td>\n",
       "      <td>Rockstar Games</td>\n",
       "      <td>Rockstar North</td>\n",
       "      <td>9.7</td>\n",
       "      <td>19.39</td>\n",
       "      <td>6.06</td>\n",
       "      <td>0.60</td>\n",
       "      <td>9.71</td>\n",
       "      <td>3.02</td>\n",
       "      <td>2014-11-18</td>\n",
       "      <td>2018-01-03</td>\n",
       "    </tr>\n",
       "    <tr>\n",
       "      <th>2</th>\n",
       "      <td>/games/boxart/827563ccc.jpg</td>\n",
       "      <td>Grand Theft Auto: Vice City</td>\n",
       "      <td>PS2</td>\n",
       "      <td>Action</td>\n",
       "      <td>Rockstar Games</td>\n",
       "      <td>Rockstar North</td>\n",
       "      <td>9.6</td>\n",
       "      <td>16.15</td>\n",
       "      <td>8.41</td>\n",
       "      <td>0.47</td>\n",
       "      <td>5.49</td>\n",
       "      <td>1.78</td>\n",
       "      <td>2002-10-28</td>\n",
       "      <td>NaN</td>\n",
       "    </tr>\n",
       "    <tr>\n",
       "      <th>3</th>\n",
       "      <td>/games/boxart/full_9218923AmericaFrontccc.jpg</td>\n",
       "      <td>Grand Theft Auto V</td>\n",
       "      <td>X360</td>\n",
       "      <td>Action</td>\n",
       "      <td>Rockstar Games</td>\n",
       "      <td>Rockstar North</td>\n",
       "      <td>NaN</td>\n",
       "      <td>15.86</td>\n",
       "      <td>9.06</td>\n",
       "      <td>0.06</td>\n",
       "      <td>5.33</td>\n",
       "      <td>1.42</td>\n",
       "      <td>2013-09-17</td>\n",
       "      <td>NaN</td>\n",
       "    </tr>\n",
       "    <tr>\n",
       "      <th>4</th>\n",
       "      <td>/games/boxart/full_4990510AmericaFrontccc.jpg</td>\n",
       "      <td>Call of Duty: Black Ops 3</td>\n",
       "      <td>PS4</td>\n",
       "      <td>Shooter</td>\n",
       "      <td>Activision</td>\n",
       "      <td>Treyarch</td>\n",
       "      <td>8.1</td>\n",
       "      <td>15.09</td>\n",
       "      <td>6.18</td>\n",
       "      <td>0.41</td>\n",
       "      <td>6.05</td>\n",
       "      <td>2.44</td>\n",
       "      <td>2015-11-06</td>\n",
       "      <td>2018-01-14</td>\n",
       "    </tr>\n",
       "  </tbody>\n",
       "</table>\n",
       "</div>"
      ],
      "text/plain": [
       "                                             img                        title  \\\n",
       "0  /games/boxart/full_6510540AmericaFrontccc.jpg           Grand Theft Auto V   \n",
       "1  /games/boxart/full_5563178AmericaFrontccc.jpg           Grand Theft Auto V   \n",
       "2                    /games/boxart/827563ccc.jpg  Grand Theft Auto: Vice City   \n",
       "3  /games/boxart/full_9218923AmericaFrontccc.jpg           Grand Theft Auto V   \n",
       "4  /games/boxart/full_4990510AmericaFrontccc.jpg    Call of Duty: Black Ops 3   \n",
       "\n",
       "  console    genre       publisher       developer  critic_score  total_sales  \\\n",
       "0     PS3   Action  Rockstar Games  Rockstar North           9.4        20.32   \n",
       "1     PS4   Action  Rockstar Games  Rockstar North           9.7        19.39   \n",
       "2     PS2   Action  Rockstar Games  Rockstar North           9.6        16.15   \n",
       "3    X360   Action  Rockstar Games  Rockstar North           NaN        15.86   \n",
       "4     PS4  Shooter      Activision        Treyarch           8.1        15.09   \n",
       "\n",
       "   na_sales  jp_sales  pal_sales  other_sales release_date last_update  \n",
       "0      6.37      0.99       9.85         3.12   2013-09-17         NaN  \n",
       "1      6.06      0.60       9.71         3.02   2014-11-18  2018-01-03  \n",
       "2      8.41      0.47       5.49         1.78   2002-10-28         NaN  \n",
       "3      9.06      0.06       5.33         1.42   2013-09-17         NaN  \n",
       "4      6.18      0.41       6.05         2.44   2015-11-06  2018-01-14  "
      ]
     },
     "execution_count": 3,
     "metadata": {},
     "output_type": "execute_result"
    }
   ],
   "source": [
    "df.head()"
   ]
  },
  {
   "cell_type": "code",
   "execution_count": 4,
   "id": "fadb0035",
   "metadata": {
    "execution": {
     "iopub.execute_input": "2024-05-31T03:25:13.089408Z",
     "iopub.status.busy": "2024-05-31T03:25:13.089024Z",
     "iopub.status.idle": "2024-05-31T03:25:13.167708Z",
     "shell.execute_reply": "2024-05-31T03:25:13.165787Z"
    },
    "papermill": {
     "duration": 0.101702,
     "end_time": "2024-05-31T03:25:13.170301",
     "exception": false,
     "start_time": "2024-05-31T03:25:13.068599",
     "status": "completed"
    },
    "tags": []
   },
   "outputs": [
    {
     "name": "stdout",
     "output_type": "stream",
     "text": [
      "<class 'pandas.core.frame.DataFrame'>\n",
      "RangeIndex: 64016 entries, 0 to 64015\n",
      "Data columns (total 14 columns):\n",
      " #   Column        Non-Null Count  Dtype  \n",
      "---  ------        --------------  -----  \n",
      " 0   img           64016 non-null  object \n",
      " 1   title         64016 non-null  object \n",
      " 2   console       64016 non-null  object \n",
      " 3   genre         64016 non-null  object \n",
      " 4   publisher     64016 non-null  object \n",
      " 5   developer     63999 non-null  object \n",
      " 6   critic_score  6678 non-null   float64\n",
      " 7   total_sales   18922 non-null  float64\n",
      " 8   na_sales      12637 non-null  float64\n",
      " 9   jp_sales      6726 non-null   float64\n",
      " 10  pal_sales     12824 non-null  float64\n",
      " 11  other_sales   15128 non-null  float64\n",
      " 12  release_date  56965 non-null  object \n",
      " 13  last_update   17879 non-null  object \n",
      "dtypes: float64(6), object(8)\n",
      "memory usage: 6.8+ MB\n"
     ]
    }
   ],
   "source": [
    "df.info()"
   ]
  },
  {
   "cell_type": "markdown",
   "id": "f49d6939",
   "metadata": {
    "papermill": {
     "duration": 0.018974,
     "end_time": "2024-05-31T03:25:13.208716",
     "exception": false,
     "start_time": "2024-05-31T03:25:13.189742",
     "status": "completed"
    },
    "tags": []
   },
   "source": [
    "# Missing Values"
   ]
  },
  {
   "cell_type": "code",
   "execution_count": 5,
   "id": "4a57386d",
   "metadata": {
    "execution": {
     "iopub.execute_input": "2024-05-31T03:25:13.248943Z",
     "iopub.status.busy": "2024-05-31T03:25:13.248121Z",
     "iopub.status.idle": "2024-05-31T03:25:13.309166Z",
     "shell.execute_reply": "2024-05-31T03:25:13.307805Z"
    },
    "papermill": {
     "duration": 0.084562,
     "end_time": "2024-05-31T03:25:13.312416",
     "exception": false,
     "start_time": "2024-05-31T03:25:13.227854",
     "status": "completed"
    },
    "tags": []
   },
   "outputs": [
    {
     "data": {
      "text/plain": [
       "img                 0\n",
       "title               0\n",
       "console             0\n",
       "genre               0\n",
       "publisher           0\n",
       "developer          17\n",
       "critic_score    57338\n",
       "total_sales     45094\n",
       "na_sales        51379\n",
       "jp_sales        57290\n",
       "pal_sales       51192\n",
       "other_sales     48888\n",
       "release_date     7051\n",
       "last_update     46137\n",
       "dtype: int64"
      ]
     },
     "execution_count": 5,
     "metadata": {},
     "output_type": "execute_result"
    }
   ],
   "source": [
    "df.isnull().sum()"
   ]
  },
  {
   "cell_type": "markdown",
   "id": "5470c9fe",
   "metadata": {
    "papermill": {
     "duration": 0.018459,
     "end_time": "2024-05-31T03:25:13.349816",
     "exception": false,
     "start_time": "2024-05-31T03:25:13.331357",
     "status": "completed"
    },
    "tags": []
   },
   "source": [
    "#### developer"
   ]
  },
  {
   "cell_type": "code",
   "execution_count": 6,
   "id": "24d09fde",
   "metadata": {
    "execution": {
     "iopub.execute_input": "2024-05-31T03:25:13.390240Z",
     "iopub.status.busy": "2024-05-31T03:25:13.389099Z",
     "iopub.status.idle": "2024-05-31T03:25:13.434505Z",
     "shell.execute_reply": "2024-05-31T03:25:13.433357Z"
    },
    "papermill": {
     "duration": 0.068532,
     "end_time": "2024-05-31T03:25:13.437321",
     "exception": false,
     "start_time": "2024-05-31T03:25:13.368789",
     "status": "completed"
    },
    "tags": []
   },
   "outputs": [
    {
     "data": {
      "text/html": [
       "<div>\n",
       "<style scoped>\n",
       "    .dataframe tbody tr th:only-of-type {\n",
       "        vertical-align: middle;\n",
       "    }\n",
       "\n",
       "    .dataframe tbody tr th {\n",
       "        vertical-align: top;\n",
       "    }\n",
       "\n",
       "    .dataframe thead th {\n",
       "        text-align: right;\n",
       "    }\n",
       "</style>\n",
       "<table border=\"1\" class=\"dataframe\">\n",
       "  <thead>\n",
       "    <tr style=\"text-align: right;\">\n",
       "      <th></th>\n",
       "      <th>img</th>\n",
       "      <th>title</th>\n",
       "      <th>console</th>\n",
       "      <th>genre</th>\n",
       "      <th>publisher</th>\n",
       "      <th>developer</th>\n",
       "      <th>critic_score</th>\n",
       "      <th>total_sales</th>\n",
       "      <th>na_sales</th>\n",
       "      <th>jp_sales</th>\n",
       "      <th>pal_sales</th>\n",
       "      <th>other_sales</th>\n",
       "      <th>release_date</th>\n",
       "      <th>last_update</th>\n",
       "    </tr>\n",
       "  </thead>\n",
       "  <tbody>\n",
       "    <tr>\n",
       "      <th>8486</th>\n",
       "      <td>/games/boxart/21030ccc.jpg</td>\n",
       "      <td>Gourmet Chef: Cook Your Way to Fame</td>\n",
       "      <td>DS</td>\n",
       "      <td>Misc</td>\n",
       "      <td>Ubisoft</td>\n",
       "      <td>Ubisoft</td>\n",
       "      <td>NaN</td>\n",
       "      <td>0.14</td>\n",
       "      <td>0.13</td>\n",
       "      <td>NaN</td>\n",
       "      <td>NaN</td>\n",
       "      <td>0.01</td>\n",
       "      <td>2008-06-24</td>\n",
       "      <td>NaN</td>\n",
       "    </tr>\n",
       "    <tr>\n",
       "      <th>10832</th>\n",
       "      <td>/games/boxart/2426879ccc.jpg</td>\n",
       "      <td>Wordmaster</td>\n",
       "      <td>DS</td>\n",
       "      <td>Strategy</td>\n",
       "      <td>Destination Software, Inc</td>\n",
       "      <td>Destination Software, Inc</td>\n",
       "      <td>NaN</td>\n",
       "      <td>0.09</td>\n",
       "      <td>0.09</td>\n",
       "      <td>NaN</td>\n",
       "      <td>0.0</td>\n",
       "      <td>0.01</td>\n",
       "      <td>2008-08-12</td>\n",
       "      <td>NaN</td>\n",
       "    </tr>\n",
       "    <tr>\n",
       "      <th>18185</th>\n",
       "      <td>/games/boxart/8436780ccc.jpg</td>\n",
       "      <td>SAS: Secure Tomorrow</td>\n",
       "      <td>PC</td>\n",
       "      <td>Shooter</td>\n",
       "      <td>City Interactive</td>\n",
       "      <td>City Interactive</td>\n",
       "      <td>NaN</td>\n",
       "      <td>0.00</td>\n",
       "      <td>NaN</td>\n",
       "      <td>NaN</td>\n",
       "      <td>0.0</td>\n",
       "      <td>0.00</td>\n",
       "      <td>2008-10-16</td>\n",
       "      <td>NaN</td>\n",
       "    </tr>\n",
       "    <tr>\n",
       "      <th>18455</th>\n",
       "      <td>/games/boxart/default.jpg</td>\n",
       "      <td>My Baby and Me</td>\n",
       "      <td>Wii</td>\n",
       "      <td>Misc</td>\n",
       "      <td>Unknown</td>\n",
       "      <td>Unknown</td>\n",
       "      <td>NaN</td>\n",
       "      <td>0.00</td>\n",
       "      <td>NaN</td>\n",
       "      <td>NaN</td>\n",
       "      <td>0.0</td>\n",
       "      <td>NaN</td>\n",
       "      <td>NaN</td>\n",
       "      <td>NaN</td>\n",
       "    </tr>\n",
       "    <tr>\n",
       "      <th>19925</th>\n",
       "      <td>/games/boxart/default.jpg</td>\n",
       "      <td>Bounty Hunter</td>\n",
       "      <td>PC</td>\n",
       "      <td>Action</td>\n",
       "      <td>Unknown</td>\n",
       "      <td>Unknown</td>\n",
       "      <td>NaN</td>\n",
       "      <td>NaN</td>\n",
       "      <td>NaN</td>\n",
       "      <td>NaN</td>\n",
       "      <td>NaN</td>\n",
       "      <td>NaN</td>\n",
       "      <td>1999-11-30</td>\n",
       "      <td>NaN</td>\n",
       "    </tr>\n",
       "  </tbody>\n",
       "</table>\n",
       "</div>"
      ],
      "text/plain": [
       "                                img                                title  \\\n",
       "8486     /games/boxart/21030ccc.jpg  Gourmet Chef: Cook Your Way to Fame   \n",
       "10832  /games/boxart/2426879ccc.jpg                           Wordmaster   \n",
       "18185  /games/boxart/8436780ccc.jpg                 SAS: Secure Tomorrow   \n",
       "18455     /games/boxart/default.jpg                       My Baby and Me   \n",
       "19925     /games/boxart/default.jpg                        Bounty Hunter   \n",
       "\n",
       "      console     genre                  publisher                  developer  \\\n",
       "8486       DS      Misc                    Ubisoft                    Ubisoft   \n",
       "10832      DS  Strategy  Destination Software, Inc  Destination Software, Inc   \n",
       "18185      PC   Shooter           City Interactive           City Interactive   \n",
       "18455     Wii      Misc                    Unknown                    Unknown   \n",
       "19925      PC    Action                    Unknown                    Unknown   \n",
       "\n",
       "       critic_score  total_sales  na_sales  jp_sales  pal_sales  other_sales  \\\n",
       "8486            NaN         0.14      0.13       NaN        NaN         0.01   \n",
       "10832           NaN         0.09      0.09       NaN        0.0         0.01   \n",
       "18185           NaN         0.00       NaN       NaN        0.0         0.00   \n",
       "18455           NaN         0.00       NaN       NaN        0.0          NaN   \n",
       "19925           NaN          NaN       NaN       NaN        NaN          NaN   \n",
       "\n",
       "      release_date last_update  \n",
       "8486    2008-06-24         NaN  \n",
       "10832   2008-08-12         NaN  \n",
       "18185   2008-10-16         NaN  \n",
       "18455          NaN         NaN  \n",
       "19925   1999-11-30         NaN  "
      ]
     },
     "execution_count": 6,
     "metadata": {},
     "output_type": "execute_result"
    }
   ],
   "source": [
    "import numpy as np\n",
    "\n",
    "developer_na = np.where(df['developer'].isnull(),True,False)\n",
    "\n",
    "df['developer'] = df['developer'].fillna(df['publisher'])\n",
    "\n",
    "df[developer_na].head()"
   ]
  },
  {
   "cell_type": "markdown",
   "id": "026346b8",
   "metadata": {
    "papermill": {
     "duration": 0.018874,
     "end_time": "2024-05-31T03:25:13.475339",
     "exception": false,
     "start_time": "2024-05-31T03:25:13.456465",
     "status": "completed"
    },
    "tags": []
   },
   "source": [
    "#### sales"
   ]
  },
  {
   "cell_type": "code",
   "execution_count": 7,
   "id": "5bc7c443",
   "metadata": {
    "execution": {
     "iopub.execute_input": "2024-05-31T03:25:13.515342Z",
     "iopub.status.busy": "2024-05-31T03:25:13.514932Z",
     "iopub.status.idle": "2024-05-31T03:25:13.529345Z",
     "shell.execute_reply": "2024-05-31T03:25:13.528225Z"
    },
    "papermill": {
     "duration": 0.037715,
     "end_time": "2024-05-31T03:25:13.532119",
     "exception": false,
     "start_time": "2024-05-31T03:25:13.494404",
     "status": "completed"
    },
    "tags": []
   },
   "outputs": [],
   "source": [
    "sales_col = ['total_sales', 'na_sales', 'jp_sales', 'pal_sales', 'other_sales']\n",
    "\n",
    "df[sales_col] = df[sales_col].fillna(0)"
   ]
  },
  {
   "cell_type": "code",
   "execution_count": 8,
   "id": "4763a76c",
   "metadata": {
    "execution": {
     "iopub.execute_input": "2024-05-31T03:25:13.572647Z",
     "iopub.status.busy": "2024-05-31T03:25:13.572262Z",
     "iopub.status.idle": "2024-05-31T03:25:13.603831Z",
     "shell.execute_reply": "2024-05-31T03:25:13.602764Z"
    },
    "papermill": {
     "duration": 0.054753,
     "end_time": "2024-05-31T03:25:13.606138",
     "exception": false,
     "start_time": "2024-05-31T03:25:13.551385",
     "status": "completed"
    },
    "tags": []
   },
   "outputs": [
    {
     "data": {
      "text/plain": [
       "0"
      ]
     },
     "execution_count": 8,
     "metadata": {},
     "output_type": "execute_result"
    }
   ],
   "source": [
    "df[np.where(abs(df['total_sales'] - df[['na_sales', 'jp_sales', 'pal_sales', 'other_sales']].sum(axis=1)) > 0.1,True, False)].shape[0]"
   ]
  },
  {
   "cell_type": "markdown",
   "id": "5b63c010",
   "metadata": {
    "papermill": {
     "duration": 0.019669,
     "end_time": "2024-05-31T03:25:13.645098",
     "exception": false,
     "start_time": "2024-05-31T03:25:13.625429",
     "status": "completed"
    },
    "tags": []
   },
   "source": [
    "#### update"
   ]
  },
  {
   "cell_type": "code",
   "execution_count": 9,
   "id": "a027ef50",
   "metadata": {
    "execution": {
     "iopub.execute_input": "2024-05-31T03:25:13.686015Z",
     "iopub.status.busy": "2024-05-31T03:25:13.685586Z",
     "iopub.status.idle": "2024-05-31T03:25:13.725528Z",
     "shell.execute_reply": "2024-05-31T03:25:13.724433Z"
    },
    "papermill": {
     "duration": 0.063799,
     "end_time": "2024-05-31T03:25:13.728113",
     "exception": false,
     "start_time": "2024-05-31T03:25:13.664314",
     "status": "completed"
    },
    "tags": []
   },
   "outputs": [
    {
     "data": {
      "text/html": [
       "<div>\n",
       "<style scoped>\n",
       "    .dataframe tbody tr th:only-of-type {\n",
       "        vertical-align: middle;\n",
       "    }\n",
       "\n",
       "    .dataframe tbody tr th {\n",
       "        vertical-align: top;\n",
       "    }\n",
       "\n",
       "    .dataframe thead th {\n",
       "        text-align: right;\n",
       "    }\n",
       "</style>\n",
       "<table border=\"1\" class=\"dataframe\">\n",
       "  <thead>\n",
       "    <tr style=\"text-align: right;\">\n",
       "      <th></th>\n",
       "      <th>img</th>\n",
       "      <th>title</th>\n",
       "      <th>console</th>\n",
       "      <th>genre</th>\n",
       "      <th>publisher</th>\n",
       "      <th>developer</th>\n",
       "      <th>critic_score</th>\n",
       "      <th>total_sales</th>\n",
       "      <th>na_sales</th>\n",
       "      <th>jp_sales</th>\n",
       "      <th>pal_sales</th>\n",
       "      <th>other_sales</th>\n",
       "      <th>release_date</th>\n",
       "      <th>last_update</th>\n",
       "    </tr>\n",
       "  </thead>\n",
       "  <tbody>\n",
       "    <tr>\n",
       "      <th>6347</th>\n",
       "      <td>/games/boxart/full_dangan-ronpa_0JapanFront.jpg</td>\n",
       "      <td>Danganronpa: Trigger Happy Havoc</td>\n",
       "      <td>PSP</td>\n",
       "      <td>Adventure</td>\n",
       "      <td>Unknown</td>\n",
       "      <td>Spike</td>\n",
       "      <td>NaN</td>\n",
       "      <td>0.24</td>\n",
       "      <td>0.0</td>\n",
       "      <td>0.24</td>\n",
       "      <td>0.00</td>\n",
       "      <td>0.0</td>\n",
       "      <td>2018-01-11</td>\n",
       "      <td>2018-01-11</td>\n",
       "    </tr>\n",
       "    <tr>\n",
       "      <th>14436</th>\n",
       "      <td>/games/boxart/full_8639439JapanFrontccc.jpg</td>\n",
       "      <td>PriPara All Idol Perfect Stage!</td>\n",
       "      <td>NS</td>\n",
       "      <td>Misc</td>\n",
       "      <td>Unknown</td>\n",
       "      <td>Takara Tomy ARTS</td>\n",
       "      <td>NaN</td>\n",
       "      <td>0.03</td>\n",
       "      <td>0.0</td>\n",
       "      <td>0.03</td>\n",
       "      <td>0.00</td>\n",
       "      <td>0.0</td>\n",
       "      <td>2018-04-04</td>\n",
       "      <td>2018-04-04</td>\n",
       "    </tr>\n",
       "    <tr>\n",
       "      <th>15449</th>\n",
       "      <td>/games/boxart/full_9121088AmericaFrontccc.jpg</td>\n",
       "      <td>Zumba Fitness: World Party</td>\n",
       "      <td>X360</td>\n",
       "      <td>Misc</td>\n",
       "      <td>Unknown</td>\n",
       "      <td>Zoe Mode</td>\n",
       "      <td>NaN</td>\n",
       "      <td>0.02</td>\n",
       "      <td>0.0</td>\n",
       "      <td>0.00</td>\n",
       "      <td>0.02</td>\n",
       "      <td>0.0</td>\n",
       "      <td>2018-04-01</td>\n",
       "      <td>2018-04-01</td>\n",
       "    </tr>\n",
       "    <tr>\n",
       "      <th>19006</th>\n",
       "      <td>/games/boxart/full_8394432AmericaFrontccc.jpg</td>\n",
       "      <td>How to Survive 2</td>\n",
       "      <td>PC</td>\n",
       "      <td>Action</td>\n",
       "      <td>Unknown</td>\n",
       "      <td>EKO Software</td>\n",
       "      <td>NaN</td>\n",
       "      <td>0.00</td>\n",
       "      <td>0.0</td>\n",
       "      <td>0.00</td>\n",
       "      <td>0.00</td>\n",
       "      <td>0.0</td>\n",
       "      <td>2019-02-02</td>\n",
       "      <td>2019-02-02</td>\n",
       "    </tr>\n",
       "    <tr>\n",
       "      <th>19066</th>\n",
       "      <td>/games/boxart/full_6903656AmericaFrontccc.jpg</td>\n",
       "      <td>Geometry Dash</td>\n",
       "      <td>PC</td>\n",
       "      <td>Action</td>\n",
       "      <td>Unknown</td>\n",
       "      <td>RobTop Games</td>\n",
       "      <td>NaN</td>\n",
       "      <td>0.00</td>\n",
       "      <td>0.0</td>\n",
       "      <td>0.00</td>\n",
       "      <td>0.00</td>\n",
       "      <td>0.0</td>\n",
       "      <td>2019-02-03</td>\n",
       "      <td>2019-02-03</td>\n",
       "    </tr>\n",
       "  </tbody>\n",
       "</table>\n",
       "</div>"
      ],
      "text/plain": [
       "                                                   img  \\\n",
       "6347   /games/boxart/full_dangan-ronpa_0JapanFront.jpg   \n",
       "14436      /games/boxart/full_8639439JapanFrontccc.jpg   \n",
       "15449    /games/boxart/full_9121088AmericaFrontccc.jpg   \n",
       "19006    /games/boxart/full_8394432AmericaFrontccc.jpg   \n",
       "19066    /games/boxart/full_6903656AmericaFrontccc.jpg   \n",
       "\n",
       "                                  title console      genre publisher  \\\n",
       "6347   Danganronpa: Trigger Happy Havoc     PSP  Adventure   Unknown   \n",
       "14436   PriPara All Idol Perfect Stage!      NS       Misc   Unknown   \n",
       "15449        Zumba Fitness: World Party    X360       Misc   Unknown   \n",
       "19006                  How to Survive 2      PC     Action   Unknown   \n",
       "19066                     Geometry Dash      PC     Action   Unknown   \n",
       "\n",
       "              developer  critic_score  total_sales  na_sales  jp_sales  \\\n",
       "6347              Spike           NaN         0.24       0.0      0.24   \n",
       "14436  Takara Tomy ARTS           NaN         0.03       0.0      0.03   \n",
       "15449          Zoe Mode           NaN         0.02       0.0      0.00   \n",
       "19006      EKO Software           NaN         0.00       0.0      0.00   \n",
       "19066      RobTop Games           NaN         0.00       0.0      0.00   \n",
       "\n",
       "       pal_sales  other_sales release_date last_update  \n",
       "6347        0.00          0.0   2018-01-11  2018-01-11  \n",
       "14436       0.00          0.0   2018-04-04  2018-04-04  \n",
       "15449       0.02          0.0   2018-04-01  2018-04-01  \n",
       "19006       0.00          0.0   2019-02-02  2019-02-02  \n",
       "19066       0.00          0.0   2019-02-03  2019-02-03  "
      ]
     },
     "execution_count": 9,
     "metadata": {},
     "output_type": "execute_result"
    }
   ],
   "source": [
    "rn_dnn = df['release_date'].isnull() & df['last_update'].notnull()\n",
    "df.loc[np.where(rn_dnn, True, False), 'release_date'] = df.loc[np.where(rn_dnn, True, False),'release_date'].fillna(df['last_update'])\n",
    "\n",
    "df[np.where(rn_dnn, True, False)].head()"
   ]
  },
  {
   "cell_type": "code",
   "execution_count": 10,
   "id": "c75e65c1",
   "metadata": {
    "execution": {
     "iopub.execute_input": "2024-05-31T03:25:13.771321Z",
     "iopub.status.busy": "2024-05-31T03:25:13.770931Z",
     "iopub.status.idle": "2024-05-31T03:25:13.822646Z",
     "shell.execute_reply": "2024-05-31T03:25:13.821437Z"
    },
    "papermill": {
     "duration": 0.076815,
     "end_time": "2024-05-31T03:25:13.825168",
     "exception": false,
     "start_time": "2024-05-31T03:25:13.748353",
     "status": "completed"
    },
    "tags": []
   },
   "outputs": [
    {
     "data": {
      "text/html": [
       "<div>\n",
       "<style scoped>\n",
       "    .dataframe tbody tr th:only-of-type {\n",
       "        vertical-align: middle;\n",
       "    }\n",
       "\n",
       "    .dataframe tbody tr th {\n",
       "        vertical-align: top;\n",
       "    }\n",
       "\n",
       "    .dataframe thead th {\n",
       "        text-align: right;\n",
       "    }\n",
       "</style>\n",
       "<table border=\"1\" class=\"dataframe\">\n",
       "  <thead>\n",
       "    <tr style=\"text-align: right;\">\n",
       "      <th></th>\n",
       "      <th>img</th>\n",
       "      <th>title</th>\n",
       "      <th>console</th>\n",
       "      <th>genre</th>\n",
       "      <th>publisher</th>\n",
       "      <th>developer</th>\n",
       "      <th>critic_score</th>\n",
       "      <th>total_sales</th>\n",
       "      <th>na_sales</th>\n",
       "      <th>jp_sales</th>\n",
       "      <th>pal_sales</th>\n",
       "      <th>other_sales</th>\n",
       "      <th>release_date</th>\n",
       "      <th>last_update</th>\n",
       "    </tr>\n",
       "  </thead>\n",
       "  <tbody>\n",
       "    <tr>\n",
       "      <th>0</th>\n",
       "      <td>/games/boxart/full_6510540AmericaFrontccc.jpg</td>\n",
       "      <td>Grand Theft Auto V</td>\n",
       "      <td>PS3</td>\n",
       "      <td>Action</td>\n",
       "      <td>Rockstar Games</td>\n",
       "      <td>Rockstar North</td>\n",
       "      <td>9.4</td>\n",
       "      <td>20.32</td>\n",
       "      <td>6.37</td>\n",
       "      <td>0.99</td>\n",
       "      <td>9.85</td>\n",
       "      <td>3.12</td>\n",
       "      <td>2013-09-17</td>\n",
       "      <td>2013-09-17</td>\n",
       "    </tr>\n",
       "    <tr>\n",
       "      <th>2</th>\n",
       "      <td>/games/boxart/827563ccc.jpg</td>\n",
       "      <td>Grand Theft Auto: Vice City</td>\n",
       "      <td>PS2</td>\n",
       "      <td>Action</td>\n",
       "      <td>Rockstar Games</td>\n",
       "      <td>Rockstar North</td>\n",
       "      <td>9.6</td>\n",
       "      <td>16.15</td>\n",
       "      <td>8.41</td>\n",
       "      <td>0.47</td>\n",
       "      <td>5.49</td>\n",
       "      <td>1.78</td>\n",
       "      <td>2002-10-28</td>\n",
       "      <td>2002-10-28</td>\n",
       "    </tr>\n",
       "    <tr>\n",
       "      <th>3</th>\n",
       "      <td>/games/boxart/full_9218923AmericaFrontccc.jpg</td>\n",
       "      <td>Grand Theft Auto V</td>\n",
       "      <td>X360</td>\n",
       "      <td>Action</td>\n",
       "      <td>Rockstar Games</td>\n",
       "      <td>Rockstar North</td>\n",
       "      <td>NaN</td>\n",
       "      <td>15.86</td>\n",
       "      <td>9.06</td>\n",
       "      <td>0.06</td>\n",
       "      <td>5.33</td>\n",
       "      <td>1.42</td>\n",
       "      <td>2013-09-17</td>\n",
       "      <td>2013-09-17</td>\n",
       "    </tr>\n",
       "    <tr>\n",
       "      <th>5</th>\n",
       "      <td>/games/boxart/full_call-of-duty-modern-warfare...</td>\n",
       "      <td>Call of Duty: Modern Warfare 3</td>\n",
       "      <td>X360</td>\n",
       "      <td>Shooter</td>\n",
       "      <td>Activision</td>\n",
       "      <td>Infinity Ward</td>\n",
       "      <td>8.7</td>\n",
       "      <td>14.82</td>\n",
       "      <td>9.07</td>\n",
       "      <td>0.13</td>\n",
       "      <td>4.29</td>\n",
       "      <td>1.33</td>\n",
       "      <td>2011-11-08</td>\n",
       "      <td>2011-11-08</td>\n",
       "    </tr>\n",
       "    <tr>\n",
       "      <th>6</th>\n",
       "      <td>/games/boxart/full_call-of-duty-black-ops_5Ame...</td>\n",
       "      <td>Call of Duty: Black Ops</td>\n",
       "      <td>X360</td>\n",
       "      <td>Shooter</td>\n",
       "      <td>Activision</td>\n",
       "      <td>Treyarch</td>\n",
       "      <td>8.8</td>\n",
       "      <td>14.74</td>\n",
       "      <td>9.76</td>\n",
       "      <td>0.11</td>\n",
       "      <td>3.73</td>\n",
       "      <td>1.14</td>\n",
       "      <td>2010-11-09</td>\n",
       "      <td>2010-11-09</td>\n",
       "    </tr>\n",
       "  </tbody>\n",
       "</table>\n",
       "</div>"
      ],
      "text/plain": [
       "                                                 img  \\\n",
       "0      /games/boxart/full_6510540AmericaFrontccc.jpg   \n",
       "2                        /games/boxart/827563ccc.jpg   \n",
       "3      /games/boxart/full_9218923AmericaFrontccc.jpg   \n",
       "5  /games/boxart/full_call-of-duty-modern-warfare...   \n",
       "6  /games/boxart/full_call-of-duty-black-ops_5Ame...   \n",
       "\n",
       "                            title console    genre       publisher  \\\n",
       "0              Grand Theft Auto V     PS3   Action  Rockstar Games   \n",
       "2     Grand Theft Auto: Vice City     PS2   Action  Rockstar Games   \n",
       "3              Grand Theft Auto V    X360   Action  Rockstar Games   \n",
       "5  Call of Duty: Modern Warfare 3    X360  Shooter      Activision   \n",
       "6         Call of Duty: Black Ops    X360  Shooter      Activision   \n",
       "\n",
       "        developer  critic_score  total_sales  na_sales  jp_sales  pal_sales  \\\n",
       "0  Rockstar North           9.4        20.32      6.37      0.99       9.85   \n",
       "2  Rockstar North           9.6        16.15      8.41      0.47       5.49   \n",
       "3  Rockstar North           NaN        15.86      9.06      0.06       5.33   \n",
       "5   Infinity Ward           8.7        14.82      9.07      0.13       4.29   \n",
       "6        Treyarch           8.8        14.74      9.76      0.11       3.73   \n",
       "\n",
       "   other_sales release_date last_update  \n",
       "0         3.12   2013-09-17  2013-09-17  \n",
       "2         1.78   2002-10-28  2002-10-28  \n",
       "3         1.42   2013-09-17  2013-09-17  \n",
       "5         1.33   2011-11-08  2011-11-08  \n",
       "6         1.14   2010-11-09  2010-11-09  "
      ]
     },
     "execution_count": 10,
     "metadata": {},
     "output_type": "execute_result"
    }
   ],
   "source": [
    "rnn_dn = df['release_date'].notnull() & df['last_update'].isnull()\n",
    "df.loc[np.where(rnn_dn, True, False), 'last_update'] = df.loc[np.where(rnn_dn, True, False),'last_update'].fillna(df['release_date'])\n",
    "\n",
    "df[np.where(rnn_dn, True, False)].head()"
   ]
  },
  {
   "cell_type": "code",
   "execution_count": 11,
   "id": "ac574866",
   "metadata": {
    "execution": {
     "iopub.execute_input": "2024-05-31T03:25:13.867749Z",
     "iopub.status.busy": "2024-05-31T03:25:13.867346Z",
     "iopub.status.idle": "2024-05-31T03:25:13.916459Z",
     "shell.execute_reply": "2024-05-31T03:25:13.915342Z"
    },
    "papermill": {
     "duration": 0.073779,
     "end_time": "2024-05-31T03:25:13.919200",
     "exception": false,
     "start_time": "2024-05-31T03:25:13.845421",
     "status": "completed"
    },
    "tags": []
   },
   "outputs": [
    {
     "data": {
      "text/html": [
       "<div>\n",
       "<style scoped>\n",
       "    .dataframe tbody tr th:only-of-type {\n",
       "        vertical-align: middle;\n",
       "    }\n",
       "\n",
       "    .dataframe tbody tr th {\n",
       "        vertical-align: top;\n",
       "    }\n",
       "\n",
       "    .dataframe thead th {\n",
       "        text-align: right;\n",
       "    }\n",
       "</style>\n",
       "<table border=\"1\" class=\"dataframe\">\n",
       "  <thead>\n",
       "    <tr style=\"text-align: right;\">\n",
       "      <th></th>\n",
       "      <th>critic_score</th>\n",
       "      <th>total_sales</th>\n",
       "      <th>na_sales</th>\n",
       "      <th>jp_sales</th>\n",
       "      <th>pal_sales</th>\n",
       "      <th>other_sales</th>\n",
       "    </tr>\n",
       "  </thead>\n",
       "  <tbody>\n",
       "    <tr>\n",
       "      <th>count</th>\n",
       "      <td>25.00</td>\n",
       "      <td>1752.00</td>\n",
       "      <td>1752.00</td>\n",
       "      <td>1752.00</td>\n",
       "      <td>1752.00</td>\n",
       "      <td>1752.00</td>\n",
       "    </tr>\n",
       "    <tr>\n",
       "      <th>mean</th>\n",
       "      <td>6.87</td>\n",
       "      <td>0.00</td>\n",
       "      <td>0.00</td>\n",
       "      <td>0.00</td>\n",
       "      <td>0.00</td>\n",
       "      <td>0.00</td>\n",
       "    </tr>\n",
       "    <tr>\n",
       "      <th>std</th>\n",
       "      <td>1.63</td>\n",
       "      <td>0.05</td>\n",
       "      <td>0.01</td>\n",
       "      <td>0.02</td>\n",
       "      <td>0.03</td>\n",
       "      <td>0.01</td>\n",
       "    </tr>\n",
       "    <tr>\n",
       "      <th>min</th>\n",
       "      <td>2.50</td>\n",
       "      <td>0.00</td>\n",
       "      <td>0.00</td>\n",
       "      <td>0.00</td>\n",
       "      <td>0.00</td>\n",
       "      <td>0.00</td>\n",
       "    </tr>\n",
       "    <tr>\n",
       "      <th>25%</th>\n",
       "      <td>6.00</td>\n",
       "      <td>0.00</td>\n",
       "      <td>0.00</td>\n",
       "      <td>0.00</td>\n",
       "      <td>0.00</td>\n",
       "      <td>0.00</td>\n",
       "    </tr>\n",
       "    <tr>\n",
       "      <th>50%</th>\n",
       "      <td>7.00</td>\n",
       "      <td>0.00</td>\n",
       "      <td>0.00</td>\n",
       "      <td>0.00</td>\n",
       "      <td>0.00</td>\n",
       "      <td>0.00</td>\n",
       "    </tr>\n",
       "    <tr>\n",
       "      <th>75%</th>\n",
       "      <td>8.00</td>\n",
       "      <td>0.00</td>\n",
       "      <td>0.00</td>\n",
       "      <td>0.00</td>\n",
       "      <td>0.00</td>\n",
       "      <td>0.00</td>\n",
       "    </tr>\n",
       "    <tr>\n",
       "      <th>max</th>\n",
       "      <td>9.00</td>\n",
       "      <td>1.84</td>\n",
       "      <td>0.25</td>\n",
       "      <td>0.42</td>\n",
       "      <td>1.10</td>\n",
       "      <td>0.33</td>\n",
       "    </tr>\n",
       "  </tbody>\n",
       "</table>\n",
       "</div>"
      ],
      "text/plain": [
       "       critic_score  total_sales  na_sales  jp_sales  pal_sales  other_sales\n",
       "count         25.00      1752.00   1752.00   1752.00    1752.00      1752.00\n",
       "mean           6.87         0.00      0.00      0.00       0.00         0.00\n",
       "std            1.63         0.05      0.01      0.02       0.03         0.01\n",
       "min            2.50         0.00      0.00      0.00       0.00         0.00\n",
       "25%            6.00         0.00      0.00      0.00       0.00         0.00\n",
       "50%            7.00         0.00      0.00      0.00       0.00         0.00\n",
       "75%            8.00         0.00      0.00      0.00       0.00         0.00\n",
       "max            9.00         1.84      0.25      0.42       1.10         0.33"
      ]
     },
     "execution_count": 11,
     "metadata": {},
     "output_type": "execute_result"
    }
   ],
   "source": [
    "rn_dn = df['release_date'].isnull() & df['last_update'].isnull()\n",
    "# df.loc[np.where(rn_dn, True, False), 'release_date'] = df.loc[np.where(rn_dn, True, False),'release_date'].fillna(datetime.datetime())\n",
    "# df.loc[np.where(rn_dn, True, False), 'last_update'] = df.loc[np.where(rn_dn, True, False),'last_update'].fillna(df['release_date'])\n",
    "df[rn_dn].describe().round(2)"
   ]
  },
  {
   "cell_type": "markdown",
   "id": "66a205c9",
   "metadata": {
    "papermill": {
     "duration": 0.020121,
     "end_time": "2024-05-31T03:25:13.959755",
     "exception": false,
     "start_time": "2024-05-31T03:25:13.939634",
     "status": "completed"
    },
    "tags": []
   },
   "source": [
    "it's so small values. so we can ignore it or.."
   ]
  },
  {
   "cell_type": "code",
   "execution_count": 12,
   "id": "be135e65",
   "metadata": {
    "execution": {
     "iopub.execute_input": "2024-05-31T03:25:14.004879Z",
     "iopub.status.busy": "2024-05-31T03:25:14.004290Z",
     "iopub.status.idle": "2024-05-31T03:25:14.007845Z",
     "shell.execute_reply": "2024-05-31T03:25:14.007103Z"
    },
    "papermill": {
     "duration": 0.030141,
     "end_time": "2024-05-31T03:25:14.010306",
     "exception": false,
     "start_time": "2024-05-31T03:25:13.980165",
     "status": "completed"
    },
    "tags": []
   },
   "outputs": [],
   "source": [
    "# df = df[~rn_dn]"
   ]
  },
  {
   "cell_type": "markdown",
   "id": "ffd29edf",
   "metadata": {
    "papermill": {
     "duration": 0.020306,
     "end_time": "2024-05-31T03:25:14.051249",
     "exception": false,
     "start_time": "2024-05-31T03:25:14.030943",
     "status": "completed"
    },
    "tags": []
   },
   "source": [
    "keep it."
   ]
  },
  {
   "cell_type": "code",
   "execution_count": 13,
   "id": "5e23cbc3",
   "metadata": {
    "execution": {
     "iopub.execute_input": "2024-05-31T03:25:14.095623Z",
     "iopub.status.busy": "2024-05-31T03:25:14.094838Z",
     "iopub.status.idle": "2024-05-31T03:25:14.127736Z",
     "shell.execute_reply": "2024-05-31T03:25:14.126392Z"
    },
    "papermill": {
     "duration": 0.058868,
     "end_time": "2024-05-31T03:25:14.130590",
     "exception": false,
     "start_time": "2024-05-31T03:25:14.071722",
     "status": "completed"
    },
    "tags": []
   },
   "outputs": [],
   "source": [
    "import datetime\n",
    "\n",
    "df['release_date'] = df['release_date'].fillna(datetime.datetime(1900, 1, 1))\n",
    "df['last_update'] = df['last_update'].fillna(datetime.datetime(1900, 1, 1))"
   ]
  },
  {
   "cell_type": "markdown",
   "id": "32566277",
   "metadata": {
    "papermill": {
     "duration": 0.020221,
     "end_time": "2024-05-31T03:25:14.171479",
     "exception": false,
     "start_time": "2024-05-31T03:25:14.151258",
     "status": "completed"
    },
    "tags": []
   },
   "source": [
    "#### critic score"
   ]
  },
  {
   "cell_type": "code",
   "execution_count": 14,
   "id": "671eb16e",
   "metadata": {
    "execution": {
     "iopub.execute_input": "2024-05-31T03:25:14.275130Z",
     "iopub.status.busy": "2024-05-31T03:25:14.274673Z",
     "iopub.status.idle": "2024-05-31T03:25:14.315320Z",
     "shell.execute_reply": "2024-05-31T03:25:14.314063Z"
    },
    "papermill": {
     "duration": 0.065526,
     "end_time": "2024-05-31T03:25:14.318008",
     "exception": false,
     "start_time": "2024-05-31T03:25:14.252482",
     "status": "completed"
    },
    "tags": []
   },
   "outputs": [
    {
     "data": {
      "text/html": [
       "<div>\n",
       "<style scoped>\n",
       "    .dataframe tbody tr th:only-of-type {\n",
       "        vertical-align: middle;\n",
       "    }\n",
       "\n",
       "    .dataframe tbody tr th {\n",
       "        vertical-align: top;\n",
       "    }\n",
       "\n",
       "    .dataframe thead th {\n",
       "        text-align: right;\n",
       "    }\n",
       "</style>\n",
       "<table border=\"1\" class=\"dataframe\">\n",
       "  <thead>\n",
       "    <tr style=\"text-align: right;\">\n",
       "      <th></th>\n",
       "      <th>img</th>\n",
       "      <th>title</th>\n",
       "      <th>console</th>\n",
       "      <th>genre</th>\n",
       "      <th>publisher</th>\n",
       "      <th>developer</th>\n",
       "      <th>critic_score</th>\n",
       "      <th>total_sales</th>\n",
       "      <th>na_sales</th>\n",
       "      <th>jp_sales</th>\n",
       "      <th>pal_sales</th>\n",
       "      <th>other_sales</th>\n",
       "      <th>release_date</th>\n",
       "      <th>last_update</th>\n",
       "    </tr>\n",
       "  </thead>\n",
       "  <tbody>\n",
       "    <tr>\n",
       "      <th>3</th>\n",
       "      <td>/games/boxart/full_9218923AmericaFrontccc.jpg</td>\n",
       "      <td>Grand Theft Auto V</td>\n",
       "      <td>X360</td>\n",
       "      <td>Action</td>\n",
       "      <td>Rockstar Games</td>\n",
       "      <td>Rockstar North</td>\n",
       "      <td>NaN</td>\n",
       "      <td>15.86</td>\n",
       "      <td>9.06</td>\n",
       "      <td>0.06</td>\n",
       "      <td>5.33</td>\n",
       "      <td>1.42</td>\n",
       "      <td>2013-09-17</td>\n",
       "      <td>2013-09-17</td>\n",
       "    </tr>\n",
       "    <tr>\n",
       "      <th>23</th>\n",
       "      <td>/games/boxart/full_2236292AmericaFrontccc.png</td>\n",
       "      <td>Halo 4</td>\n",
       "      <td>X360</td>\n",
       "      <td>Shooter</td>\n",
       "      <td>Microsoft Studios</td>\n",
       "      <td>343 Industries</td>\n",
       "      <td>NaN</td>\n",
       "      <td>9.96</td>\n",
       "      <td>6.72</td>\n",
       "      <td>0.04</td>\n",
       "      <td>2.36</td>\n",
       "      <td>0.83</td>\n",
       "      <td>2012-11-06</td>\n",
       "      <td>2012-11-06</td>\n",
       "    </tr>\n",
       "    <tr>\n",
       "      <th>25</th>\n",
       "      <td>/games/boxart/full_6532460AmericaFrontccc.jpg</td>\n",
       "      <td>Call of Duty: Black Ops IIII</td>\n",
       "      <td>PS4</td>\n",
       "      <td>Shooter</td>\n",
       "      <td>Activision</td>\n",
       "      <td>Treyarch</td>\n",
       "      <td>NaN</td>\n",
       "      <td>9.32</td>\n",
       "      <td>4.05</td>\n",
       "      <td>0.50</td>\n",
       "      <td>3.28</td>\n",
       "      <td>1.49</td>\n",
       "      <td>2018-10-12</td>\n",
       "      <td>2018-11-07</td>\n",
       "    </tr>\n",
       "    <tr>\n",
       "      <th>26</th>\n",
       "      <td>/games/boxart/full_5970958AmericaFrontccc.jpg</td>\n",
       "      <td>FIFA 19</td>\n",
       "      <td>PS4</td>\n",
       "      <td>Sports</td>\n",
       "      <td>Electronic Arts</td>\n",
       "      <td>EA Sports</td>\n",
       "      <td>NaN</td>\n",
       "      <td>9.15</td>\n",
       "      <td>0.84</td>\n",
       "      <td>0.10</td>\n",
       "      <td>6.87</td>\n",
       "      <td>1.34</td>\n",
       "      <td>2018-09-28</td>\n",
       "      <td>2018-09-12</td>\n",
       "    </tr>\n",
       "    <tr>\n",
       "      <th>33</th>\n",
       "      <td>/games/boxart/full_5731689AmericaFrontccc.jpg</td>\n",
       "      <td>FIFA 13</td>\n",
       "      <td>PS3</td>\n",
       "      <td>Sports</td>\n",
       "      <td>EA Sports</td>\n",
       "      <td>EA Canada</td>\n",
       "      <td>NaN</td>\n",
       "      <td>8.01</td>\n",
       "      <td>1.07</td>\n",
       "      <td>0.13</td>\n",
       "      <td>5.13</td>\n",
       "      <td>1.68</td>\n",
       "      <td>2012-09-25</td>\n",
       "      <td>2018-04-06</td>\n",
       "    </tr>\n",
       "    <tr>\n",
       "      <th>...</th>\n",
       "      <td>...</td>\n",
       "      <td>...</td>\n",
       "      <td>...</td>\n",
       "      <td>...</td>\n",
       "      <td>...</td>\n",
       "      <td>...</td>\n",
       "      <td>...</td>\n",
       "      <td>...</td>\n",
       "      <td>...</td>\n",
       "      <td>...</td>\n",
       "      <td>...</td>\n",
       "      <td>...</td>\n",
       "      <td>...</td>\n",
       "      <td>...</td>\n",
       "    </tr>\n",
       "    <tr>\n",
       "      <th>64011</th>\n",
       "      <td>/games/boxart/full_2779838AmericaFrontccc.jpg</td>\n",
       "      <td>XBlaze Lost: Memories</td>\n",
       "      <td>PC</td>\n",
       "      <td>Visual Novel</td>\n",
       "      <td>Aksys Games</td>\n",
       "      <td>Arc System Works</td>\n",
       "      <td>NaN</td>\n",
       "      <td>0.00</td>\n",
       "      <td>0.00</td>\n",
       "      <td>0.00</td>\n",
       "      <td>0.00</td>\n",
       "      <td>0.00</td>\n",
       "      <td>2016-08-11</td>\n",
       "      <td>2019-01-28</td>\n",
       "    </tr>\n",
       "    <tr>\n",
       "      <th>64012</th>\n",
       "      <td>/games/boxart/full_8031506AmericaFrontccc.jpg</td>\n",
       "      <td>Yoru, Tomosu</td>\n",
       "      <td>PS4</td>\n",
       "      <td>Visual Novel</td>\n",
       "      <td>Nippon Ichi Software</td>\n",
       "      <td>Nippon Ichi Software</td>\n",
       "      <td>NaN</td>\n",
       "      <td>0.00</td>\n",
       "      <td>0.00</td>\n",
       "      <td>0.00</td>\n",
       "      <td>0.00</td>\n",
       "      <td>0.00</td>\n",
       "      <td>2020-07-30</td>\n",
       "      <td>2020-05-09</td>\n",
       "    </tr>\n",
       "    <tr>\n",
       "      <th>64013</th>\n",
       "      <td>/games/boxart/full_6553045AmericaFrontccc.jpg</td>\n",
       "      <td>Yoru, Tomosu</td>\n",
       "      <td>NS</td>\n",
       "      <td>Visual Novel</td>\n",
       "      <td>Nippon Ichi Software</td>\n",
       "      <td>Nippon Ichi Software</td>\n",
       "      <td>NaN</td>\n",
       "      <td>0.00</td>\n",
       "      <td>0.00</td>\n",
       "      <td>0.00</td>\n",
       "      <td>0.00</td>\n",
       "      <td>0.00</td>\n",
       "      <td>2020-07-30</td>\n",
       "      <td>2020-05-09</td>\n",
       "    </tr>\n",
       "    <tr>\n",
       "      <th>64014</th>\n",
       "      <td>/games/boxart/full_6012940JapanFrontccc.png</td>\n",
       "      <td>Yunohana SpRING! ~Mellow Times~</td>\n",
       "      <td>NS</td>\n",
       "      <td>Visual Novel</td>\n",
       "      <td>Idea Factory</td>\n",
       "      <td>Otomate</td>\n",
       "      <td>NaN</td>\n",
       "      <td>0.00</td>\n",
       "      <td>0.00</td>\n",
       "      <td>0.00</td>\n",
       "      <td>0.00</td>\n",
       "      <td>0.00</td>\n",
       "      <td>2019-02-28</td>\n",
       "      <td>2019-02-24</td>\n",
       "    </tr>\n",
       "    <tr>\n",
       "      <th>64015</th>\n",
       "      <td>/games/boxart/default.jpg</td>\n",
       "      <td>Yurukill: The Calumniation Games</td>\n",
       "      <td>PS4</td>\n",
       "      <td>Visual Novel</td>\n",
       "      <td>Unknown</td>\n",
       "      <td>G.rev Ltd.</td>\n",
       "      <td>NaN</td>\n",
       "      <td>0.00</td>\n",
       "      <td>0.00</td>\n",
       "      <td>0.00</td>\n",
       "      <td>0.00</td>\n",
       "      <td>0.00</td>\n",
       "      <td>2023-09-29</td>\n",
       "      <td>2023-09-29</td>\n",
       "    </tr>\n",
       "  </tbody>\n",
       "</table>\n",
       "<p>57338 rows × 14 columns</p>\n",
       "</div>"
      ],
      "text/plain": [
       "                                                 img  \\\n",
       "3      /games/boxart/full_9218923AmericaFrontccc.jpg   \n",
       "23     /games/boxart/full_2236292AmericaFrontccc.png   \n",
       "25     /games/boxart/full_6532460AmericaFrontccc.jpg   \n",
       "26     /games/boxart/full_5970958AmericaFrontccc.jpg   \n",
       "33     /games/boxart/full_5731689AmericaFrontccc.jpg   \n",
       "...                                              ...   \n",
       "64011  /games/boxart/full_2779838AmericaFrontccc.jpg   \n",
       "64012  /games/boxart/full_8031506AmericaFrontccc.jpg   \n",
       "64013  /games/boxart/full_6553045AmericaFrontccc.jpg   \n",
       "64014    /games/boxart/full_6012940JapanFrontccc.png   \n",
       "64015                      /games/boxart/default.jpg   \n",
       "\n",
       "                                  title console         genre  \\\n",
       "3                    Grand Theft Auto V    X360        Action   \n",
       "23                               Halo 4    X360       Shooter   \n",
       "25         Call of Duty: Black Ops IIII     PS4       Shooter   \n",
       "26                              FIFA 19     PS4        Sports   \n",
       "33                              FIFA 13     PS3        Sports   \n",
       "...                                 ...     ...           ...   \n",
       "64011             XBlaze Lost: Memories      PC  Visual Novel   \n",
       "64012                      Yoru, Tomosu     PS4  Visual Novel   \n",
       "64013                      Yoru, Tomosu      NS  Visual Novel   \n",
       "64014   Yunohana SpRING! ~Mellow Times~      NS  Visual Novel   \n",
       "64015  Yurukill: The Calumniation Games     PS4  Visual Novel   \n",
       "\n",
       "                  publisher             developer  critic_score  total_sales  \\\n",
       "3            Rockstar Games        Rockstar North           NaN        15.86   \n",
       "23        Microsoft Studios        343 Industries           NaN         9.96   \n",
       "25               Activision              Treyarch           NaN         9.32   \n",
       "26          Electronic Arts             EA Sports           NaN         9.15   \n",
       "33                EA Sports             EA Canada           NaN         8.01   \n",
       "...                     ...                   ...           ...          ...   \n",
       "64011           Aksys Games      Arc System Works           NaN         0.00   \n",
       "64012  Nippon Ichi Software  Nippon Ichi Software           NaN         0.00   \n",
       "64013  Nippon Ichi Software  Nippon Ichi Software           NaN         0.00   \n",
       "64014          Idea Factory               Otomate           NaN         0.00   \n",
       "64015               Unknown            G.rev Ltd.           NaN         0.00   \n",
       "\n",
       "       na_sales  jp_sales  pal_sales  other_sales release_date last_update  \n",
       "3          9.06      0.06       5.33         1.42   2013-09-17  2013-09-17  \n",
       "23         6.72      0.04       2.36         0.83   2012-11-06  2012-11-06  \n",
       "25         4.05      0.50       3.28         1.49   2018-10-12  2018-11-07  \n",
       "26         0.84      0.10       6.87         1.34   2018-09-28  2018-09-12  \n",
       "33         1.07      0.13       5.13         1.68   2012-09-25  2018-04-06  \n",
       "...         ...       ...        ...          ...          ...         ...  \n",
       "64011      0.00      0.00       0.00         0.00   2016-08-11  2019-01-28  \n",
       "64012      0.00      0.00       0.00         0.00   2020-07-30  2020-05-09  \n",
       "64013      0.00      0.00       0.00         0.00   2020-07-30  2020-05-09  \n",
       "64014      0.00      0.00       0.00         0.00   2019-02-28  2019-02-24  \n",
       "64015      0.00      0.00       0.00         0.00   2023-09-29  2023-09-29  \n",
       "\n",
       "[57338 rows x 14 columns]"
      ]
     },
     "execution_count": 14,
     "metadata": {},
     "output_type": "execute_result"
    }
   ],
   "source": [
    "df[df['critic_score'].isnull()]"
   ]
  },
  {
   "cell_type": "markdown",
   "id": "0684b21b",
   "metadata": {
    "papermill": {
     "duration": 0.021325,
     "end_time": "2024-05-31T03:25:14.360925",
     "exception": false,
     "start_time": "2024-05-31T03:25:14.339600",
     "status": "completed"
    },
    "tags": []
   },
   "source": [
    "GTA V, HALO 4, CoD, FIFA... 🥲"
   ]
  },
  {
   "cell_type": "code",
   "execution_count": 15,
   "id": "88de4de9",
   "metadata": {
    "execution": {
     "iopub.execute_input": "2024-05-31T03:25:14.404886Z",
     "iopub.status.busy": "2024-05-31T03:25:14.404512Z",
     "iopub.status.idle": "2024-05-31T03:25:16.365875Z",
     "shell.execute_reply": "2024-05-31T03:25:16.364710Z"
    },
    "papermill": {
     "duration": 1.98674,
     "end_time": "2024-05-31T03:25:16.368802",
     "exception": false,
     "start_time": "2024-05-31T03:25:14.382062",
     "status": "completed"
    },
    "tags": []
   },
   "outputs": [
    {
     "data": {
      "text/plain": [
       "<Axes: >"
      ]
     },
     "execution_count": 15,
     "metadata": {},
     "output_type": "execute_result"
    },
    {
     "data": {
      "image/png": "[encoded data removed]",
      "text/plain": [
       "<Figure size 640x480 with 2 Axes>"
      ]
     },
     "metadata": {},
     "output_type": "display_data"
    }
   ],
   "source": [
    "temp = df[df['critic_score'].notnull()]\n",
    "\n",
    "import seaborn as sns\n",
    "sns.heatmap(temp[['critic_score', 'total_sales', 'na_sales', 'jp_sales', 'pal_sales', 'other_sales']].corr(), \n",
    "            vmin = -1, vmax =1, cmap = 'seismic', annot = True)"
   ]
  },
  {
   "cell_type": "markdown",
   "id": "4a86eecf",
   "metadata": {
    "papermill": {
     "duration": 0.022388,
     "end_time": "2024-05-31T03:25:16.413754",
     "exception": false,
     "start_time": "2024-05-31T03:25:16.391366",
     "status": "completed"
    },
    "tags": []
   },
   "source": [
    "critic score and sales has low correlation..  \n",
    "it looks like that we dont have any solution for fix missing values of critic score."
   ]
  },
  {
   "cell_type": "code",
   "execution_count": 16,
   "id": "f2457d0f",
   "metadata": {
    "execution": {
     "iopub.execute_input": "2024-05-31T03:25:16.460361Z",
     "iopub.status.busy": "2024-05-31T03:25:16.459966Z",
     "iopub.status.idle": "2024-05-31T03:25:16.771473Z",
     "shell.execute_reply": "2024-05-31T03:25:16.770308Z"
    },
    "papermill": {
     "duration": 0.338432,
     "end_time": "2024-05-31T03:25:16.774535",
     "exception": false,
     "start_time": "2024-05-31T03:25:16.436103",
     "status": "completed"
    },
    "tags": []
   },
   "outputs": [
    {
     "data": {
      "text/plain": [
       "<Axes: ylabel='Frequency'>"
      ]
     },
     "execution_count": 16,
     "metadata": {},
     "output_type": "execute_result"
    },
    {
     "data": {
      "image/png": "[encoded data removed]",
      "text/plain": [
       "<Figure size 640x480 with 1 Axes>"
      ]
     },
     "metadata": {},
     "output_type": "display_data"
    }
   ],
   "source": [
    "import matplotlib.pyplot as plt\n",
    "df['critic_score'].plot(kind = 'hist')"
   ]
  },
  {
   "cell_type": "markdown",
   "id": "b6b526d4",
   "metadata": {
    "papermill": {
     "duration": 0.023465,
     "end_time": "2024-05-31T03:25:16.821396",
     "exception": false,
     "start_time": "2024-05-31T03:25:16.797931",
     "status": "completed"
    },
    "tags": []
   },
   "source": [
    "hmmm...i'll keep going without filling missing values."
   ]
  },
  {
   "cell_type": "markdown",
   "id": "a2b532ca",
   "metadata": {
    "papermill": {
     "duration": 0.022644,
     "end_time": "2024-05-31T03:25:16.867246",
     "exception": false,
     "start_time": "2024-05-31T03:25:16.844602",
     "status": "completed"
    },
    "tags": []
   },
   "source": [
    "#### Drop img"
   ]
  },
  {
   "cell_type": "code",
   "execution_count": 17,
   "id": "25c36189",
   "metadata": {
    "execution": {
     "iopub.execute_input": "2024-05-31T03:25:16.914210Z",
     "iopub.status.busy": "2024-05-31T03:25:16.913767Z",
     "iopub.status.idle": "2024-05-31T03:25:16.930138Z",
     "shell.execute_reply": "2024-05-31T03:25:16.929171Z"
    },
    "papermill": {
     "duration": 0.042681,
     "end_time": "2024-05-31T03:25:16.932559",
     "exception": false,
     "start_time": "2024-05-31T03:25:16.889878",
     "status": "completed"
    },
    "tags": []
   },
   "outputs": [],
   "source": [
    "df.drop(columns = 'img', inplace = True)"
   ]
  },
  {
   "cell_type": "markdown",
   "id": "1b0ed550",
   "metadata": {
    "papermill": {
     "duration": 0.022579,
     "end_time": "2024-05-31T03:25:16.978287",
     "exception": false,
     "start_time": "2024-05-31T03:25:16.955708",
     "status": "completed"
    },
    "tags": []
   },
   "source": [
    "# EDA"
   ]
  },
  {
   "cell_type": "code",
   "execution_count": 18,
   "id": "952dac78",
   "metadata": {
    "execution": {
     "iopub.execute_input": "2024-05-31T03:25:17.026918Z",
     "iopub.status.busy": "2024-05-31T03:25:17.026505Z",
     "iopub.status.idle": "2024-05-31T03:25:17.046640Z",
     "shell.execute_reply": "2024-05-31T03:25:17.045603Z"
    },
    "papermill": {
     "duration": 0.048053,
     "end_time": "2024-05-31T03:25:17.049093",
     "exception": false,
     "start_time": "2024-05-31T03:25:17.001040",
     "status": "completed"
    },
    "tags": []
   },
   "outputs": [
    {
     "data": {
      "text/html": [
       "<div>\n",
       "<style scoped>\n",
       "    .dataframe tbody tr th:only-of-type {\n",
       "        vertical-align: middle;\n",
       "    }\n",
       "\n",
       "    .dataframe tbody tr th {\n",
       "        vertical-align: top;\n",
       "    }\n",
       "\n",
       "    .dataframe thead th {\n",
       "        text-align: right;\n",
       "    }\n",
       "</style>\n",
       "<table border=\"1\" class=\"dataframe\">\n",
       "  <thead>\n",
       "    <tr style=\"text-align: right;\">\n",
       "      <th></th>\n",
       "      <th>title</th>\n",
       "      <th>console</th>\n",
       "      <th>genre</th>\n",
       "      <th>publisher</th>\n",
       "      <th>developer</th>\n",
       "      <th>critic_score</th>\n",
       "      <th>total_sales</th>\n",
       "      <th>na_sales</th>\n",
       "      <th>jp_sales</th>\n",
       "      <th>pal_sales</th>\n",
       "      <th>other_sales</th>\n",
       "      <th>release_date</th>\n",
       "      <th>last_update</th>\n",
       "    </tr>\n",
       "  </thead>\n",
       "  <tbody>\n",
       "    <tr>\n",
       "      <th>0</th>\n",
       "      <td>Grand Theft Auto V</td>\n",
       "      <td>PS3</td>\n",
       "      <td>Action</td>\n",
       "      <td>Rockstar Games</td>\n",
       "      <td>Rockstar North</td>\n",
       "      <td>9.4</td>\n",
       "      <td>20.32</td>\n",
       "      <td>6.37</td>\n",
       "      <td>0.99</td>\n",
       "      <td>9.85</td>\n",
       "      <td>3.12</td>\n",
       "      <td>2013-09-17</td>\n",
       "      <td>2013-09-17</td>\n",
       "    </tr>\n",
       "    <tr>\n",
       "      <th>1</th>\n",
       "      <td>Grand Theft Auto V</td>\n",
       "      <td>PS4</td>\n",
       "      <td>Action</td>\n",
       "      <td>Rockstar Games</td>\n",
       "      <td>Rockstar North</td>\n",
       "      <td>9.7</td>\n",
       "      <td>19.39</td>\n",
       "      <td>6.06</td>\n",
       "      <td>0.60</td>\n",
       "      <td>9.71</td>\n",
       "      <td>3.02</td>\n",
       "      <td>2014-11-18</td>\n",
       "      <td>2018-01-03</td>\n",
       "    </tr>\n",
       "    <tr>\n",
       "      <th>2</th>\n",
       "      <td>Grand Theft Auto: Vice City</td>\n",
       "      <td>PS2</td>\n",
       "      <td>Action</td>\n",
       "      <td>Rockstar Games</td>\n",
       "      <td>Rockstar North</td>\n",
       "      <td>9.6</td>\n",
       "      <td>16.15</td>\n",
       "      <td>8.41</td>\n",
       "      <td>0.47</td>\n",
       "      <td>5.49</td>\n",
       "      <td>1.78</td>\n",
       "      <td>2002-10-28</td>\n",
       "      <td>2002-10-28</td>\n",
       "    </tr>\n",
       "    <tr>\n",
       "      <th>3</th>\n",
       "      <td>Grand Theft Auto V</td>\n",
       "      <td>X360</td>\n",
       "      <td>Action</td>\n",
       "      <td>Rockstar Games</td>\n",
       "      <td>Rockstar North</td>\n",
       "      <td>NaN</td>\n",
       "      <td>15.86</td>\n",
       "      <td>9.06</td>\n",
       "      <td>0.06</td>\n",
       "      <td>5.33</td>\n",
       "      <td>1.42</td>\n",
       "      <td>2013-09-17</td>\n",
       "      <td>2013-09-17</td>\n",
       "    </tr>\n",
       "    <tr>\n",
       "      <th>4</th>\n",
       "      <td>Call of Duty: Black Ops 3</td>\n",
       "      <td>PS4</td>\n",
       "      <td>Shooter</td>\n",
       "      <td>Activision</td>\n",
       "      <td>Treyarch</td>\n",
       "      <td>8.1</td>\n",
       "      <td>15.09</td>\n",
       "      <td>6.18</td>\n",
       "      <td>0.41</td>\n",
       "      <td>6.05</td>\n",
       "      <td>2.44</td>\n",
       "      <td>2015-11-06</td>\n",
       "      <td>2018-01-14</td>\n",
       "    </tr>\n",
       "  </tbody>\n",
       "</table>\n",
       "</div>"
      ],
      "text/plain": [
       "                         title console    genre       publisher  \\\n",
       "0           Grand Theft Auto V     PS3   Action  Rockstar Games   \n",
       "1           Grand Theft Auto V     PS4   Action  Rockstar Games   \n",
       "2  Grand Theft Auto: Vice City     PS2   Action  Rockstar Games   \n",
       "3           Grand Theft Auto V    X360   Action  Rockstar Games   \n",
       "4    Call of Duty: Black Ops 3     PS4  Shooter      Activision   \n",
       "\n",
       "        developer  critic_score  total_sales  na_sales  jp_sales  pal_sales  \\\n",
       "0  Rockstar North           9.4        20.32      6.37      0.99       9.85   \n",
       "1  Rockstar North           9.7        19.39      6.06      0.60       9.71   \n",
       "2  Rockstar North           9.6        16.15      8.41      0.47       5.49   \n",
       "3  Rockstar North           NaN        15.86      9.06      0.06       5.33   \n",
       "4        Treyarch           8.1        15.09      6.18      0.41       6.05   \n",
       "\n",
       "   other_sales release_date last_update  \n",
       "0         3.12   2013-09-17  2013-09-17  \n",
       "1         3.02   2014-11-18  2018-01-03  \n",
       "2         1.78   2002-10-28  2002-10-28  \n",
       "3         1.42   2013-09-17  2013-09-17  \n",
       "4         2.44   2015-11-06  2018-01-14  "
      ]
     },
     "execution_count": 18,
     "metadata": {},
     "output_type": "execute_result"
    }
   ],
   "source": [
    "df.head()"
   ]
  },
  {
   "cell_type": "markdown",
   "id": "af597d00",
   "metadata": {
    "papermill": {
     "duration": 0.022949,
     "end_time": "2024-05-31T03:25:17.095576",
     "exception": false,
     "start_time": "2024-05-31T03:25:17.072627",
     "status": "completed"
    },
    "tags": []
   },
   "source": [
    "## Top Selling 30"
   ]
  },
  {
   "cell_type": "markdown",
   "id": "90a9df0f",
   "metadata": {
    "papermill": {
     "duration": 0.022792,
     "end_time": "2024-05-31T03:25:17.141506",
     "exception": false,
     "start_time": "2024-05-31T03:25:17.118714",
     "status": "completed"
    },
    "tags": []
   },
   "source": [
    "#### Title"
   ]
  },
  {
   "cell_type": "code",
   "execution_count": 19,
   "id": "6ea71909",
   "metadata": {
    "execution": {
     "iopub.execute_input": "2024-05-31T03:25:17.189720Z",
     "iopub.status.busy": "2024-05-31T03:25:17.189336Z",
     "iopub.status.idle": "2024-05-31T03:25:17.283829Z",
     "shell.execute_reply": "2024-05-31T03:25:17.282664Z"
    },
    "papermill": {
     "duration": 0.12194,
     "end_time": "2024-05-31T03:25:17.286545",
     "exception": false,
     "start_time": "2024-05-31T03:25:17.164605",
     "status": "completed"
    },
    "tags": []
   },
   "outputs": [
    {
     "data": {
      "text/plain": [
       "title\n",
       "Grand Theft Auto V                   64.29\n",
       "Call of Duty: Black Ops              30.99\n",
       "Call of Duty: Modern Warfare 3       30.71\n",
       "Call of Duty: Black Ops II           29.59\n",
       "Call of Duty: Ghosts                 28.80\n",
       "Call of Duty: Black Ops 3            26.72\n",
       "Call of Duty: Modern Warfare 2       25.02\n",
       "Minecraft                            24.01\n",
       "Grand Theft Auto IV                  22.53\n",
       "Call of Duty: Advanced Warfare       21.78\n",
       "The Elder Scrolls V: Skyrim          20.51\n",
       "Call of Duty: WWII                   19.82\n",
       "Red Dead Redemption 2                19.71\n",
       "Call of Duty 4: Modern Warfare       18.33\n",
       "FIFA 15                              18.03\n",
       "Battlefield 3                        17.32\n",
       "FIFA 14                              17.31\n",
       "FIFA 17                              17.02\n",
       "FIFA 18                              16.92\n",
       "Guitar Hero III: Legends of Rock     16.38\n",
       "Grand Theft Auto: Vice City          16.19\n",
       "Call of Duty: World at War           15.94\n",
       "FIFA 16                              15.82\n",
       "FIFA 13                              15.36\n",
       "LEGO Star Wars: The Complete Saga    15.33\n",
       "The Sims 3                           15.20\n",
       "Battlefield 4                        14.60\n",
       "Call of Duty: Black Ops IIII         14.30\n",
       "Assassin's Creed IV: Black Flag      13.71\n",
       "Call of Duty: Infinite Warfare       13.60\n",
       "Name: total_sales, dtype: float64"
      ]
     },
     "execution_count": 19,
     "metadata": {},
     "output_type": "execute_result"
    }
   ],
   "source": [
    "df.groupby('title')['total_sales'].sum().sort_values(ascending=False).head(30)"
   ]
  },
  {
   "cell_type": "markdown",
   "id": "f738748d",
   "metadata": {
    "papermill": {
     "duration": 0.023241,
     "end_time": "2024-05-31T03:25:17.333566",
     "exception": false,
     "start_time": "2024-05-31T03:25:17.310325",
     "status": "completed"
    },
    "tags": []
   },
   "source": [
    "#### Franchise"
   ]
  },
  {
   "cell_type": "code",
   "execution_count": 20,
   "id": "244490b9",
   "metadata": {
    "execution": {
     "iopub.execute_input": "2024-05-31T03:25:17.382206Z",
     "iopub.status.busy": "2024-05-31T03:25:17.381748Z",
     "iopub.status.idle": "2024-05-31T03:25:18.972046Z",
     "shell.execute_reply": "2024-05-31T03:25:18.970813Z"
    },
    "papermill": {
     "duration": 1.617591,
     "end_time": "2024-05-31T03:25:18.974791",
     "exception": false,
     "start_time": "2024-05-31T03:25:17.357200",
     "status": "completed"
    },
    "tags": []
   },
   "outputs": [],
   "source": [
    "franchise_list = ['Call of Duty', 'Grand Theft Auto', 'Minecraft', 'FIFA', 'Battlefield', 'LEGO', 'The Sims', \n",
    "                  'The Elder Scrolls', 'Red Dead Redemption', 'Guitar Hero', 'Assassin\\'s Creed', 'Fallout', 'Destiny',\n",
    "                 'Star Wars', 'Need for Speed', 'Arkham', 'Halo', 'Watch Dogs', 'Medal of Honor', 'Resident Evil', 'NFL', \n",
    "                 'Far Cry ', 'Overwatch', 'NBA', 'Harry Potter', 'Spider-Man', 'Tony Hawk\\'s', 'Tomb Raider', 'Tom Clancy',\n",
    "                 'Monopoly', 'Just Dance', 'Final Fantasy', 'WWE', 'Street Fighter', 'Mario', 'The Simpsons', 'Borderlands', 'Uncharted',\n",
    "                 'The Lord of the Rings', 'Crash Bandicoot']\n",
    "\n",
    "df['franchise'] = np.NaN\n",
    "for each_franchise in franchise_list:\n",
    "    df['franchise'] = np.where(df['title'].str.contains(each_franchise), each_franchise, df['franchise'])\n",
    "    \n",
    "df['franchise'] = np.where(df['title'].str.contains('Lego'), 'LEGO', df['franchise'])\n",
    "\n",
    "df['franchise'] = np.where(df['franchise'] == 'nan', df['title'], df['franchise'])"
   ]
  },
  {
   "cell_type": "code",
   "execution_count": 21,
   "id": "ea5ec659",
   "metadata": {
    "execution": {
     "iopub.execute_input": "2024-05-31T03:25:19.025286Z",
     "iopub.status.busy": "2024-05-31T03:25:19.024860Z",
     "iopub.status.idle": "2024-05-31T03:25:19.029522Z",
     "shell.execute_reply": "2024-05-31T03:25:19.028313Z"
    },
    "papermill": {
     "duration": 0.033185,
     "end_time": "2024-05-31T03:25:19.031873",
     "exception": false,
     "start_time": "2024-05-31T03:25:18.998688",
     "status": "completed"
    },
    "tags": []
   },
   "outputs": [],
   "source": [
    "# df[df['franchise'] == 'nan'].groupby('title')['total_sales'].sum().sort_values(ascending=False).head(10)"
   ]
  },
  {
   "cell_type": "code",
   "execution_count": 22,
   "id": "878f4125",
   "metadata": {
    "execution": {
     "iopub.execute_input": "2024-05-31T03:25:19.081817Z",
     "iopub.status.busy": "2024-05-31T03:25:19.080951Z",
     "iopub.status.idle": "2024-05-31T03:25:19.172435Z",
     "shell.execute_reply": "2024-05-31T03:25:19.171198Z"
    },
    "papermill": {
     "duration": 0.119089,
     "end_time": "2024-05-31T03:25:19.174923",
     "exception": false,
     "start_time": "2024-05-31T03:25:19.055834",
     "status": "completed"
    },
    "tags": []
   },
   "outputs": [
    {
     "data": {
      "text/plain": [
       "franchise\n",
       "Call of Duty           301.67\n",
       "FIFA                   212.18\n",
       "NFL                    166.18\n",
       "Grand Theft Auto       155.26\n",
       "NBA                    140.84\n",
       "Star Wars              125.28\n",
       "Need for Speed         104.82\n",
       "LEGO                    99.30\n",
       "Assassin's Creed        97.81\n",
       "Tom Clancy              69.72\n",
       "The Sims                69.48\n",
       "Battlefield             64.66\n",
       "WWE                     61.57\n",
       "Guitar Hero             60.33\n",
       "Tony Hawk's             51.66\n",
       "The Elder Scrolls       43.91\n",
       "Tomb Raider             42.43\n",
       "Harry Potter            42.33\n",
       "Final Fantasy           41.43\n",
       "Medal of Honor          37.81\n",
       "Just Dance              37.38\n",
       "Spider-Man              36.90\n",
       "Red Dead Redemption     35.09\n",
       "Fallout                 33.69\n",
       "Mario                   31.62\n",
       "Destiny                 31.09\n",
       "Arkham                  30.77\n",
       "Minecraft               28.77\n",
       "Halo                    27.29\n",
       "Far Cry                 25.95\n",
       "Name: total_sales, dtype: float64"
      ]
     },
     "execution_count": 22,
     "metadata": {},
     "output_type": "execute_result"
    }
   ],
   "source": [
    "df.groupby('franchise')['total_sales'].sum().sort_values(ascending=False).head(30)"
   ]
  },
  {
   "cell_type": "markdown",
   "id": "c3bac3b6",
   "metadata": {
    "papermill": {
     "duration": 0.023647,
     "end_time": "2024-05-31T03:25:19.222209",
     "exception": false,
     "start_time": "2024-05-31T03:25:19.198562",
     "status": "completed"
    },
    "tags": []
   },
   "source": [
    "#### Publisher"
   ]
  },
  {
   "cell_type": "code",
   "execution_count": 23,
   "id": "cc9e069d",
   "metadata": {
    "execution": {
     "iopub.execute_input": "2024-05-31T03:25:19.270966Z",
     "iopub.status.busy": "2024-05-31T03:25:19.270570Z",
     "iopub.status.idle": "2024-05-31T03:25:19.400496Z",
     "shell.execute_reply": "2024-05-31T03:25:19.399601Z"
    },
    "papermill": {
     "duration": 0.157238,
     "end_time": "2024-05-31T03:25:19.403024",
     "exception": false,
     "start_time": "2024-05-31T03:25:19.245786",
     "status": "completed"
    },
    "tags": []
   },
   "outputs": [],
   "source": [
    "df['publisher'] = np.where(df['publisher'] == 'EA Sports', 'Electronic Arts', df['publisher'])\n",
    "df['publisher'] = np.where(df['publisher'] == 'EA Sports BIG', 'Electronic Arts', df['publisher'])\n",
    "\n",
    "\n",
    "df['publisher'] = np.where(df['publisher'] == 'Namco', 'Namco Bandai Games', df['publisher'])\n",
    "df['publisher'] = np.where(df['publisher'] == 'Bandai', 'Namco Bandai Games', df['publisher'])\n",
    "df['publisher'] = np.where(df['publisher'] == 'Namco Bandai', 'Namco Bandai Games', df['publisher'])\n",
    "\n",
    "df['publisher'] = np.where(df['publisher'] == 'Microsoft Studios', 'Microsoft Game Studios', df['publisher'])\n",
    "\n",
    "df['publisher'] = np.where(df['publisher'] == 'Warner Bros. Interactive', 'Warner Bros. Interactive Entertainment', df['publisher'])\n",
    "\n",
    "df['publisher'] = np.where(df['publisher'] == '2K Sports', '2K Games', df['publisher'])\n",
    "\n",
    "df['publisher'] = np.where(df['publisher'] == 'Konami', 'Konami Digital Entertainment', df['publisher'])"
   ]
  },
  {
   "cell_type": "code",
   "execution_count": 24,
   "id": "30729074",
   "metadata": {
    "execution": {
     "iopub.execute_input": "2024-05-31T03:25:19.452428Z",
     "iopub.status.busy": "2024-05-31T03:25:19.451477Z",
     "iopub.status.idle": "2024-05-31T03:25:19.475998Z",
     "shell.execute_reply": "2024-05-31T03:25:19.474849Z"
    },
    "papermill": {
     "duration": 0.051921,
     "end_time": "2024-05-31T03:25:19.478548",
     "exception": false,
     "start_time": "2024-05-31T03:25:19.426627",
     "status": "completed"
    },
    "tags": []
   },
   "outputs": [
    {
     "data": {
      "text/plain": [
       "publisher\n",
       "Electronic Arts                           1157.30\n",
       "Activision                                 722.77\n",
       "Ubisoft                                    462.57\n",
       "THQ                                        320.89\n",
       "Sony Computer Entertainment                311.08\n",
       "Konami Digital Entertainment               241.30\n",
       "Rockstar Games                             239.67\n",
       "Namco Bandai Games                         231.66\n",
       "Sega                                       206.38\n",
       "Warner Bros. Interactive Entertainment     181.58\n",
       "2K Games                                   160.88\n",
       "Nintendo                                   140.80\n",
       "Capcom                                     131.24\n",
       "LucasArts                                  118.48\n",
       "Microsoft Game Studios                     113.94\n",
       "Bethesda Softworks                         111.08\n",
       "Disney Interactive Studios                 103.30\n",
       "Atari                                      101.63\n",
       "Square Enix                                 95.74\n",
       "Midway Games                                87.57\n",
       "Eidos Interactive                           85.53\n",
       "Acclaim Entertainment                       60.30\n",
       "Majesco                                     58.42\n",
       "Codemasters                                 41.48\n",
       "Atlus                                       32.78\n",
       "D3 Publisher                                28.86\n",
       "Crave Entertainment                         26.32\n",
       "VU Games                                    26.22\n",
       "MTV Games                                   25.02\n",
       "RedOctane                                   24.87\n",
       "Name: total_sales, dtype: float64"
      ]
     },
     "execution_count": 24,
     "metadata": {},
     "output_type": "execute_result"
    }
   ],
   "source": [
    "df.groupby('publisher')['total_sales'].sum().sort_values(ascending=False).head(30)"
   ]
  },
  {
   "cell_type": "markdown",
   "id": "ea6af6b9",
   "metadata": {
    "papermill": {
     "duration": 0.024282,
     "end_time": "2024-05-31T03:25:19.526692",
     "exception": false,
     "start_time": "2024-05-31T03:25:19.502410",
     "status": "completed"
    },
    "tags": []
   },
   "source": [
    "## Platform Power"
   ]
  },
  {
   "cell_type": "code",
   "execution_count": 25,
   "id": "0fe31246",
   "metadata": {
    "execution": {
     "iopub.execute_input": "2024-05-31T03:25:19.576381Z",
     "iopub.status.busy": "2024-05-31T03:25:19.575991Z",
     "iopub.status.idle": "2024-05-31T03:25:19.588154Z",
     "shell.execute_reply": "2024-05-31T03:25:19.587282Z"
    },
    "papermill": {
     "duration": 0.039579,
     "end_time": "2024-05-31T03:25:19.590567",
     "exception": false,
     "start_time": "2024-05-31T03:25:19.550988",
     "status": "completed"
    },
    "tags": []
   },
   "outputs": [
    {
     "data": {
      "text/plain": [
       "array(['PS3', 'PS4', 'PS2', 'X360', 'XOne', 'PC', 'PSP', 'Wii', 'PS',\n",
       "       'DS', '2600', 'GBA', 'NES', 'XB', 'PSN', 'GEN', 'PSV', 'DC', 'N64',\n",
       "       'SAT', 'SNES', 'GBC', 'GC', 'NS', '3DS', 'GB', 'WiiU', 'WS', 'VC',\n",
       "       'NG', 'WW', 'SCD', 'PCE', 'XBL', '3DO', 'GG', 'OSX', 'Mob', 'PCFX',\n",
       "       'Series', 'All', 'iOS', '5200', 'And', 'DSiW', 'Lynx', 'Linux',\n",
       "       'MS', 'ZXS', 'ACPC', 'Amig', '7800', 'DSi', 'AJ', 'WinP', 'iQue',\n",
       "       'GIZ', 'VB', 'Ouya', 'NGage', 'AST', 'MSD', 'S32X', 'XS', 'PS5',\n",
       "       'Int', 'CV', 'Arc', 'C64', 'FDS', 'MSX', 'OR', 'C128', 'CDi',\n",
       "       'CD32', 'BRW', 'FMT', 'ApII', 'Aco', 'BBCM', 'TG16'], dtype=object)"
      ]
     },
     "execution_count": 25,
     "metadata": {},
     "output_type": "execute_result"
    }
   ],
   "source": [
    "df['console'].unique()"
   ]
  },
  {
   "cell_type": "code",
   "execution_count": 26,
   "id": "6ac632a0",
   "metadata": {
    "execution": {
     "iopub.execute_input": "2024-05-31T03:25:19.642262Z",
     "iopub.status.busy": "2024-05-31T03:25:19.641542Z",
     "iopub.status.idle": "2024-05-31T03:25:19.669808Z",
     "shell.execute_reply": "2024-05-31T03:25:19.668816Z"
    },
    "papermill": {
     "duration": 0.056578,
     "end_time": "2024-05-31T03:25:19.672320",
     "exception": false,
     "start_time": "2024-05-31T03:25:19.615742",
     "status": "completed"
    },
    "tags": []
   },
   "outputs": [],
   "source": [
    "df['console_comapny'] = np.nan\n",
    "\n",
    "    \n",
    "df['console_comapny'] = df['console'].map({'PS3': 'Sony', 'PS4': 'Sony', 'PS2': 'Sony', 'PS5': 'Sony', \n",
    "                                           'PSP': 'Sony', 'PS': 'Sony', 'PSN': 'Sony', 'PSV': 'Sony', \n",
    "                                           \n",
    "                                           'X360': 'Microsoft', 'XOne': 'Microsoft', 'XS': 'Microsoft', \n",
    "                                           'XB': 'Microsoft', 'XBL': 'Microsoft',\n",
    "                                          \n",
    "                                           'PC': 'PC', \n",
    "                                           \n",
    "                                           'Wii': 'Nintendo', 'DS': 'Nintendo', 'GBA': 'Nintendo', 'N64': 'Nintendo',\n",
    "                                           'GBC': 'Nintendo', 'GC': 'Nintendo', '3DS': 'Nintendo', 'GB': 'Nintendo', \n",
    "                                           'WiiU': 'Nintendo', 'SNES': 'Nintendo', 'NES': 'Nintendo', 'NS': 'Nintendo', \n",
    "                                           \n",
    "                                           'DC': 'Sega', 'SAT': 'Sega', 'GG': 'Sega', 'MSD': 'Sega', 'MS': 'Sega', \n",
    "                                           'GEN': 'Sega', 'SCD': 'Sega', \n",
    "                                           \n",
    "                                           '2600': 'atari', '7800': 'atari',\n",
    "                                           \n",
    "                                           'iOS': 'Apple', 'ApII': 'Apple',\n",
    "                                           \n",
    "                                           'And': 'Google',\n",
    "                                          })\n",
    "\n",
    "df['console_comapny'] = df['console_comapny'].fillna('ETC')"
   ]
  },
  {
   "cell_type": "markdown",
   "id": "a2a16a29",
   "metadata": {
    "papermill": {
     "duration": 0.023745,
     "end_time": "2024-05-31T03:25:19.720165",
     "exception": false,
     "start_time": "2024-05-31T03:25:19.696420",
     "status": "completed"
    },
    "tags": []
   },
   "source": [
    "#### Sales"
   ]
  },
  {
   "cell_type": "code",
   "execution_count": 27,
   "id": "d3ef6c3b",
   "metadata": {
    "execution": {
     "iopub.execute_input": "2024-05-31T03:25:19.770273Z",
     "iopub.status.busy": "2024-05-31T03:25:19.769523Z",
     "iopub.status.idle": "2024-05-31T03:25:20.098720Z",
     "shell.execute_reply": "2024-05-31T03:25:20.097901Z"
    },
    "papermill": {
     "duration": 0.3567,
     "end_time": "2024-05-31T03:25:20.100841",
     "exception": false,
     "start_time": "2024-05-31T03:25:19.744141",
     "status": "completed"
    },
    "tags": []
   },
   "outputs": [
    {
     "data": {
      "text/plain": [
       "<matplotlib.legend.Legend at 0x7ad20ac0c220>"
      ]
     },
     "execution_count": 27,
     "metadata": {},
     "output_type": "execute_result"
    },
    {
     "data": {
      "image/png": "[encoded data removed]",
      "text/plain": [
       "<Figure size 640x480 with 1 Axes>"
      ]
     },
     "metadata": {},
     "output_type": "display_data"
    }
   ],
   "source": [
    "autopct = lambda v: f'{v:.1f}%' if v > 1 else None\n",
    "\n",
    "df.groupby('console_comapny')['total_sales'].sum().sort_values(ascending=False).plot(kind = 'pie', autopct=autopct, \n",
    "                                                                                     labeldistance=None, pctdistance=1.2)\n",
    "plt.legend(bbox_to_anchor=(1.1, 1.05))"
   ]
  },
  {
   "cell_type": "markdown",
   "id": "a691c2e0",
   "metadata": {
    "papermill": {
     "duration": 0.024767,
     "end_time": "2024-05-31T03:25:20.150339",
     "exception": false,
     "start_time": "2024-05-31T03:25:20.125572",
     "status": "completed"
    },
    "tags": []
   },
   "source": [
    "#### Title Numbers"
   ]
  },
  {
   "cell_type": "code",
   "execution_count": 28,
   "id": "30d0fb64",
   "metadata": {
    "execution": {
     "iopub.execute_input": "2024-05-31T03:25:20.202434Z",
     "iopub.status.busy": "2024-05-31T03:25:20.201679Z",
     "iopub.status.idle": "2024-05-31T03:25:20.552825Z",
     "shell.execute_reply": "2024-05-31T03:25:20.551997Z"
    },
    "papermill": {
     "duration": 0.380235,
     "end_time": "2024-05-31T03:25:20.555291",
     "exception": false,
     "start_time": "2024-05-31T03:25:20.175056",
     "status": "completed"
    },
    "tags": []
   },
   "outputs": [
    {
     "data": {
      "text/plain": [
       "<matplotlib.legend.Legend at 0x7ad20ab632e0>"
      ]
     },
     "execution_count": 28,
     "metadata": {},
     "output_type": "execute_result"
    },
    {
     "data": {
      "image/png": "[encoded data removed]",
      "text/plain": [
       "<Figure size 640x480 with 1 Axes>"
      ]
     },
     "metadata": {},
     "output_type": "display_data"
    }
   ],
   "source": [
    "autopct = lambda v: f'{v:.1f}%' if v > 1 else None\n",
    "\n",
    "df.groupby('console_comapny')['title'].count().sort_values(ascending=False).plot(kind = 'pie', autopct=autopct, \n",
    "                                                                                     labeldistance=None, pctdistance=1.2)\n",
    "plt.legend(bbox_to_anchor=(1.1, 1.05))"
   ]
  },
  {
   "cell_type": "markdown",
   "id": "d16df930",
   "metadata": {
    "papermill": {
     "duration": 0.025662,
     "end_time": "2024-05-31T03:25:20.606479",
     "exception": false,
     "start_time": "2024-05-31T03:25:20.580817",
     "status": "completed"
    },
    "tags": []
   },
   "source": [
    "#### Sony Playstation"
   ]
  },
  {
   "cell_type": "code",
   "execution_count": 29,
   "id": "d71247b3",
   "metadata": {
    "execution": {
     "iopub.execute_input": "2024-05-31T03:25:20.660641Z",
     "iopub.status.busy": "2024-05-31T03:25:20.660004Z",
     "iopub.status.idle": "2024-05-31T03:25:21.003751Z",
     "shell.execute_reply": "2024-05-31T03:25:21.002422Z"
    },
    "papermill": {
     "duration": 0.37327,
     "end_time": "2024-05-31T03:25:21.006288",
     "exception": false,
     "start_time": "2024-05-31T03:25:20.633018",
     "status": "completed"
    },
    "tags": []
   },
   "outputs": [
    {
     "data": {
      "text/plain": [
       "<Axes: xlabel='console', ylabel='total_sales'>"
      ]
     },
     "execution_count": 29,
     "metadata": {},
     "output_type": "execute_result"
    },
    {
     "data": {
      "image/png": "[encoded data removed]",
      "text/plain": [
       "<Figure size 1600x600 with 1 Axes>"
      ]
     },
     "metadata": {},
     "output_type": "display_data"
    }
   ],
   "source": [
    "import seaborn as sns\n",
    "\n",
    "fig, ax = plt.subplots( figsize = ( 16, 6 ) )\n",
    "plt.xticks(rotation=45)\n",
    "sns.barplot(data=df[df['console_comapny'] == 'Sony'], \n",
    "            x='console', y='total_sales', errorbar=None, estimator = 'sum',\n",
    "            order = ['PS', 'PS2', 'PS3', 'PS4', 'PS5', 'PSP', 'PSV', 'PSN'])"
   ]
  },
  {
   "cell_type": "markdown",
   "id": "b1281c32",
   "metadata": {
    "papermill": {
     "duration": 0.02607,
     "end_time": "2024-05-31T03:25:21.060265",
     "exception": false,
     "start_time": "2024-05-31T03:25:21.034195",
     "status": "completed"
    },
    "tags": []
   },
   "source": [
    "There is a missing values in PS5 Earning"
   ]
  },
  {
   "cell_type": "code",
   "execution_count": 30,
   "id": "cfefd768",
   "metadata": {
    "execution": {
     "iopub.execute_input": "2024-05-31T03:25:21.115425Z",
     "iopub.status.busy": "2024-05-31T03:25:21.114475Z",
     "iopub.status.idle": "2024-05-31T03:25:21.150085Z",
     "shell.execute_reply": "2024-05-31T03:25:21.149194Z"
    },
    "papermill": {
     "duration": 0.065502,
     "end_time": "2024-05-31T03:25:21.152232",
     "exception": false,
     "start_time": "2024-05-31T03:25:21.086730",
     "status": "completed"
    },
    "tags": []
   },
   "outputs": [
    {
     "data": {
      "text/html": [
       "<div>\n",
       "<style scoped>\n",
       "    .dataframe tbody tr th:only-of-type {\n",
       "        vertical-align: middle;\n",
       "    }\n",
       "\n",
       "    .dataframe tbody tr th {\n",
       "        vertical-align: top;\n",
       "    }\n",
       "\n",
       "    .dataframe thead th {\n",
       "        text-align: right;\n",
       "    }\n",
       "</style>\n",
       "<table border=\"1\" class=\"dataframe\">\n",
       "  <thead>\n",
       "    <tr style=\"text-align: right;\">\n",
       "      <th></th>\n",
       "      <th>title</th>\n",
       "      <th>console</th>\n",
       "      <th>genre</th>\n",
       "      <th>publisher</th>\n",
       "      <th>developer</th>\n",
       "      <th>critic_score</th>\n",
       "      <th>total_sales</th>\n",
       "      <th>na_sales</th>\n",
       "      <th>jp_sales</th>\n",
       "      <th>pal_sales</th>\n",
       "      <th>other_sales</th>\n",
       "      <th>release_date</th>\n",
       "      <th>last_update</th>\n",
       "      <th>franchise</th>\n",
       "      <th>console_comapny</th>\n",
       "    </tr>\n",
       "  </thead>\n",
       "  <tbody>\n",
       "    <tr>\n",
       "      <th>23352</th>\n",
       "      <td>Dawn of the Monsters</td>\n",
       "      <td>PS5</td>\n",
       "      <td>Action</td>\n",
       "      <td>Unknown</td>\n",
       "      <td>13AM Games</td>\n",
       "      <td>NaN</td>\n",
       "      <td>0.0</td>\n",
       "      <td>0.0</td>\n",
       "      <td>0.0</td>\n",
       "      <td>0.0</td>\n",
       "      <td>0.0</td>\n",
       "      <td>2022-03-10</td>\n",
       "      <td>2022-03-10</td>\n",
       "      <td>Dawn of the Monsters</td>\n",
       "      <td>Sony</td>\n",
       "    </tr>\n",
       "    <tr>\n",
       "      <th>23506</th>\n",
       "      <td>Armored Core VI Fires of Rubicon</td>\n",
       "      <td>PS5</td>\n",
       "      <td>Action</td>\n",
       "      <td>Bandai Namco Entertainment</td>\n",
       "      <td>From Software</td>\n",
       "      <td>NaN</td>\n",
       "      <td>0.0</td>\n",
       "      <td>0.0</td>\n",
       "      <td>0.0</td>\n",
       "      <td>0.0</td>\n",
       "      <td>0.0</td>\n",
       "      <td>2023-08-25</td>\n",
       "      <td>2022-12-09</td>\n",
       "      <td>Armored Core VI Fires of Rubicon</td>\n",
       "      <td>Sony</td>\n",
       "    </tr>\n",
       "    <tr>\n",
       "      <th>23552</th>\n",
       "      <td>Blackwind</td>\n",
       "      <td>PS5</td>\n",
       "      <td>Action</td>\n",
       "      <td>Unknown</td>\n",
       "      <td>Drakkar Dev</td>\n",
       "      <td>NaN</td>\n",
       "      <td>0.0</td>\n",
       "      <td>0.0</td>\n",
       "      <td>0.0</td>\n",
       "      <td>0.0</td>\n",
       "      <td>0.0</td>\n",
       "      <td>2022-01-19</td>\n",
       "      <td>2022-01-19</td>\n",
       "      <td>Blackwind</td>\n",
       "      <td>Sony</td>\n",
       "    </tr>\n",
       "    <tr>\n",
       "      <th>23576</th>\n",
       "      <td>BloodRayne Betrayal: Fresh Bites</td>\n",
       "      <td>PS5</td>\n",
       "      <td>Action</td>\n",
       "      <td>Unknown</td>\n",
       "      <td>WayForward</td>\n",
       "      <td>NaN</td>\n",
       "      <td>0.0</td>\n",
       "      <td>0.0</td>\n",
       "      <td>0.0</td>\n",
       "      <td>0.0</td>\n",
       "      <td>0.0</td>\n",
       "      <td>2021-06-14</td>\n",
       "      <td>2021-06-14</td>\n",
       "      <td>BloodRayne Betrayal: Fresh Bites</td>\n",
       "      <td>Sony</td>\n",
       "    </tr>\n",
       "    <tr>\n",
       "      <th>23613</th>\n",
       "      <td>Cannon Dancer – Osman</td>\n",
       "      <td>PS5</td>\n",
       "      <td>Action</td>\n",
       "      <td>Unknown</td>\n",
       "      <td>Mitchell Corporation</td>\n",
       "      <td>NaN</td>\n",
       "      <td>0.0</td>\n",
       "      <td>0.0</td>\n",
       "      <td>0.0</td>\n",
       "      <td>0.0</td>\n",
       "      <td>0.0</td>\n",
       "      <td>2023-04-12</td>\n",
       "      <td>2023-04-12</td>\n",
       "      <td>Cannon Dancer – Osman</td>\n",
       "      <td>Sony</td>\n",
       "    </tr>\n",
       "  </tbody>\n",
       "</table>\n",
       "</div>"
      ],
      "text/plain": [
       "                                  title console   genre  \\\n",
       "23352              Dawn of the Monsters     PS5  Action   \n",
       "23506  Armored Core VI Fires of Rubicon     PS5  Action   \n",
       "23552                         Blackwind     PS5  Action   \n",
       "23576  BloodRayne Betrayal: Fresh Bites     PS5  Action   \n",
       "23613             Cannon Dancer – Osman     PS5  Action   \n",
       "\n",
       "                        publisher             developer  critic_score  \\\n",
       "23352                     Unknown            13AM Games           NaN   \n",
       "23506  Bandai Namco Entertainment         From Software           NaN   \n",
       "23552                     Unknown           Drakkar Dev           NaN   \n",
       "23576                     Unknown            WayForward           NaN   \n",
       "23613                     Unknown  Mitchell Corporation           NaN   \n",
       "\n",
       "       total_sales  na_sales  jp_sales  pal_sales  other_sales release_date  \\\n",
       "23352          0.0       0.0       0.0        0.0          0.0   2022-03-10   \n",
       "23506          0.0       0.0       0.0        0.0          0.0   2023-08-25   \n",
       "23552          0.0       0.0       0.0        0.0          0.0   2022-01-19   \n",
       "23576          0.0       0.0       0.0        0.0          0.0   2021-06-14   \n",
       "23613          0.0       0.0       0.0        0.0          0.0   2023-04-12   \n",
       "\n",
       "      last_update                         franchise console_comapny  \n",
       "23352  2022-03-10              Dawn of the Monsters            Sony  \n",
       "23506  2022-12-09  Armored Core VI Fires of Rubicon            Sony  \n",
       "23552  2022-01-19                         Blackwind            Sony  \n",
       "23576  2021-06-14  BloodRayne Betrayal: Fresh Bites            Sony  \n",
       "23613  2023-04-12             Cannon Dancer – Osman            Sony  "
      ]
     },
     "execution_count": 30,
     "metadata": {},
     "output_type": "execute_result"
    }
   ],
   "source": [
    "df[df['console'] == 'PS5'].head()"
   ]
  },
  {
   "cell_type": "code",
   "execution_count": 31,
   "id": "7cbc91c7",
   "metadata": {
    "execution": {
     "iopub.execute_input": "2024-05-31T03:25:21.209197Z",
     "iopub.status.busy": "2024-05-31T03:25:21.208447Z",
     "iopub.status.idle": "2024-05-31T03:25:21.229873Z",
     "shell.execute_reply": "2024-05-31T03:25:21.228643Z"
    },
    "papermill": {
     "duration": 0.052091,
     "end_time": "2024-05-31T03:25:21.232560",
     "exception": false,
     "start_time": "2024-05-31T03:25:21.180469",
     "status": "completed"
    },
    "tags": []
   },
   "outputs": [
    {
     "data": {
      "text/plain": [
       "0.0"
      ]
     },
     "execution_count": 31,
     "metadata": {},
     "output_type": "execute_result"
    }
   ],
   "source": [
    "df[df['console'] == 'PS5']['total_sales'].sum()"
   ]
  },
  {
   "cell_type": "markdown",
   "id": "a4b4f7f9",
   "metadata": {
    "papermill": {
     "duration": 0.026376,
     "end_time": "2024-05-31T03:25:21.286044",
     "exception": false,
     "start_time": "2024-05-31T03:25:21.259668",
     "status": "completed"
    },
    "tags": []
   },
   "source": [
    "#### Microsoft Xbox"
   ]
  },
  {
   "cell_type": "code",
   "execution_count": 32,
   "id": "13c2e106",
   "metadata": {
    "execution": {
     "iopub.execute_input": "2024-05-31T03:25:21.343432Z",
     "iopub.status.busy": "2024-05-31T03:25:21.343010Z",
     "iopub.status.idle": "2024-05-31T03:25:21.643812Z",
     "shell.execute_reply": "2024-05-31T03:25:21.642699Z"
    },
    "papermill": {
     "duration": 0.333441,
     "end_time": "2024-05-31T03:25:21.646702",
     "exception": false,
     "start_time": "2024-05-31T03:25:21.313261",
     "status": "completed"
    },
    "tags": []
   },
   "outputs": [
    {
     "data": {
      "text/plain": [
       "<Axes: xlabel='console', ylabel='total_sales'>"
      ]
     },
     "execution_count": 32,
     "metadata": {},
     "output_type": "execute_result"
    },
    {
     "data": {
      "image/png": "[encoded data removed]",
      "text/plain": [
       "<Figure size 1600x600 with 1 Axes>"
      ]
     },
     "metadata": {},
     "output_type": "display_data"
    }
   ],
   "source": [
    "import seaborn as sns\n",
    "\n",
    "fig, ax = plt.subplots( figsize = ( 16, 6 ) )\n",
    "plt.xticks(rotation=45)\n",
    "sns.barplot(data=df[df['console_comapny'] == 'Microsoft'], \n",
    "            x='console', y='total_sales', errorbar=None, estimator = 'sum',\n",
    "            order = ['XB', 'X360', 'XOne', 'XS', 'XBL'])"
   ]
  },
  {
   "cell_type": "markdown",
   "id": "90fb9721",
   "metadata": {
    "papermill": {
     "duration": 0.027502,
     "end_time": "2024-05-31T03:25:21.702231",
     "exception": false,
     "start_time": "2024-05-31T03:25:21.674729",
     "status": "completed"
    },
    "tags": []
   },
   "source": [
    "There is a missing values in XS Earning"
   ]
  },
  {
   "cell_type": "code",
   "execution_count": 33,
   "id": "9f78b1c7",
   "metadata": {
    "execution": {
     "iopub.execute_input": "2024-05-31T03:25:21.761162Z",
     "iopub.status.busy": "2024-05-31T03:25:21.760683Z",
     "iopub.status.idle": "2024-05-31T03:25:21.797005Z",
     "shell.execute_reply": "2024-05-31T03:25:21.795871Z"
    },
    "papermill": {
     "duration": 0.069042,
     "end_time": "2024-05-31T03:25:21.799577",
     "exception": false,
     "start_time": "2024-05-31T03:25:21.730535",
     "status": "completed"
    },
    "tags": []
   },
   "outputs": [
    {
     "data": {
      "text/html": [
       "<div>\n",
       "<style scoped>\n",
       "    .dataframe tbody tr th:only-of-type {\n",
       "        vertical-align: middle;\n",
       "    }\n",
       "\n",
       "    .dataframe tbody tr th {\n",
       "        vertical-align: top;\n",
       "    }\n",
       "\n",
       "    .dataframe thead th {\n",
       "        text-align: right;\n",
       "    }\n",
       "</style>\n",
       "<table border=\"1\" class=\"dataframe\">\n",
       "  <thead>\n",
       "    <tr style=\"text-align: right;\">\n",
       "      <th></th>\n",
       "      <th>title</th>\n",
       "      <th>console</th>\n",
       "      <th>genre</th>\n",
       "      <th>publisher</th>\n",
       "      <th>developer</th>\n",
       "      <th>critic_score</th>\n",
       "      <th>total_sales</th>\n",
       "      <th>na_sales</th>\n",
       "      <th>jp_sales</th>\n",
       "      <th>pal_sales</th>\n",
       "      <th>other_sales</th>\n",
       "      <th>release_date</th>\n",
       "      <th>last_update</th>\n",
       "      <th>franchise</th>\n",
       "      <th>console_comapny</th>\n",
       "    </tr>\n",
       "  </thead>\n",
       "  <tbody>\n",
       "    <tr>\n",
       "      <th>23350</th>\n",
       "      <td>Dawn of the Monsters</td>\n",
       "      <td>XS</td>\n",
       "      <td>Action</td>\n",
       "      <td>Unknown</td>\n",
       "      <td>13AM Games</td>\n",
       "      <td>NaN</td>\n",
       "      <td>0.0</td>\n",
       "      <td>0.0</td>\n",
       "      <td>0.0</td>\n",
       "      <td>0.0</td>\n",
       "      <td>0.0</td>\n",
       "      <td>2022-03-10</td>\n",
       "      <td>2022-03-10</td>\n",
       "      <td>Dawn of the Monsters</td>\n",
       "      <td>Microsoft</td>\n",
       "    </tr>\n",
       "    <tr>\n",
       "      <th>23504</th>\n",
       "      <td>Armored Core VI Fires of Rubicon</td>\n",
       "      <td>XS</td>\n",
       "      <td>Action</td>\n",
       "      <td>Bandai Namco Entertainment</td>\n",
       "      <td>From Software</td>\n",
       "      <td>NaN</td>\n",
       "      <td>0.0</td>\n",
       "      <td>0.0</td>\n",
       "      <td>0.0</td>\n",
       "      <td>0.0</td>\n",
       "      <td>0.0</td>\n",
       "      <td>2023-08-25</td>\n",
       "      <td>2022-12-09</td>\n",
       "      <td>Armored Core VI Fires of Rubicon</td>\n",
       "      <td>Microsoft</td>\n",
       "    </tr>\n",
       "    <tr>\n",
       "      <th>23521</th>\n",
       "      <td>Azure Striker Gunvolt 3</td>\n",
       "      <td>XS</td>\n",
       "      <td>Action</td>\n",
       "      <td>Unknown</td>\n",
       "      <td>Inti Creates</td>\n",
       "      <td>NaN</td>\n",
       "      <td>0.0</td>\n",
       "      <td>0.0</td>\n",
       "      <td>0.0</td>\n",
       "      <td>0.0</td>\n",
       "      <td>0.0</td>\n",
       "      <td>2022-08-18</td>\n",
       "      <td>2022-08-18</td>\n",
       "      <td>Azure Striker Gunvolt 3</td>\n",
       "      <td>Microsoft</td>\n",
       "    </tr>\n",
       "    <tr>\n",
       "      <th>23550</th>\n",
       "      <td>Blackwind</td>\n",
       "      <td>XS</td>\n",
       "      <td>Action</td>\n",
       "      <td>Unknown</td>\n",
       "      <td>Drakkar Dev</td>\n",
       "      <td>NaN</td>\n",
       "      <td>0.0</td>\n",
       "      <td>0.0</td>\n",
       "      <td>0.0</td>\n",
       "      <td>0.0</td>\n",
       "      <td>0.0</td>\n",
       "      <td>2022-01-19</td>\n",
       "      <td>2022-01-19</td>\n",
       "      <td>Blackwind</td>\n",
       "      <td>Microsoft</td>\n",
       "    </tr>\n",
       "    <tr>\n",
       "      <th>23577</th>\n",
       "      <td>BloodRayne Betrayal: Fresh Bites</td>\n",
       "      <td>XS</td>\n",
       "      <td>Action</td>\n",
       "      <td>Unknown</td>\n",
       "      <td>WayForward</td>\n",
       "      <td>NaN</td>\n",
       "      <td>0.0</td>\n",
       "      <td>0.0</td>\n",
       "      <td>0.0</td>\n",
       "      <td>0.0</td>\n",
       "      <td>0.0</td>\n",
       "      <td>2021-06-14</td>\n",
       "      <td>2021-06-14</td>\n",
       "      <td>BloodRayne Betrayal: Fresh Bites</td>\n",
       "      <td>Microsoft</td>\n",
       "    </tr>\n",
       "  </tbody>\n",
       "</table>\n",
       "</div>"
      ],
      "text/plain": [
       "                                  title console   genre  \\\n",
       "23350              Dawn of the Monsters      XS  Action   \n",
       "23504  Armored Core VI Fires of Rubicon      XS  Action   \n",
       "23521           Azure Striker Gunvolt 3      XS  Action   \n",
       "23550                         Blackwind      XS  Action   \n",
       "23577  BloodRayne Betrayal: Fresh Bites      XS  Action   \n",
       "\n",
       "                        publisher      developer  critic_score  total_sales  \\\n",
       "23350                     Unknown     13AM Games           NaN          0.0   \n",
       "23504  Bandai Namco Entertainment  From Software           NaN          0.0   \n",
       "23521                     Unknown   Inti Creates           NaN          0.0   \n",
       "23550                     Unknown    Drakkar Dev           NaN          0.0   \n",
       "23577                     Unknown     WayForward           NaN          0.0   \n",
       "\n",
       "       na_sales  jp_sales  pal_sales  other_sales release_date last_update  \\\n",
       "23350       0.0       0.0        0.0          0.0   2022-03-10  2022-03-10   \n",
       "23504       0.0       0.0        0.0          0.0   2023-08-25  2022-12-09   \n",
       "23521       0.0       0.0        0.0          0.0   2022-08-18  2022-08-18   \n",
       "23550       0.0       0.0        0.0          0.0   2022-01-19  2022-01-19   \n",
       "23577       0.0       0.0        0.0          0.0   2021-06-14  2021-06-14   \n",
       "\n",
       "                              franchise console_comapny  \n",
       "23350              Dawn of the Monsters       Microsoft  \n",
       "23504  Armored Core VI Fires of Rubicon       Microsoft  \n",
       "23521           Azure Striker Gunvolt 3       Microsoft  \n",
       "23550                         Blackwind       Microsoft  \n",
       "23577  BloodRayne Betrayal: Fresh Bites       Microsoft  "
      ]
     },
     "execution_count": 33,
     "metadata": {},
     "output_type": "execute_result"
    }
   ],
   "source": [
    "df[df['console'] == 'XS'].head()"
   ]
  },
  {
   "cell_type": "code",
   "execution_count": 34,
   "id": "5ee0ddfe",
   "metadata": {
    "execution": {
     "iopub.execute_input": "2024-05-31T03:25:21.858218Z",
     "iopub.status.busy": "2024-05-31T03:25:21.857545Z",
     "iopub.status.idle": "2024-05-31T03:25:21.878901Z",
     "shell.execute_reply": "2024-05-31T03:25:21.877799Z"
    },
    "papermill": {
     "duration": 0.052997,
     "end_time": "2024-05-31T03:25:21.881111",
     "exception": false,
     "start_time": "2024-05-31T03:25:21.828114",
     "status": "completed"
    },
    "tags": []
   },
   "outputs": [
    {
     "data": {
      "text/plain": [
       "0.0"
      ]
     },
     "execution_count": 34,
     "metadata": {},
     "output_type": "execute_result"
    }
   ],
   "source": [
    "df[df['console'] == 'XS']['total_sales'].sum()"
   ]
  },
  {
   "cell_type": "code",
   "execution_count": 35,
   "id": "8884ba18",
   "metadata": {
    "execution": {
     "iopub.execute_input": "2024-05-31T03:25:21.940312Z",
     "iopub.status.busy": "2024-05-31T03:25:21.939869Z",
     "iopub.status.idle": "2024-05-31T03:25:21.961657Z",
     "shell.execute_reply": "2024-05-31T03:25:21.960591Z"
    },
    "papermill": {
     "duration": 0.054127,
     "end_time": "2024-05-31T03:25:21.964050",
     "exception": false,
     "start_time": "2024-05-31T03:25:21.909923",
     "status": "completed"
    },
    "tags": []
   },
   "outputs": [
    {
     "data": {
      "text/plain": [
       "0.2"
      ]
     },
     "execution_count": 35,
     "metadata": {},
     "output_type": "execute_result"
    }
   ],
   "source": [
    "df[df['console'] == 'XBL']['total_sales'].sum()"
   ]
  },
  {
   "cell_type": "markdown",
   "id": "feba4a7e",
   "metadata": {
    "papermill": {
     "duration": 0.027912,
     "end_time": "2024-05-31T03:25:22.020270",
     "exception": false,
     "start_time": "2024-05-31T03:25:21.992358",
     "status": "completed"
    },
    "tags": []
   },
   "source": [
    "## Market Share"
   ]
  },
  {
   "cell_type": "markdown",
   "id": "dc12b009",
   "metadata": {
    "papermill": {
     "duration": 0.028132,
     "end_time": "2024-05-31T03:25:22.077817",
     "exception": false,
     "start_time": "2024-05-31T03:25:22.049685",
     "status": "completed"
    },
    "tags": []
   },
   "source": [
    "#### Region"
   ]
  },
  {
   "cell_type": "code",
   "execution_count": 36,
   "id": "75ee8d89",
   "metadata": {
    "execution": {
     "iopub.execute_input": "2024-05-31T03:25:22.135873Z",
     "iopub.status.busy": "2024-05-31T03:25:22.135483Z",
     "iopub.status.idle": "2024-05-31T03:25:22.369587Z",
     "shell.execute_reply": "2024-05-31T03:25:22.368086Z"
    },
    "papermill": {
     "duration": 0.267655,
     "end_time": "2024-05-31T03:25:22.373615",
     "exception": false,
     "start_time": "2024-05-31T03:25:22.105960",
     "status": "completed"
    },
    "tags": []
   },
   "outputs": [
    {
     "data": {
      "text/plain": [
       "<matplotlib.legend.Legend at 0x7ad2099f27d0>"
      ]
     },
     "execution_count": 36,
     "metadata": {},
     "output_type": "execute_result"
    },
    {
     "data": {
      "image/png": "[encoded data removed]",
      "text/plain": [
       "<Figure size 640x480 with 1 Axes>"
      ]
     },
     "metadata": {},
     "output_type": "display_data"
    }
   ],
   "source": [
    "df[['na_sales', 'jp_sales', 'pal_sales', 'other_sales']].sum().plot(kind = 'pie', autopct='%1.1f%%', \n",
    "                                                                                     labeldistance=None, pctdistance=1.2)\n",
    "plt.legend(bbox_to_anchor=(1.1, 1.05))"
   ]
  },
  {
   "cell_type": "markdown",
   "id": "fb2ff041",
   "metadata": {
    "papermill": {
     "duration": 0.028421,
     "end_time": "2024-05-31T03:25:22.440432",
     "exception": false,
     "start_time": "2024-05-31T03:25:22.412011",
     "status": "completed"
    },
    "tags": []
   },
   "source": [
    "#### Genre"
   ]
  },
  {
   "cell_type": "code",
   "execution_count": 37,
   "id": "3d11613f",
   "metadata": {
    "execution": {
     "iopub.execute_input": "2024-05-31T03:25:22.500086Z",
     "iopub.status.busy": "2024-05-31T03:25:22.499329Z",
     "iopub.status.idle": "2024-05-31T03:25:23.063032Z",
     "shell.execute_reply": "2024-05-31T03:25:23.062099Z"
    },
    "papermill": {
     "duration": 0.596336,
     "end_time": "2024-05-31T03:25:23.065493",
     "exception": false,
     "start_time": "2024-05-31T03:25:22.469157",
     "status": "completed"
    },
    "tags": []
   },
   "outputs": [
    {
     "data": {
      "text/plain": [
       "<matplotlib.legend.Legend at 0x7ad20d14c700>"
      ]
     },
     "execution_count": 37,
     "metadata": {},
     "output_type": "execute_result"
    },
    {
     "data": {
      "image/png": "[encoded data removed]",
      "text/plain": [
       "<Figure size 640x480 with 1 Axes>"
      ]
     },
     "metadata": {},
     "output_type": "display_data"
    }
   ],
   "source": [
    "autopct = lambda v: f'{v:.1f}%' if v > 1 else None\n",
    "\n",
    "df.groupby('genre')['total_sales'].sum().sort_values(ascending=False).plot(kind = 'pie', autopct=autopct, \n",
    "                                                                                     labeldistance=None, pctdistance=1.2)\n",
    "plt.legend(bbox_to_anchor=(1.1, 1.05))"
   ]
  },
  {
   "cell_type": "markdown",
   "id": "f2f36ec4",
   "metadata": {
    "papermill": {
     "duration": 0.030033,
     "end_time": "2024-05-31T03:25:23.126140",
     "exception": false,
     "start_time": "2024-05-31T03:25:23.096107",
     "status": "completed"
    },
    "tags": []
   },
   "source": [
    "#### Region and genre"
   ]
  },
  {
   "cell_type": "code",
   "execution_count": 38,
   "id": "d3f2ba1b",
   "metadata": {
    "execution": {
     "iopub.execute_input": "2024-05-31T03:25:23.188243Z",
     "iopub.status.busy": "2024-05-31T03:25:23.187303Z",
     "iopub.status.idle": "2024-05-31T03:25:24.385146Z",
     "shell.execute_reply": "2024-05-31T03:25:24.384098Z"
    },
    "papermill": {
     "duration": 1.231598,
     "end_time": "2024-05-31T03:25:24.387713",
     "exception": false,
     "start_time": "2024-05-31T03:25:23.156115",
     "status": "completed"
    },
    "tags": []
   },
   "outputs": [
    {
     "data": {
      "text/plain": [
       "<Axes: xlabel='genre', ylabel='sales'>"
      ]
     },
     "execution_count": 38,
     "metadata": {},
     "output_type": "execute_result"
    },
    {
     "data": {
      "image/png": "[encoded data removed]",
      "text/plain": [
       "<Figure size 1600x600 with 1 Axes>"
      ]
     },
     "metadata": {},
     "output_type": "display_data"
    }
   ],
   "source": [
    "import seaborn as sns\n",
    "\n",
    "fig, ax = plt.subplots( figsize = ( 16, 6 ) )\n",
    "plt.xticks(rotation=45)\n",
    "sns.barplot(data=df.melt(id_vars = 'genre', value_vars = ['na_sales', 'jp_sales', 'pal_sales', 'other_sales'], value_name = 'sales'), \n",
    "            x='genre', y='sales', hue = 'variable', errorbar=None, estimator = 'sum',\n",
    "            order = df.groupby('genre')['total_sales'].sum().sort_values(ascending=False).index)"
   ]
  },
  {
   "cell_type": "markdown",
   "id": "7472f46d",
   "metadata": {
    "papermill": {
     "duration": 0.031675,
     "end_time": "2024-05-31T03:25:24.451482",
     "exception": false,
     "start_time": "2024-05-31T03:25:24.419807",
     "status": "completed"
    },
    "tags": []
   },
   "source": [
    "#### JP Market\n",
    "RPG is very Popular."
   ]
  },
  {
   "cell_type": "code",
   "execution_count": 39,
   "id": "ab5a3502",
   "metadata": {
    "execution": {
     "iopub.execute_input": "2024-05-31T03:25:24.517080Z",
     "iopub.status.busy": "2024-05-31T03:25:24.516322Z",
     "iopub.status.idle": "2024-05-31T03:25:25.007795Z",
     "shell.execute_reply": "2024-05-31T03:25:25.006671Z"
    },
    "papermill": {
     "duration": 0.527204,
     "end_time": "2024-05-31T03:25:25.010287",
     "exception": false,
     "start_time": "2024-05-31T03:25:24.483083",
     "status": "completed"
    },
    "tags": []
   },
   "outputs": [
    {
     "data": {
      "text/plain": [
       "<Axes: xlabel='genre', ylabel='jp_sales'>"
      ]
     },
     "execution_count": 39,
     "metadata": {},
     "output_type": "execute_result"
    },
    {
     "data": {
      "image/png": "[encoded data removed]",
      "text/plain": [
       "<Figure size 1600x600 with 1 Axes>"
      ]
     },
     "metadata": {},
     "output_type": "display_data"
    }
   ],
   "source": [
    "import seaborn as sns\n",
    "\n",
    "fig, ax = plt.subplots( figsize = ( 16, 6 ) )\n",
    "plt.xticks(rotation=45)\n",
    "sns.barplot(data=df, \n",
    "            x='genre', y='jp_sales', errorbar=None, estimator = 'sum',\n",
    "            order = df.groupby('genre')['jp_sales'].sum().sort_values(ascending=False).index)"
   ]
  }
 ],
 "metadata": {
  "kaggle": {
   "accelerator": "none",
   "dataSources": [
    {
     "datasetId": 4371999,
     "sourceId": 7507070,
     "sourceType": "datasetVersion"
    }
   ],
   "dockerImageVersionId": 30698,
   "isGpuEnabled": false,
   "isInternetEnabled": true,
   "language": "python",
   "sourceType": "notebook"
  },
  "kernelspec": {
   "display_name": "Python 3",
   "language": "python",
   "name": "python3"
  },
  "language_info": {
   "codemirror_mode": {
    "name": "ipython",
    "version": 3
   },
   "file_extension": ".py",
   "mimetype": "text/x-python",
   "name": "python",
   "nbconvert_exporter": "python",
   "pygments_lexer": "ipython3",
   "version": "3.10.13"
  },
  "papermill": {
   "default_parameters": {},
   "duration": 17.225423,
   "end_time": "2024-05-31T03:25:25.664730",
   "environment_variables": {},
   "exception": null,
   "input_path": "__notebook__.ipynb",
   "output_path": "__notebook__.ipynb",
   "parameters": {},
   "start_time": "2024-05-31T03:25:08.439307",
   "version": "2.5.0"
  }
 },
 "nbformat": 4,
 "nbformat_minor": 5
}
