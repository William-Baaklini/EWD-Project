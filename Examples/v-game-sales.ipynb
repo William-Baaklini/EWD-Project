{
 "cells": [
  {
   "cell_type": "code",
   "execution_count": 1,
   "id": "3f12b6fb",
   "metadata": {
    "_cell_guid": "b1076dfc-b9ad-4769-8c92-a6c4dae69d19",
    "_uuid": "8f2839f25d086af736a60e9eeb907d3b93b6e0e5",
    "execution": {
     "iopub.execute_input": "2024-02-19T17:03:20.325066Z",
     "iopub.status.busy": "2024-02-19T17:03:20.323931Z",
     "iopub.status.idle": "2024-02-19T17:03:21.443545Z",
     "shell.execute_reply": "2024-02-19T17:03:21.441927Z"
    },
    "papermill": {
     "duration": 1.136801,
     "end_time": "2024-02-19T17:03:21.446509",
     "exception": false,
     "start_time": "2024-02-19T17:03:20.309708",
     "status": "completed"
    },
    "tags": []
   },
   "outputs": [],
   "source": [
    "import pandas as pd\n",
    "import matplotlib as plt\n",
    "import matplotlib.pyplot as plt\n",
    "import numpy as np\n",
    "from sqlite3 import connect"
   ]
  },
  {
   "cell_type": "markdown",
   "id": "7413f838",
   "metadata": {
    "papermill": {
     "duration": 0.012112,
     "end_time": "2024-02-19T17:03:21.470921",
     "exception": false,
     "start_time": "2024-02-19T17:03:21.458809",
     "status": "completed"
    },
    "tags": []
   },
   "source": [
    "The data covers video games sales from 1971 to current. Some of the data is missing or not available so we are taking the final numbers with a grain of salt. \n",
    "<br>\n",
    "This is a basic notebook. Please provide feedback if inclined. \n",
    "<br>\n",
    "data source: https://www.kaggle.com/datasets/asaniczka/video-game-sales-2024\n",
    "<br>\n",
    "contact me here: https://github.com/dmorton714/v_game.git\n",
    "<br> \n",
    "or here: danny.morton714@gmail.com\n",
    "\n",
    "| Functions | Description | How its used |\n",
    "| -- | -- | -- |\n",
    "| check_missing_items | identify missing items in a DataFrame column compared to a list | Runs automatically |\n",
    "| assign_console_mfg | assigns categories to rows based on predefined console categories| Runs automatically  |\n",
    "| check_missing_items <br> assign_console_mfg | Used together to checks for missing items, prints a message if any, <br> assigns 'console_mfg' values, and displays the DataFrame with the new column| Runs automatically |\n",
    "| filter_and_group_by_year | generates DataFrames for years 1971 - 2023 | sales_xxxx  |\n",
    "| single_graph | This plots a single console and looks at its game sales for a picked time line | single_graph((1990, 2024), 'N64') |\n",
    "| stacked_graph  | This plots a several consoles and looks at its game sales for a picked time line  | stacked_graph((1980, 2024), 'PS3', 'PS4', 'PS2') |\n",
    "| graph  |  This plots a several consoles and looks at its game sales for a picked time line | graph((1980, 2024), 'PS3', 'PS4', 'PS2') |"
   ]
  },
  {
   "cell_type": "markdown",
   "id": "626a3831",
   "metadata": {
    "papermill": {
     "duration": 0.011615,
     "end_time": "2024-02-19T17:03:21.494806",
     "exception": false,
     "start_time": "2024-02-19T17:03:21.483191",
     "status": "completed"
    },
    "tags": []
   },
   "source": [
    "# Reading in the data and verifying its working"
   ]
  },
  {
   "cell_type": "code",
   "execution_count": 2,
   "id": "5687190c",
   "metadata": {
    "execution": {
     "iopub.execute_input": "2024-02-19T17:03:21.521348Z",
     "iopub.status.busy": "2024-02-19T17:03:21.520735Z",
     "iopub.status.idle": "2024-02-19T17:03:21.988164Z",
     "shell.execute_reply": "2024-02-19T17:03:21.987018Z"
    },
    "papermill": {
     "duration": 0.484084,
     "end_time": "2024-02-19T17:03:21.990894",
     "exception": false,
     "start_time": "2024-02-19T17:03:21.506810",
     "status": "completed"
    },
    "tags": []
   },
   "outputs": [
    {
     "data": {
      "text/html": [
       "<div>\n",
       "<style scoped>\n",
       "    .dataframe tbody tr th:only-of-type {\n",
       "        vertical-align: middle;\n",
       "    }\n",
       "\n",
       "    .dataframe tbody tr th {\n",
       "        vertical-align: top;\n",
       "    }\n",
       "\n",
       "    .dataframe thead th {\n",
       "        text-align: right;\n",
       "    }\n",
       "</style>\n",
       "<table border=\"1\" class=\"dataframe\">\n",
       "  <thead>\n",
       "    <tr style=\"text-align: right;\">\n",
       "      <th></th>\n",
       "      <th>img</th>\n",
       "      <th>title</th>\n",
       "      <th>console</th>\n",
       "      <th>genre</th>\n",
       "      <th>publisher</th>\n",
       "      <th>developer</th>\n",
       "      <th>critic_score</th>\n",
       "      <th>total_sales</th>\n",
       "      <th>na_sales</th>\n",
       "      <th>jp_sales</th>\n",
       "      <th>pal_sales</th>\n",
       "      <th>other_sales</th>\n",
       "      <th>release_date</th>\n",
       "      <th>last_update</th>\n",
       "    </tr>\n",
       "  </thead>\n",
       "  <tbody>\n",
       "    <tr>\n",
       "      <th>0</th>\n",
       "      <td>/games/boxart/full_6510540AmericaFrontccc.jpg</td>\n",
       "      <td>Grand Theft Auto V</td>\n",
       "      <td>PS3</td>\n",
       "      <td>Action</td>\n",
       "      <td>Rockstar Games</td>\n",
       "      <td>Rockstar North</td>\n",
       "      <td>9.4</td>\n",
       "      <td>20.32</td>\n",
       "      <td>6.37</td>\n",
       "      <td>0.99</td>\n",
       "      <td>9.85</td>\n",
       "      <td>3.12</td>\n",
       "      <td>2013-09-17</td>\n",
       "      <td>NaN</td>\n",
       "    </tr>\n",
       "  </tbody>\n",
       "</table>\n",
       "</div>"
      ],
      "text/plain": [
       "                                             img               title console  \\\n",
       "0  /games/boxart/full_6510540AmericaFrontccc.jpg  Grand Theft Auto V     PS3   \n",
       "\n",
       "    genre       publisher       developer  critic_score  total_sales  \\\n",
       "0  Action  Rockstar Games  Rockstar North           9.4        20.32   \n",
       "\n",
       "   na_sales  jp_sales  pal_sales  other_sales release_date last_update  \n",
       "0      6.37      0.99       9.85         3.12   2013-09-17         NaN  "
      ]
     },
     "execution_count": 2,
     "metadata": {},
     "output_type": "execute_result"
    }
   ],
   "source": [
    "df = pd.read_csv('/kaggle/input/video-game-sales-2024/vgchartz-2024.csv')\n",
    "df.head(1)"
   ]
  },
  {
   "cell_type": "markdown",
   "id": "38817906",
   "metadata": {
    "papermill": {
     "duration": 0.013037,
     "end_time": "2024-02-19T17:03:22.016593",
     "exception": false,
     "start_time": "2024-02-19T17:03:22.003556",
     "status": "completed"
    },
    "tags": []
   },
   "source": [
    "# cleaning"
   ]
  },
  {
   "cell_type": "markdown",
   "id": "9a3cf1ae",
   "metadata": {
    "papermill": {
     "duration": 0.011965,
     "end_time": "2024-02-19T17:03:22.041600",
     "exception": false,
     "start_time": "2024-02-19T17:03:22.029635",
     "status": "completed"
    },
    "tags": []
   },
   "source": [
    "- Converting release_date col to datetime\n",
    "- Dropping the img and last_update cols\n",
    "- Droppin the rows where the 'release_date' column has missing (NaN) values\n",
    "- Fills cols 'critic_score', 'total_sales', 'na_sales', 'jp_sales', 'pal_sales', 'other_sales' with missing values to 0 "
   ]
  },
  {
   "cell_type": "code",
   "execution_count": 3,
   "id": "61460576",
   "metadata": {
    "execution": {
     "iopub.execute_input": "2024-02-19T17:03:22.069007Z",
     "iopub.status.busy": "2024-02-19T17:03:22.068116Z",
     "iopub.status.idle": "2024-02-19T17:03:22.138223Z",
     "shell.execute_reply": "2024-02-19T17:03:22.136683Z"
    },
    "papermill": {
     "duration": 0.086939,
     "end_time": "2024-02-19T17:03:22.141351",
     "exception": false,
     "start_time": "2024-02-19T17:03:22.054412",
     "status": "completed"
    },
    "tags": []
   },
   "outputs": [],
   "source": [
    "df['release_date'] = pd.to_datetime(df['release_date'])\n",
    "df.drop(['img', 'last_update'], axis=1, inplace=True)\n",
    "df = df.dropna(subset=['release_date'])\n",
    "columns_to_fill_zero = ['critic_score', 'total_sales', 'na_sales', 'jp_sales', 'pal_sales', 'other_sales']\n",
    "df[columns_to_fill_zero] = df[columns_to_fill_zero].fillna(0)"
   ]
  },
  {
   "cell_type": "markdown",
   "id": "79b81981",
   "metadata": {
    "papermill": {
     "duration": 0.011853,
     "end_time": "2024-02-19T17:03:22.167608",
     "exception": false,
     "start_time": "2024-02-19T17:03:22.155755",
     "status": "completed"
    },
    "tags": []
   },
   "source": [
    "# Functions \n",
    "\n",
    "The code defines a function `check_missing_items` to identify missing items in a DataFrame column compared to a list. \n",
    "<br>\n",
    "Another function, `assign_console_mfg`, assigns categories to rows based on predefined console categories. \n",
    "<br>\n",
    "The code then checks for missing items, prints a message if any, assigns 'console_mfg' values, and displays the DataFrame with the new column."
   ]
  },
  {
   "cell_type": "code",
   "execution_count": 4,
   "id": "49107cc8",
   "metadata": {
    "execution": {
     "iopub.execute_input": "2024-02-19T17:03:22.194083Z",
     "iopub.status.busy": "2024-02-19T17:03:22.193682Z",
     "iopub.status.idle": "2024-02-19T17:03:22.321987Z",
     "shell.execute_reply": "2024-02-19T17:03:22.320342Z"
    },
    "papermill": {
     "duration": 0.145138,
     "end_time": "2024-02-19T17:03:22.325069",
     "exception": false,
     "start_time": "2024-02-19T17:03:22.179931",
     "status": "completed"
    },
    "tags": []
   },
   "outputs": [
    {
     "name": "stdout",
     "output_type": "stream",
     "text": [
      "All items are covered.\n"
     ]
    }
   ],
   "source": [
    "def check_missing_items(all_items, df_column):\n",
    "    all_items_lower = [item.lower().strip() for item in all_items]\n",
    "    unique_values_lower = set(df_column.str.lower().str.strip().unique())\n",
    "    return set(all_items_lower) - unique_values_lower\n",
    "\n",
    "def assign_console_mfg(df):\n",
    "    categories = {\n",
    "        'nintendo': ['3DS', 'ds', 'Wii', 'WiiU', 'NS', 'GB', 'NES', 'SNES', 'GBC', 'N64'],\n",
    "        'pc': ['Linux', 'OSX', 'PC', 'Arc', 'All'],\n",
    "        'xbox': ['X360', 'XOne', 'Series'],\n",
    "        'sony': ['PS', 'PS2', 'PS3', 'PS4', 'PS5', 'PSP', 'PSV', 'PSN'],\n",
    "        'mobile': ['iOS', 'And'],\n",
    "        'sega': ['GG', 'MSD', 'MS', 'GEN', 'SCD'],\n",
    "        'atari': ['2600', '7800'],\n",
    "        'commodore': ['amig', 'C64'],\n",
    "        'other': ['Ouya', 'OR', 'ACPC', 'AST', 'ApII', 'PCE', 'ZXS', 'Lynx', 'NG', 'ZXS']\n",
    "    }\n",
    "\n",
    "    all_items = [item for sublist in categories.values() for item in sublist]\n",
    "\n",
    "    missing_items = check_missing_items(all_items, df['console'])\n",
    "\n",
    "    if missing_items:\n",
    "        print(f\"Missing items: {missing_items}\")\n",
    "    else:\n",
    "        print(\"All items are covered.\")\n",
    "\n",
    "    conditions = [df['console'].isin(items) for items in categories.values()]\n",
    "    values = list(categories.keys())\n",
    "\n",
    "    df['console_mfg'] = np.select(conditions, values, default='unknown')\n",
    "\n",
    "\n",
    "assign_console_mfg(df)"
   ]
  },
  {
   "cell_type": "markdown",
   "id": "5db3592f",
   "metadata": {
    "papermill": {
     "duration": 0.012045,
     "end_time": "2024-02-19T17:03:22.349957",
     "exception": false,
     "start_time": "2024-02-19T17:03:22.337912",
     "status": "completed"
    },
    "tags": []
   },
   "source": [
    "Defines a function called `filter_and_group_by_year` \n",
    "- which takes a DataFrame (df) and a target year as input\n",
    " \n",
    "- It filters the DataFrame to include only rows from the specified year\n",
    "\n",
    "- Groups the data by 'release_date' and 'console'\n",
    " \n",
    "- calculates the sum of 'total_sales' for each group\n",
    " \n",
    "- Updates the 'release_date' column to show only the year.\n",
    "\n",
    "- Then, groups the data again by the modified 'release_date' and 'console' columns\n",
    "\n",
    "- Calculates the sum of 'total_sales' again \n",
    "\n",
    "- Returns the resulting DataFrame.\n",
    "\n",
    "In the second part of the code\n",
    "- there is a loop that iterates through years from 1971 to 2023\n",
    "- In each iteration, it dynamically creates a DataFrame with a name like 'sales_1971', 'sales_1972', etc. \n",
    "- Then assigns the result of the function for that specific year to the newly created DataFrame variable.\n",
    "\n",
    "This loop essentially generates DataFrames for years 1971 - 2023, \n",
    "<br>\n",
    "each representing the sales data for a particular year, and assigns\n",
    "<br>\n",
    "them unique names using the 'sales_year' format."
   ]
  },
  {
   "cell_type": "code",
   "execution_count": 5,
   "id": "97b18b57",
   "metadata": {
    "execution": {
     "iopub.execute_input": "2024-02-19T17:03:22.377050Z",
     "iopub.status.busy": "2024-02-19T17:03:22.376658Z",
     "iopub.status.idle": "2024-02-19T17:03:24.169046Z",
     "shell.execute_reply": "2024-02-19T17:03:24.167691Z"
    },
    "papermill": {
     "duration": 1.809045,
     "end_time": "2024-02-19T17:03:24.172090",
     "exception": false,
     "start_time": "2024-02-19T17:03:22.363045",
     "status": "completed"
    },
    "tags": []
   },
   "outputs": [],
   "source": [
    "def filter_and_group_by_year(df, target_year):\n",
    "    df['release_date'] = pd.to_datetime(df['release_date'])\n",
    "    df_filtered = df[df['release_date'].dt.year == target_year]\n",
    "    result = df_filtered.groupby(['release_date', 'console'])['total_sales'].sum().reset_index()\n",
    "    result['release_date'] = result['release_date'].dt.year  \n",
    "    result = result.groupby(['release_date', 'console'])['total_sales'].sum().reset_index()\n",
    "    return result\n",
    "\n",
    "for year in range(1971, 2024):\n",
    "    df_name = f\"sales_{year}\"\n",
    "    globals()[df_name] = filter_and_group_by_year(df, year)"
   ]
  },
  {
   "cell_type": "markdown",
   "id": "77528375",
   "metadata": {
    "papermill": {
     "duration": 0.01204,
     "end_time": "2024-02-19T17:03:24.197791",
     "exception": false,
     "start_time": "2024-02-19T17:03:24.185751",
     "status": "completed"
    },
    "tags": []
   },
   "source": [
    "The function takes a date range and a console name, filters the data for that console within the specified range, computes the total video game sales and a trend curve, and then visualizes the results using a bar chart and a trend curve plot."
   ]
  },
  {
   "cell_type": "code",
   "execution_count": 6,
   "id": "6fbf0ff8",
   "metadata": {
    "execution": {
     "iopub.execute_input": "2024-02-19T17:03:24.225352Z",
     "iopub.status.busy": "2024-02-19T17:03:24.224880Z",
     "iopub.status.idle": "2024-02-19T17:03:24.235971Z",
     "shell.execute_reply": "2024-02-19T17:03:24.234799Z"
    },
    "papermill": {
     "duration": 0.027719,
     "end_time": "2024-02-19T17:03:24.238549",
     "exception": false,
     "start_time": "2024-02-19T17:03:24.210830",
     "status": "completed"
    },
    "tags": []
   },
   "outputs": [],
   "source": [
    "def single_graph(date_range, console):\n",
    "    \n",
    "    df['release_date'] = pd.to_datetime(df['release_date'])\n",
    "    \n",
    "    \n",
    "    filtered_df = df[(df['release_date'].dt.year >= date_range[0]) & \n",
    "                     (df['release_date'].dt.year <= date_range[1]) & \n",
    "                     (df['console'] == console)]\n",
    "\n",
    "    \n",
    "    sales_by_year = filtered_df.groupby(filtered_df['release_date'].dt.year)['total_sales'].sum().reset_index()\n",
    "\n",
    "    \n",
    "    plt.figure(figsize=(10, 6))\n",
    "    \n",
    "    \n",
    "    plt.bar(sales_by_year['release_date'], sales_by_year['total_sales'], label='Total Sales')\n",
    "    \n",
    "    # Trend curve\n",
    "    x = sales_by_year['release_date']\n",
    "    y = sales_by_year['total_sales']\n",
    "    \n",
    "    z = np.polyfit(x, y, 2)\n",
    "    p = np.poly1d(z)\n",
    "\n",
    "    # Clip values below 0\n",
    "    trend_line = np.maximum(p(x), 0)  \n",
    "    \n",
    "    plt.plot(x, trend_line, 'r--', label='Trend Curve')\n",
    "    \n",
    "    plt.xlabel('Year')\n",
    "    plt.ylabel('Total Sales')\n",
    "    plt.title(f'Total Sales of {console} from {date_range[0]} to {date_range[1]}')\n",
    "    \n",
    "    plt.legend()\n",
    "    \n",
    "    plt.show()"
   ]
  },
  {
   "cell_type": "markdown",
   "id": "37c5bded",
   "metadata": {
    "papermill": {
     "duration": 0.012102,
     "end_time": "2024-02-19T17:03:24.263483",
     "exception": false,
     "start_time": "2024-02-19T17:03:24.251381",
     "status": "completed"
    },
    "tags": []
   },
   "source": [
    "The function takes several date ranges and a console names, filters the data for the consoles within the specified range, computes the total video game sales and a trend curve, and then visualizes the results using a bar chart and a trend curve plot.The bars are stacked so usage may not be the best for all plots. If effects are not desired use function `graph()` in its place."
   ]
  },
  {
   "cell_type": "code",
   "execution_count": 7,
   "id": "da1677c2",
   "metadata": {
    "execution": {
     "iopub.execute_input": "2024-02-19T17:03:24.291526Z",
     "iopub.status.busy": "2024-02-19T17:03:24.291037Z",
     "iopub.status.idle": "2024-02-19T17:03:24.303216Z",
     "shell.execute_reply": "2024-02-19T17:03:24.302043Z"
    },
    "papermill": {
     "duration": 0.030073,
     "end_time": "2024-02-19T17:03:24.306005",
     "exception": false,
     "start_time": "2024-02-19T17:03:24.275932",
     "status": "completed"
    },
    "tags": []
   },
   "outputs": [],
   "source": [
    "def stacked_graph(date_range, *consoles):\n",
    "    \n",
    "    df['release_date'] = pd.to_datetime(df['release_date'])\n",
    "    \n",
    "    \n",
    "    filtered_df = df[(df['release_date'].dt.year >= date_range[0]) & \n",
    "                     (df['release_date'].dt.year <= date_range[1]) & \n",
    "                     (df['console'].isin(consoles))]\n",
    "\n",
    "    \n",
    "    sales_by_year = filtered_df.groupby(['release_date', 'console'])['total_sales'].sum().reset_index()\n",
    "\n",
    "    \n",
    "    plt.figure(figsize=(12, 8))\n",
    "    \n",
    "    for console in consoles:\n",
    "        console_data = sales_by_year[sales_by_year['console'] == console]\n",
    "        x = console_data['release_date'].dt.year  \n",
    "        y = console_data['total_sales']\n",
    "        \n",
    "        # Trend curve\n",
    "        z = np.polyfit(x, y, 2)\n",
    "        p = np.poly1d(z)\n",
    "         # Clip values below 0\n",
    "        trend_line = np.maximum(p(x), 0) \n",
    "        \n",
    "        # Bar plot\n",
    "        plt.bar(x, y, label=f'Total Sales - {console}')\n",
    "        \n",
    "        # Trend curve plot\n",
    "        plt.plot(x, trend_line, '--', label=f'Trend Curve - {console}')\n",
    "\n",
    "    plt.xlabel('Year')\n",
    "    plt.ylabel('Total Sales')\n",
    "    plt.title(f'Total Sales Comparison of Consoles from {date_range[0]} to {date_range[1]}')\n",
    "    \n",
    "    # Display legend\n",
    "    plt.legend()\n",
    "    \n",
    "    plt.show()"
   ]
  },
  {
   "cell_type": "markdown",
   "id": "d3342f75",
   "metadata": {
    "papermill": {
     "duration": 0.013061,
     "end_time": "2024-02-19T17:03:24.331588",
     "exception": false,
     "start_time": "2024-02-19T17:03:24.318527",
     "status": "completed"
    },
    "tags": []
   },
   "source": [
    "The function takes several date ranges and a console names, filters the data for the consoles within the specified range, computes the total video game sales and a trend curve, and then visualizes the results using a bar chart and a trend curve plot."
   ]
  },
  {
   "cell_type": "code",
   "execution_count": 8,
   "id": "9da2b7ba",
   "metadata": {
    "execution": {
     "iopub.execute_input": "2024-02-19T17:03:24.359010Z",
     "iopub.status.busy": "2024-02-19T17:03:24.358565Z",
     "iopub.status.idle": "2024-02-19T17:03:24.371973Z",
     "shell.execute_reply": "2024-02-19T17:03:24.370585Z"
    },
    "papermill": {
     "duration": 0.0305,
     "end_time": "2024-02-19T17:03:24.374792",
     "exception": false,
     "start_time": "2024-02-19T17:03:24.344292",
     "status": "completed"
    },
    "tags": []
   },
   "outputs": [],
   "source": [
    "def graph(date_range, *consoles):\n",
    "   \n",
    "    df['release_date'] = pd.to_datetime(df['release_date'])\n",
    "    \n",
    "\n",
    "    filtered_df = df[(df['release_date'].dt.year >= date_range[0]) & \n",
    "                     (df['release_date'].dt.year <= date_range[1]) & \n",
    "                     (df['console'].isin(consoles))]\n",
    "\n",
    "    \n",
    "    sales_by_year = filtered_df.groupby(['release_date', 'console'])['total_sales'].sum().reset_index()\n",
    "\n",
    "    \n",
    "    plt.figure(figsize=(12, 8))\n",
    "    \n",
    "    for i, console in enumerate(consoles):\n",
    "        console_data = sales_by_year[sales_by_year['console'] == console]\n",
    "        x = console_data['release_date'].dt.year  \n",
    "        y = console_data['total_sales']\n",
    "        \n",
    "        # Trend curve\n",
    "        z = np.polyfit(x, y, 2)\n",
    "        p = np.poly1d(z)\n",
    "        # Clip values below 0\n",
    "        trend_line = np.maximum(p(x), 0)  \n",
    "        \n",
    "        cmap = plt.get_cmap('tab10')\n",
    "        bar_color = cmap(i)\n",
    "        darker_bar_color = tuple(c * 0.6 for c in bar_color)\n",
    "        \n",
    "        \n",
    "        plt.bar(x + i * 0.3, y, width=0.3, color=bar_color, label=f'Total Sales - {console}')\n",
    "\n",
    "        \n",
    "        plt.plot(x, trend_line, '-', color=darker_bar_color, linewidth=2, label=f'Trend Curve - {console}', zorder=10)\n",
    "\n",
    "    plt.xlabel('Year')\n",
    "    plt.ylabel('Total Sales')\n",
    "    plt.title(f'Total Sales Comparison of Consoles from {date_range[0]} to {date_range[1]}')\n",
    "    \n",
    "    \n",
    "    plt.legend()\n",
    "    \n",
    "    plt.show()"
   ]
  },
  {
   "cell_type": "code",
   "execution_count": 9,
   "id": "d5a8f4dd",
   "metadata": {
    "execution": {
     "iopub.execute_input": "2024-02-19T17:03:24.402137Z",
     "iopub.status.busy": "2024-02-19T17:03:24.401689Z",
     "iopub.status.idle": "2024-02-19T17:03:24.415351Z",
     "shell.execute_reply": "2024-02-19T17:03:24.414011Z"
    },
    "papermill": {
     "duration": 0.030795,
     "end_time": "2024-02-19T17:03:24.418213",
     "exception": false,
     "start_time": "2024-02-19T17:03:24.387418",
     "status": "completed"
    },
    "tags": []
   },
   "outputs": [],
   "source": [
    "def graph_genre(date_range, *genres):\n",
    "   \n",
    "    df['release_date'] = pd.to_datetime(df['release_date'])\n",
    "    \n",
    "    filtered_df = df[(df['release_date'].dt.year >= date_range[0]) & \n",
    "                     (df['release_date'].dt.year <= date_range[1]) & \n",
    "                     (df['genre'].isin(genres))]\n",
    "    \n",
    "    sales_by_year = filtered_df.groupby(['release_date', 'genre'])['total_sales'].sum().reset_index()\n",
    "\n",
    "    plt.figure(figsize=(12, 8))\n",
    "    \n",
    "    for i, genre in enumerate(genres):\n",
    "        genre_data = sales_by_year[sales_by_year['genre'] == genre]\n",
    "        x = genre_data['release_date'].dt.year  \n",
    "        y = genre_data['total_sales']\n",
    "        \n",
    "        # Trend curve\n",
    "        z = np.polyfit(x, y, 2)\n",
    "        p = np.poly1d(z)\n",
    "        # Clip values below 0\n",
    "        trend_line = np.maximum(p(x), 0)  \n",
    "        \n",
    "        cmap = plt.get_cmap('tab10')\n",
    "        bar_color = cmap(i)\n",
    "        darker_bar_color = tuple(c * 0.6 for c in bar_color)\n",
    "        \n",
    "        plt.bar(x + i * 0.3, y, width=0.3, color=bar_color, label=f'Total Sales - {genre}')\n",
    "        \n",
    "        plt.plot(x, trend_line, '-', color=darker_bar_color, linewidth=2, label=f'Trend Curve - {genre}', zorder=10)\n",
    "\n",
    "    plt.xlabel('Year')\n",
    "    plt.ylabel('Total Sales')\n",
    "    plt.title(f'Total Sales Comparison of Genres from {date_range[0]} to {date_range[1]}')\n",
    "    \n",
    "    plt.legend()\n",
    "    \n",
    "    plt.show()\n"
   ]
  },
  {
   "cell_type": "code",
   "execution_count": 10,
   "id": "2db0d602",
   "metadata": {
    "execution": {
     "iopub.execute_input": "2024-02-19T17:03:24.445300Z",
     "iopub.status.busy": "2024-02-19T17:03:24.444824Z",
     "iopub.status.idle": "2024-02-19T17:03:24.458122Z",
     "shell.execute_reply": "2024-02-19T17:03:24.456949Z"
    },
    "papermill": {
     "duration": 0.02961,
     "end_time": "2024-02-19T17:03:24.460565",
     "exception": false,
     "start_time": "2024-02-19T17:03:24.430955",
     "status": "completed"
    },
    "tags": []
   },
   "outputs": [],
   "source": [
    "def graph_genre_quarterly(date_range, *genres):\n",
    "   \n",
    "    df['release_date'] = pd.to_datetime(df['release_date'])\n",
    "    \n",
    "    filtered_df = df[(df['release_date'].dt.year >= date_range[0]) & \n",
    "                     (df['release_date'].dt.year <= date_range[1]) & \n",
    "                     (df['genre'].isin(genres))].copy()\n",
    "    \n",
    "    filtered_df['quarter'] = filtered_df['release_date'].dt.to_period(\"Q\")\n",
    "    \n",
    "    sales_by_quarter = filtered_df.groupby(['quarter', 'genre'])['total_sales'].sum().reset_index()\n",
    "\n",
    "    plt.figure(figsize=(15, 8))\n",
    "    \n",
    "    quarters = sales_by_quarter['quarter'].unique().astype(str)\n",
    "    width = 0.2  # Adjusted width to make bars side-by-side\n",
    "    \n",
    "    for i, genre in enumerate(genres):\n",
    "        genre_data = sales_by_quarter[sales_by_quarter['genre'] == genre]\n",
    "        x = np.arange(len(quarters)) + i * width  # Adjusted x positions for side-by-side bars\n",
    "        y = genre_data.groupby('quarter')['total_sales'].sum().reindex(quarters).fillna(0)\n",
    "        \n",
    "        cmap = plt.get_cmap('tab10')\n",
    "        bar_color = cmap(i)\n",
    "        \n",
    "        plt.bar(x, y, width=width, color=bar_color, label=genre)\n",
    "    \n",
    "    plt.xlabel('Quarter')\n",
    "    plt.ylabel('Total Sales')\n",
    "    plt.title(f'Total Sales Comparison of Genres from {date_range[0]} to {date_range[1]} (Quarterly)')\n",
    "    \n",
    "    plt.legend(loc='upper left')\n",
    "    plt.xticks(ticks=np.arange(len(quarters)) + width * (len(genres) - 1) / 2, labels=quarters, rotation=90)\n",
    "    \n",
    "    plt.show()\n"
   ]
  },
  {
   "cell_type": "code",
   "execution_count": 11,
   "id": "5e8eb43a",
   "metadata": {
    "execution": {
     "iopub.execute_input": "2024-02-19T17:03:24.487067Z",
     "iopub.status.busy": "2024-02-19T17:03:24.486633Z",
     "iopub.status.idle": "2024-02-19T17:03:24.493028Z",
     "shell.execute_reply": "2024-02-19T17:03:24.491849Z"
    },
    "papermill": {
     "duration": 0.022672,
     "end_time": "2024-02-19T17:03:24.495608",
     "exception": false,
     "start_time": "2024-02-19T17:03:24.472936",
     "status": "completed"
    },
    "tags": []
   },
   "outputs": [],
   "source": [
    "def top_genre(genre):\n",
    "    genre_df = df[df['genre'] == genre]\n",
    "    \n",
    "    if genre_df.empty:\n",
    "        print(f\"No data found for the genre: {genre}\")\n",
    "        return None\n",
    "    \n",
    "    top_titles = genre_df.nlargest(20, 'total_sales')[['title', 'total_sales']]\n",
    "    \n",
    "    return top_titles"
   ]
  },
  {
   "cell_type": "code",
   "execution_count": 12,
   "id": "728e1a72",
   "metadata": {
    "execution": {
     "iopub.execute_input": "2024-02-19T17:03:24.523018Z",
     "iopub.status.busy": "2024-02-19T17:03:24.522499Z",
     "iopub.status.idle": "2024-02-19T17:03:26.414724Z",
     "shell.execute_reply": "2024-02-19T17:03:26.413511Z"
    },
    "papermill": {
     "duration": 1.909259,
     "end_time": "2024-02-19T17:03:26.417812",
     "exception": false,
     "start_time": "2024-02-19T17:03:24.508553",
     "status": "completed"
    },
    "tags": []
   },
   "outputs": [],
   "source": [
    "def genre(df, target_year):\n",
    "    df['release_date'] = pd.to_datetime(df['release_date'])\n",
    "    df_filtered = df[df['release_date'].dt.year == target_year]\n",
    "    result = df_filtered.groupby(['release_date', 'genre'])['total_sales'].sum().reset_index()\n",
    "    result['release_date'] = result['release_date'].dt.year  \n",
    "    result = result.groupby(['release_date', 'genre'])['total_sales'].sum().reset_index()\n",
    "    return result\n",
    "\n",
    "for year in range(1971, 2024):\n",
    "    df_name = f\"genre_{year}\"\n",
    "    globals()[df_name] = genre(df, year)"
   ]
  },
  {
   "cell_type": "markdown",
   "id": "93302e79",
   "metadata": {
    "papermill": {
     "duration": 0.012001,
     "end_time": "2024-02-19T17:03:26.442293",
     "exception": false,
     "start_time": "2024-02-19T17:03:26.430292",
     "status": "completed"
    },
    "tags": []
   },
   "source": [
    "# SQL Connection"
   ]
  },
  {
   "cell_type": "markdown",
   "id": "4142be16",
   "metadata": {
    "papermill": {
     "duration": 0.011997,
     "end_time": "2024-02-19T17:03:26.466894",
     "exception": false,
     "start_time": "2024-02-19T17:03:26.454897",
     "status": "completed"
    },
    "tags": []
   },
   "source": [
    "Makes a SQL connection and defines a function to make easy queries. "
   ]
  },
  {
   "cell_type": "code",
   "execution_count": 13,
   "id": "84ca254d",
   "metadata": {
    "execution": {
     "iopub.execute_input": "2024-02-19T17:03:26.494063Z",
     "iopub.status.busy": "2024-02-19T17:03:26.493657Z",
     "iopub.status.idle": "2024-02-19T17:03:27.104468Z",
     "shell.execute_reply": "2024-02-19T17:03:27.103084Z"
    },
    "papermill": {
     "duration": 0.628152,
     "end_time": "2024-02-19T17:03:27.107460",
     "exception": false,
     "start_time": "2024-02-19T17:03:26.479308",
     "status": "completed"
    },
    "tags": []
   },
   "outputs": [],
   "source": [
    "conn = connect(':memory:')\n",
    "\n",
    "df.to_sql(\"df\", conn)\n",
    "\n",
    "def sql(a_string):\n",
    "    return(pd.read_sql(a_string, conn))"
   ]
  },
  {
   "cell_type": "markdown",
   "id": "07f3abb5",
   "metadata": {
    "papermill": {
     "duration": 0.012267,
     "end_time": "2024-02-19T17:03:27.133214",
     "exception": false,
     "start_time": "2024-02-19T17:03:27.120947",
     "status": "completed"
    },
    "tags": []
   },
   "source": [
    "Top 20 video games by sales "
   ]
  },
  {
   "cell_type": "code",
   "execution_count": 14,
   "id": "278d3df2",
   "metadata": {
    "execution": {
     "iopub.execute_input": "2024-02-19T17:03:27.160250Z",
     "iopub.status.busy": "2024-02-19T17:03:27.159314Z",
     "iopub.status.idle": "2024-02-19T17:03:27.296810Z",
     "shell.execute_reply": "2024-02-19T17:03:27.295935Z"
    },
    "papermill": {
     "duration": 0.153578,
     "end_time": "2024-02-19T17:03:27.299214",
     "exception": false,
     "start_time": "2024-02-19T17:03:27.145636",
     "status": "completed"
    },
    "tags": []
   },
   "outputs": [
    {
     "data": {
      "text/html": [
       "<div>\n",
       "<style scoped>\n",
       "    .dataframe tbody tr th:only-of-type {\n",
       "        vertical-align: middle;\n",
       "    }\n",
       "\n",
       "    .dataframe tbody tr th {\n",
       "        vertical-align: top;\n",
       "    }\n",
       "\n",
       "    .dataframe thead th {\n",
       "        text-align: right;\n",
       "    }\n",
       "</style>\n",
       "<table border=\"1\" class=\"dataframe\">\n",
       "  <thead>\n",
       "    <tr style=\"text-align: right;\">\n",
       "      <th></th>\n",
       "      <th>title</th>\n",
       "      <th>genre</th>\n",
       "      <th>publisher</th>\n",
       "      <th>developer</th>\n",
       "      <th>avg_critic_score</th>\n",
       "      <th>total_sales</th>\n",
       "      <th>release_date</th>\n",
       "    </tr>\n",
       "  </thead>\n",
       "  <tbody>\n",
       "    <tr>\n",
       "      <th>0</th>\n",
       "      <td>Grand Theft Auto V</td>\n",
       "      <td>Action</td>\n",
       "      <td>Rockstar Games</td>\n",
       "      <td>Rockstar North</td>\n",
       "      <td>3.512500</td>\n",
       "      <td>64.29</td>\n",
       "      <td>2013-09-17 00:00:00</td>\n",
       "    </tr>\n",
       "    <tr>\n",
       "      <th>1</th>\n",
       "      <td>Call of Duty: Black Ops</td>\n",
       "      <td>Shooter</td>\n",
       "      <td>Activision</td>\n",
       "      <td>Treyarch</td>\n",
       "      <td>8.287500</td>\n",
       "      <td>30.99</td>\n",
       "      <td>2010-11-09 00:00:00</td>\n",
       "    </tr>\n",
       "    <tr>\n",
       "      <th>2</th>\n",
       "      <td>Call of Duty: Modern Warfare 3</td>\n",
       "      <td>Shooter</td>\n",
       "      <td>Activision</td>\n",
       "      <td>Infinity Ward</td>\n",
       "      <td>6.000000</td>\n",
       "      <td>30.71</td>\n",
       "      <td>2011-11-08 00:00:00</td>\n",
       "    </tr>\n",
       "    <tr>\n",
       "      <th>3</th>\n",
       "      <td>Call of Duty: Black Ops II</td>\n",
       "      <td>Shooter</td>\n",
       "      <td>Activision</td>\n",
       "      <td>Treyarch</td>\n",
       "      <td>6.700000</td>\n",
       "      <td>29.59</td>\n",
       "      <td>2012-11-13 00:00:00</td>\n",
       "    </tr>\n",
       "    <tr>\n",
       "      <th>4</th>\n",
       "      <td>Call of Duty: Ghosts</td>\n",
       "      <td>Shooter</td>\n",
       "      <td>Activision</td>\n",
       "      <td>Infinity Ward</td>\n",
       "      <td>6.714286</td>\n",
       "      <td>28.80</td>\n",
       "      <td>2013-11-05 00:00:00</td>\n",
       "    </tr>\n",
       "    <tr>\n",
       "      <th>5</th>\n",
       "      <td>Call of Duty: Black Ops 3</td>\n",
       "      <td>Shooter</td>\n",
       "      <td>Activision</td>\n",
       "      <td>Treyarch</td>\n",
       "      <td>1.620000</td>\n",
       "      <td>26.72</td>\n",
       "      <td>2015-11-06 00:00:00</td>\n",
       "    </tr>\n",
       "    <tr>\n",
       "      <th>6</th>\n",
       "      <td>Call of Duty: Modern Warfare 2</td>\n",
       "      <td>Shooter</td>\n",
       "      <td>Activision</td>\n",
       "      <td>Infinity Ward</td>\n",
       "      <td>4.666667</td>\n",
       "      <td>25.02</td>\n",
       "      <td>2009-11-10 00:00:00</td>\n",
       "    </tr>\n",
       "    <tr>\n",
       "      <th>7</th>\n",
       "      <td>Minecraft</td>\n",
       "      <td>Misc</td>\n",
       "      <td>Mojang</td>\n",
       "      <td>Mojang AB</td>\n",
       "      <td>3.138462</td>\n",
       "      <td>24.01</td>\n",
       "      <td>2010-05-10 00:00:00</td>\n",
       "    </tr>\n",
       "    <tr>\n",
       "      <th>8</th>\n",
       "      <td>Grand Theft Auto IV</td>\n",
       "      <td>Action</td>\n",
       "      <td>Rockstar Games</td>\n",
       "      <td>Rockstar North</td>\n",
       "      <td>5.840000</td>\n",
       "      <td>22.53</td>\n",
       "      <td>2008-04-29 00:00:00</td>\n",
       "    </tr>\n",
       "    <tr>\n",
       "      <th>9</th>\n",
       "      <td>Call of Duty: Advanced Warfare</td>\n",
       "      <td>Shooter</td>\n",
       "      <td>Activision</td>\n",
       "      <td>Sledgehammer Games</td>\n",
       "      <td>8.720000</td>\n",
       "      <td>21.78</td>\n",
       "      <td>2014-11-04 00:00:00</td>\n",
       "    </tr>\n",
       "  </tbody>\n",
       "</table>\n",
       "</div>"
      ],
      "text/plain": [
       "                            title    genre       publisher  \\\n",
       "0              Grand Theft Auto V   Action  Rockstar Games   \n",
       "1         Call of Duty: Black Ops  Shooter      Activision   \n",
       "2  Call of Duty: Modern Warfare 3  Shooter      Activision   \n",
       "3      Call of Duty: Black Ops II  Shooter      Activision   \n",
       "4            Call of Duty: Ghosts  Shooter      Activision   \n",
       "5       Call of Duty: Black Ops 3  Shooter      Activision   \n",
       "6  Call of Duty: Modern Warfare 2  Shooter      Activision   \n",
       "7                       Minecraft     Misc          Mojang   \n",
       "8             Grand Theft Auto IV   Action  Rockstar Games   \n",
       "9  Call of Duty: Advanced Warfare  Shooter      Activision   \n",
       "\n",
       "            developer  avg_critic_score  total_sales         release_date  \n",
       "0      Rockstar North          3.512500        64.29  2013-09-17 00:00:00  \n",
       "1            Treyarch          8.287500        30.99  2010-11-09 00:00:00  \n",
       "2       Infinity Ward          6.000000        30.71  2011-11-08 00:00:00  \n",
       "3            Treyarch          6.700000        29.59  2012-11-13 00:00:00  \n",
       "4       Infinity Ward          6.714286        28.80  2013-11-05 00:00:00  \n",
       "5            Treyarch          1.620000        26.72  2015-11-06 00:00:00  \n",
       "6       Infinity Ward          4.666667        25.02  2009-11-10 00:00:00  \n",
       "7           Mojang AB          3.138462        24.01  2010-05-10 00:00:00  \n",
       "8      Rockstar North          5.840000        22.53  2008-04-29 00:00:00  \n",
       "9  Sledgehammer Games          8.720000        21.78  2014-11-04 00:00:00  "
      ]
     },
     "execution_count": 14,
     "metadata": {},
     "output_type": "execute_result"
    }
   ],
   "source": [
    "sql(\"\"\"\n",
    "    SELECT\n",
    "        title,\n",
    "        genre,\n",
    "        publisher,\n",
    "        developer,\n",
    "        AVG(critic_score) AS avg_critic_score,\n",
    "        SUM(total_sales) AS total_sales,\n",
    "        MIN(release_date) AS release_date\n",
    "    FROM\n",
    "        df\n",
    "    GROUP BY\n",
    "        title\n",
    "    ORDER BY\n",
    "        total_sales DESC\n",
    "    LIMIT 10 \n",
    "\"\"\")"
   ]
  },
  {
   "cell_type": "markdown",
   "id": "6484d8da",
   "metadata": {
    "papermill": {
     "duration": 0.013004,
     "end_time": "2024-02-19T17:03:27.325119",
     "exception": false,
     "start_time": "2024-02-19T17:03:27.312115",
     "status": "completed"
    },
    "tags": []
   },
   "source": [
    "The functions above make total game sales by year per console. \n",
    "<br>\n",
    "you can print the dataframe by any year by doing `sales_xxxx`"
   ]
  },
  {
   "cell_type": "code",
   "execution_count": 15,
   "id": "2563e4ac",
   "metadata": {
    "execution": {
     "iopub.execute_input": "2024-02-19T17:03:27.353076Z",
     "iopub.status.busy": "2024-02-19T17:03:27.352116Z",
     "iopub.status.idle": "2024-02-19T17:03:27.368169Z",
     "shell.execute_reply": "2024-02-19T17:03:27.366946Z"
    },
    "papermill": {
     "duration": 0.032884,
     "end_time": "2024-02-19T17:03:27.371068",
     "exception": false,
     "start_time": "2024-02-19T17:03:27.338184",
     "status": "completed"
    },
    "tags": []
   },
   "outputs": [
    {
     "data": {
      "text/html": [
       "<div>\n",
       "<style scoped>\n",
       "    .dataframe tbody tr th:only-of-type {\n",
       "        vertical-align: middle;\n",
       "    }\n",
       "\n",
       "    .dataframe tbody tr th {\n",
       "        vertical-align: top;\n",
       "    }\n",
       "\n",
       "    .dataframe thead th {\n",
       "        text-align: right;\n",
       "    }\n",
       "</style>\n",
       "<table border=\"1\" class=\"dataframe\">\n",
       "  <thead>\n",
       "    <tr style=\"text-align: right;\">\n",
       "      <th></th>\n",
       "      <th>release_date</th>\n",
       "      <th>console</th>\n",
       "      <th>total_sales</th>\n",
       "    </tr>\n",
       "  </thead>\n",
       "  <tbody>\n",
       "    <tr>\n",
       "      <th>0</th>\n",
       "      <td>2015</td>\n",
       "      <td>3DS</td>\n",
       "      <td>9.57</td>\n",
       "    </tr>\n",
       "    <tr>\n",
       "      <th>1</th>\n",
       "      <td>2015</td>\n",
       "      <td>All</td>\n",
       "      <td>0.00</td>\n",
       "    </tr>\n",
       "    <tr>\n",
       "      <th>2</th>\n",
       "      <td>2015</td>\n",
       "      <td>And</td>\n",
       "      <td>0.00</td>\n",
       "    </tr>\n",
       "    <tr>\n",
       "      <th>3</th>\n",
       "      <td>2015</td>\n",
       "      <td>Arc</td>\n",
       "      <td>0.00</td>\n",
       "    </tr>\n",
       "    <tr>\n",
       "      <th>4</th>\n",
       "      <td>2015</td>\n",
       "      <td>BRW</td>\n",
       "      <td>0.00</td>\n",
       "    </tr>\n",
       "    <tr>\n",
       "      <th>5</th>\n",
       "      <td>2015</td>\n",
       "      <td>DC</td>\n",
       "      <td>0.00</td>\n",
       "    </tr>\n",
       "    <tr>\n",
       "      <th>6</th>\n",
       "      <td>2015</td>\n",
       "      <td>Linux</td>\n",
       "      <td>0.00</td>\n",
       "    </tr>\n",
       "    <tr>\n",
       "      <th>7</th>\n",
       "      <td>2015</td>\n",
       "      <td>Lynx</td>\n",
       "      <td>0.00</td>\n",
       "    </tr>\n",
       "    <tr>\n",
       "      <th>8</th>\n",
       "      <td>2015</td>\n",
       "      <td>NS</td>\n",
       "      <td>0.00</td>\n",
       "    </tr>\n",
       "    <tr>\n",
       "      <th>9</th>\n",
       "      <td>2015</td>\n",
       "      <td>OSX</td>\n",
       "      <td>0.00</td>\n",
       "    </tr>\n",
       "    <tr>\n",
       "      <th>10</th>\n",
       "      <td>2015</td>\n",
       "      <td>Ouya</td>\n",
       "      <td>0.00</td>\n",
       "    </tr>\n",
       "    <tr>\n",
       "      <th>11</th>\n",
       "      <td>2015</td>\n",
       "      <td>PC</td>\n",
       "      <td>5.17</td>\n",
       "    </tr>\n",
       "    <tr>\n",
       "      <th>12</th>\n",
       "      <td>2015</td>\n",
       "      <td>PS3</td>\n",
       "      <td>20.03</td>\n",
       "    </tr>\n",
       "    <tr>\n",
       "      <th>13</th>\n",
       "      <td>2015</td>\n",
       "      <td>PS4</td>\n",
       "      <td>111.69</td>\n",
       "    </tr>\n",
       "    <tr>\n",
       "      <th>14</th>\n",
       "      <td>2015</td>\n",
       "      <td>PSN</td>\n",
       "      <td>0.59</td>\n",
       "    </tr>\n",
       "    <tr>\n",
       "      <th>15</th>\n",
       "      <td>2015</td>\n",
       "      <td>PSP</td>\n",
       "      <td>0.14</td>\n",
       "    </tr>\n",
       "    <tr>\n",
       "      <th>16</th>\n",
       "      <td>2015</td>\n",
       "      <td>PSV</td>\n",
       "      <td>7.61</td>\n",
       "    </tr>\n",
       "    <tr>\n",
       "      <th>17</th>\n",
       "      <td>2015</td>\n",
       "      <td>Series</td>\n",
       "      <td>0.00</td>\n",
       "    </tr>\n",
       "    <tr>\n",
       "      <th>18</th>\n",
       "      <td>2015</td>\n",
       "      <td>Wii</td>\n",
       "      <td>1.40</td>\n",
       "    </tr>\n",
       "    <tr>\n",
       "      <th>19</th>\n",
       "      <td>2015</td>\n",
       "      <td>WiiU</td>\n",
       "      <td>6.44</td>\n",
       "    </tr>\n",
       "    <tr>\n",
       "      <th>20</th>\n",
       "      <td>2015</td>\n",
       "      <td>WinP</td>\n",
       "      <td>0.00</td>\n",
       "    </tr>\n",
       "    <tr>\n",
       "      <th>21</th>\n",
       "      <td>2015</td>\n",
       "      <td>X360</td>\n",
       "      <td>14.82</td>\n",
       "    </tr>\n",
       "    <tr>\n",
       "      <th>22</th>\n",
       "      <td>2015</td>\n",
       "      <td>XOne</td>\n",
       "      <td>52.99</td>\n",
       "    </tr>\n",
       "    <tr>\n",
       "      <th>23</th>\n",
       "      <td>2015</td>\n",
       "      <td>iOS</td>\n",
       "      <td>0.00</td>\n",
       "    </tr>\n",
       "  </tbody>\n",
       "</table>\n",
       "</div>"
      ],
      "text/plain": [
       "    release_date console  total_sales\n",
       "0           2015     3DS         9.57\n",
       "1           2015     All         0.00\n",
       "2           2015     And         0.00\n",
       "3           2015     Arc         0.00\n",
       "4           2015     BRW         0.00\n",
       "5           2015      DC         0.00\n",
       "6           2015   Linux         0.00\n",
       "7           2015    Lynx         0.00\n",
       "8           2015      NS         0.00\n",
       "9           2015     OSX         0.00\n",
       "10          2015    Ouya         0.00\n",
       "11          2015      PC         5.17\n",
       "12          2015     PS3        20.03\n",
       "13          2015     PS4       111.69\n",
       "14          2015     PSN         0.59\n",
       "15          2015     PSP         0.14\n",
       "16          2015     PSV         7.61\n",
       "17          2015  Series         0.00\n",
       "18          2015     Wii         1.40\n",
       "19          2015    WiiU         6.44\n",
       "20          2015    WinP         0.00\n",
       "21          2015    X360        14.82\n",
       "22          2015    XOne        52.99\n",
       "23          2015     iOS         0.00"
      ]
     },
     "execution_count": 15,
     "metadata": {},
     "output_type": "execute_result"
    }
   ],
   "source": [
    "sales_2015"
   ]
  },
  {
   "cell_type": "markdown",
   "id": "e01c2d56",
   "metadata": {
    "papermill": {
     "duration": 0.01312,
     "end_time": "2024-02-19T17:03:27.397430",
     "exception": false,
     "start_time": "2024-02-19T17:03:27.384310",
     "status": "completed"
    },
    "tags": []
   },
   "source": [
    "# Examples of the Functions above"
   ]
  },
  {
   "cell_type": "markdown",
   "id": "830325ae",
   "metadata": {
    "papermill": {
     "duration": 0.012953,
     "end_time": "2024-02-19T17:03:27.423532",
     "exception": false,
     "start_time": "2024-02-19T17:03:27.410579",
     "status": "completed"
    },
    "tags": []
   },
   "source": [
    "Representing the video game sales data for a particular year, with sales numbers grouped together by console."
   ]
  },
  {
   "cell_type": "markdown",
   "id": "a39607e5",
   "metadata": {
    "papermill": {
     "duration": 0.012829,
     "end_time": "2024-02-19T17:03:27.449547",
     "exception": false,
     "start_time": "2024-02-19T17:03:27.436718",
     "status": "completed"
    },
    "tags": []
   },
   "source": [
    "## I think this is correct but please advise if changes are needed. \n",
    "\n",
    "| MFG | Keys | \n",
    "| -- | -- | \n",
    "|nintendo | 3DS, DS, Wii, WiiU, NS, GB, NES, SNES, GBC, N64, GC |\n",
    "| pc | Linux, OSX, PC, Arc, All |\n",
    "| xbox | X360, XOne, Series |\n",
    "| sony | PS, PS2, PS3, PS4, PS5, PSP, PSV, PSN | \n",
    "| mobile | iOS, And|\n",
    "| sega | GG, MSD, MS, GEN, SCD |\n",
    "| atari | 2600, 7800 |\n",
    "| commodore | amig, C64 |\n",
    "| other | Ouya, OR, ACPC, AST, ApII, PCE, ZXS, Lynx, NG, ZXS |"
   ]
  },
  {
   "cell_type": "code",
   "execution_count": 16,
   "id": "40383ccc",
   "metadata": {
    "execution": {
     "iopub.execute_input": "2024-02-19T17:03:27.477870Z",
     "iopub.status.busy": "2024-02-19T17:03:27.477465Z",
     "iopub.status.idle": "2024-02-19T17:03:27.890047Z",
     "shell.execute_reply": "2024-02-19T17:03:27.888671Z"
    },
    "papermill": {
     "duration": 0.430125,
     "end_time": "2024-02-19T17:03:27.893034",
     "exception": false,
     "start_time": "2024-02-19T17:03:27.462909",
     "status": "completed"
    },
    "tags": []
   },
   "outputs": [
    {
     "data": {
      "image/png": "[encoded data removed]",
      "text/plain": [
       "<Figure size 1000x600 with 1 Axes>"
      ]
     },
     "metadata": {},
     "output_type": "display_data"
    }
   ],
   "source": [
    "# Example usage:\n",
    "single_graph((1980, 2024), 'DS')"
   ]
  },
  {
   "cell_type": "code",
   "execution_count": 17,
   "id": "3ca20cb8",
   "metadata": {
    "execution": {
     "iopub.execute_input": "2024-02-19T17:03:27.924887Z",
     "iopub.status.busy": "2024-02-19T17:03:27.924441Z",
     "iopub.status.idle": "2024-02-19T17:03:43.689243Z",
     "shell.execute_reply": "2024-02-19T17:03:43.687911Z"
    },
    "papermill": {
     "duration": 15.785082,
     "end_time": "2024-02-19T17:03:43.692045",
     "exception": false,
     "start_time": "2024-02-19T17:03:27.906963",
     "status": "completed"
    },
    "tags": []
   },
   "outputs": [
    {
     "data": {
      "image/png": "[encoded data removed]",
      "text/plain": [
       "<Figure size 1200x800 with 1 Axes>"
      ]
     },
     "metadata": {},
     "output_type": "display_data"
    }
   ],
   "source": [
    "# Example usage:\n",
    "stacked_graph((1990, 2024), 'PS3', 'PS4', 'PS2', 'PC')"
   ]
  },
  {
   "cell_type": "code",
   "execution_count": 18,
   "id": "18bde27a",
   "metadata": {
    "execution": {
     "iopub.execute_input": "2024-02-19T17:03:43.722953Z",
     "iopub.status.busy": "2024-02-19T17:03:43.722566Z",
     "iopub.status.idle": "2024-02-19T17:03:50.558567Z",
     "shell.execute_reply": "2024-02-19T17:03:50.557414Z"
    },
    "papermill": {
     "duration": 6.855347,
     "end_time": "2024-02-19T17:03:50.562026",
     "exception": false,
     "start_time": "2024-02-19T17:03:43.706679",
     "status": "completed"
    },
    "tags": []
   },
   "outputs": [
    {
     "data": {
      "image/png": "[encoded data removed]",
      "text/plain": [
       "<Figure size 1200x800 with 1 Axes>"
      ]
     },
     "metadata": {},
     "output_type": "display_data"
    }
   ],
   "source": [
    "# Example usage:\n",
    "graph((1990, 2024),  'Wii', 'WiiU', 'NS', 'NES', 'SNES', 'N64', 'GC')"
   ]
  },
  {
   "cell_type": "markdown",
   "id": "e7f3302e",
   "metadata": {
    "papermill": {
     "duration": 0.015643,
     "end_time": "2024-02-19T17:03:50.593657",
     "exception": false,
     "start_time": "2024-02-19T17:03:50.578014",
     "status": "completed"
    },
    "tags": []
   },
   "source": [
    "Makes the below markdown table. "
   ]
  },
  {
   "cell_type": "code",
   "execution_count": 19,
   "id": "6fe7fa0e",
   "metadata": {
    "execution": {
     "iopub.execute_input": "2024-02-19T17:03:50.627445Z",
     "iopub.status.busy": "2024-02-19T17:03:50.627034Z",
     "iopub.status.idle": "2024-02-19T17:03:50.645729Z",
     "shell.execute_reply": "2024-02-19T17:03:50.644487Z"
    },
    "papermill": {
     "duration": 0.03861,
     "end_time": "2024-02-19T17:03:50.648306",
     "exception": false,
     "start_time": "2024-02-19T17:03:50.609696",
     "status": "completed"
    },
    "tags": []
   },
   "outputs": [],
   "source": [
    "genre_counts = df['genre'].value_counts()\n",
    "\n",
    "table_markdown = \"| Genre | Count |\\n|-------|-------|\\n\"\n",
    "for genre, count in genre_counts.items():\n",
    "    table_markdown += f\"| {genre} | {count} |\\n\"\n",
    "\n",
    "\n",
    "# print(table_markdown)"
   ]
  },
  {
   "cell_type": "markdown",
   "id": "a774f303",
   "metadata": {
    "papermill": {
     "duration": 0.015465,
     "end_time": "2024-02-19T17:03:50.679934",
     "exception": false,
     "start_time": "2024-02-19T17:03:50.664469",
     "status": "completed"
    },
    "tags": []
   },
   "source": [
    "Genre Dict with game count\n",
    "\n",
    "| Genre | Count |\n",
    "|-------|-------|\n",
    "| Misc | 8932 |\n",
    "| Action | 7440 |\n",
    "| Adventure | 5370 |\n",
    "| Sports | 5341 |\n",
    "| Role-Playing | 4929 |\n",
    "| Shooter | 4760 |\n",
    "| Platform | 3556 |\n",
    "| Strategy | 3305 |\n",
    "| Puzzle | 3139 |\n",
    "| Racing | 3095 |\n",
    "| Simulation | 2829 |\n",
    "| Fighting | 2143 |\n",
    "| Action-Adventure | 1190 |\n",
    "| Visual Novel | 424 |\n",
    "| Music | 259 |\n",
    "| Party | 103 |\n",
    "| MMO | 92 |\n",
    "| Board Game | 22 |\n",
    "| Education | 21 |\n",
    "| Sandbox | 15 |"
   ]
  },
  {
   "cell_type": "code",
   "execution_count": 20,
   "id": "65d409af",
   "metadata": {
    "execution": {
     "iopub.execute_input": "2024-02-19T17:03:50.714973Z",
     "iopub.status.busy": "2024-02-19T17:03:50.713745Z",
     "iopub.status.idle": "2024-02-19T17:03:50.747358Z",
     "shell.execute_reply": "2024-02-19T17:03:50.746219Z"
    },
    "papermill": {
     "duration": 0.053324,
     "end_time": "2024-02-19T17:03:50.750027",
     "exception": false,
     "start_time": "2024-02-19T17:03:50.696703",
     "status": "completed"
    },
    "tags": []
   },
   "outputs": [
    {
     "data": {
      "text/html": [
       "<div>\n",
       "<style scoped>\n",
       "    .dataframe tbody tr th:only-of-type {\n",
       "        vertical-align: middle;\n",
       "    }\n",
       "\n",
       "    .dataframe tbody tr th {\n",
       "        vertical-align: top;\n",
       "    }\n",
       "\n",
       "    .dataframe thead th {\n",
       "        text-align: right;\n",
       "    }\n",
       "</style>\n",
       "<table border=\"1\" class=\"dataframe\">\n",
       "  <thead>\n",
       "    <tr style=\"text-align: right;\">\n",
       "      <th></th>\n",
       "      <th>title</th>\n",
       "      <th>total_sales</th>\n",
       "    </tr>\n",
       "  </thead>\n",
       "  <tbody>\n",
       "    <tr>\n",
       "      <th>0</th>\n",
       "      <td>Grand Theft Auto V</td>\n",
       "      <td>20.32</td>\n",
       "    </tr>\n",
       "    <tr>\n",
       "      <th>1</th>\n",
       "      <td>Grand Theft Auto V</td>\n",
       "      <td>19.39</td>\n",
       "    </tr>\n",
       "    <tr>\n",
       "      <th>2</th>\n",
       "      <td>Grand Theft Auto: Vice City</td>\n",
       "      <td>16.15</td>\n",
       "    </tr>\n",
       "    <tr>\n",
       "      <th>3</th>\n",
       "      <td>Grand Theft Auto V</td>\n",
       "      <td>15.86</td>\n",
       "    </tr>\n",
       "    <tr>\n",
       "      <th>13</th>\n",
       "      <td>Grand Theft Auto III</td>\n",
       "      <td>13.10</td>\n",
       "    </tr>\n",
       "    <tr>\n",
       "      <th>16</th>\n",
       "      <td>Grand Theft Auto IV</td>\n",
       "      <td>11.09</td>\n",
       "    </tr>\n",
       "    <tr>\n",
       "      <th>19</th>\n",
       "      <td>Grand Theft Auto IV</td>\n",
       "      <td>10.57</td>\n",
       "    </tr>\n",
       "    <tr>\n",
       "      <th>28</th>\n",
       "      <td>Grand Theft Auto V</td>\n",
       "      <td>8.72</td>\n",
       "    </tr>\n",
       "    <tr>\n",
       "      <th>35</th>\n",
       "      <td>Grand Theft Auto: Liberty City Stories</td>\n",
       "      <td>7.72</td>\n",
       "    </tr>\n",
       "    <tr>\n",
       "      <th>46</th>\n",
       "      <td>Uncharted 2: Among Thieves</td>\n",
       "      <td>6.74</td>\n",
       "    </tr>\n",
       "    <tr>\n",
       "      <th>50</th>\n",
       "      <td>Red Dead Redemption</td>\n",
       "      <td>6.57</td>\n",
       "    </tr>\n",
       "    <tr>\n",
       "      <th>51</th>\n",
       "      <td>Red Dead Redemption</td>\n",
       "      <td>6.50</td>\n",
       "    </tr>\n",
       "    <tr>\n",
       "      <th>56</th>\n",
       "      <td>Driver</td>\n",
       "      <td>6.27</td>\n",
       "    </tr>\n",
       "    <tr>\n",
       "      <th>62</th>\n",
       "      <td>LEGO Star Wars: The Complete Saga</td>\n",
       "      <td>5.66</td>\n",
       "    </tr>\n",
       "    <tr>\n",
       "      <th>64</th>\n",
       "      <td>Assassin's Creed II</td>\n",
       "      <td>5.57</td>\n",
       "    </tr>\n",
       "    <tr>\n",
       "      <th>65</th>\n",
       "      <td>Assassin's Creed</td>\n",
       "      <td>5.55</td>\n",
       "    </tr>\n",
       "    <tr>\n",
       "      <th>66</th>\n",
       "      <td>Batman: Arkham City</td>\n",
       "      <td>5.54</td>\n",
       "    </tr>\n",
       "    <tr>\n",
       "      <th>73</th>\n",
       "      <td>Assassin's Creed II</td>\n",
       "      <td>5.30</td>\n",
       "    </tr>\n",
       "    <tr>\n",
       "      <th>84</th>\n",
       "      <td>Resident Evil 5</td>\n",
       "      <td>5.10</td>\n",
       "    </tr>\n",
       "    <tr>\n",
       "      <th>86</th>\n",
       "      <td>Grand Theft Auto: Vice City Stories</td>\n",
       "      <td>5.08</td>\n",
       "    </tr>\n",
       "  </tbody>\n",
       "</table>\n",
       "</div>"
      ],
      "text/plain": [
       "                                     title  total_sales\n",
       "0                       Grand Theft Auto V        20.32\n",
       "1                       Grand Theft Auto V        19.39\n",
       "2              Grand Theft Auto: Vice City        16.15\n",
       "3                       Grand Theft Auto V        15.86\n",
       "13                    Grand Theft Auto III        13.10\n",
       "16                     Grand Theft Auto IV        11.09\n",
       "19                     Grand Theft Auto IV        10.57\n",
       "28                      Grand Theft Auto V         8.72\n",
       "35  Grand Theft Auto: Liberty City Stories         7.72\n",
       "46              Uncharted 2: Among Thieves         6.74\n",
       "50                     Red Dead Redemption         6.57\n",
       "51                     Red Dead Redemption         6.50\n",
       "56                                  Driver         6.27\n",
       "62       LEGO Star Wars: The Complete Saga         5.66\n",
       "64                     Assassin's Creed II         5.57\n",
       "65                        Assassin's Creed         5.55\n",
       "66                     Batman: Arkham City         5.54\n",
       "73                     Assassin's Creed II         5.30\n",
       "84                         Resident Evil 5         5.10\n",
       "86     Grand Theft Auto: Vice City Stories         5.08"
      ]
     },
     "execution_count": 20,
     "metadata": {},
     "output_type": "execute_result"
    }
   ],
   "source": [
    "top_genre('Action')"
   ]
  },
  {
   "cell_type": "code",
   "execution_count": 21,
   "id": "490a179a",
   "metadata": {
    "execution": {
     "iopub.execute_input": "2024-02-19T17:03:50.783757Z",
     "iopub.status.busy": "2024-02-19T17:03:50.783380Z",
     "iopub.status.idle": "2024-02-19T17:03:50.796628Z",
     "shell.execute_reply": "2024-02-19T17:03:50.795421Z"
    },
    "papermill": {
     "duration": 0.033005,
     "end_time": "2024-02-19T17:03:50.799103",
     "exception": false,
     "start_time": "2024-02-19T17:03:50.766098",
     "status": "completed"
    },
    "tags": []
   },
   "outputs": [
    {
     "data": {
      "text/html": [
       "<div>\n",
       "<style scoped>\n",
       "    .dataframe tbody tr th:only-of-type {\n",
       "        vertical-align: middle;\n",
       "    }\n",
       "\n",
       "    .dataframe tbody tr th {\n",
       "        vertical-align: top;\n",
       "    }\n",
       "\n",
       "    .dataframe thead th {\n",
       "        text-align: right;\n",
       "    }\n",
       "</style>\n",
       "<table border=\"1\" class=\"dataframe\">\n",
       "  <thead>\n",
       "    <tr style=\"text-align: right;\">\n",
       "      <th></th>\n",
       "      <th>release_date</th>\n",
       "      <th>genre</th>\n",
       "      <th>total_sales</th>\n",
       "    </tr>\n",
       "  </thead>\n",
       "  <tbody>\n",
       "    <tr>\n",
       "      <th>0</th>\n",
       "      <td>2001</td>\n",
       "      <td>Action</td>\n",
       "      <td>33.45</td>\n",
       "    </tr>\n",
       "    <tr>\n",
       "      <th>1</th>\n",
       "      <td>2001</td>\n",
       "      <td>Action-Adventure</td>\n",
       "      <td>0.00</td>\n",
       "    </tr>\n",
       "    <tr>\n",
       "      <th>2</th>\n",
       "      <td>2001</td>\n",
       "      <td>Adventure</td>\n",
       "      <td>14.64</td>\n",
       "    </tr>\n",
       "    <tr>\n",
       "      <th>3</th>\n",
       "      <td>2001</td>\n",
       "      <td>Education</td>\n",
       "      <td>0.00</td>\n",
       "    </tr>\n",
       "    <tr>\n",
       "      <th>4</th>\n",
       "      <td>2001</td>\n",
       "      <td>Fighting</td>\n",
       "      <td>9.47</td>\n",
       "    </tr>\n",
       "    <tr>\n",
       "      <th>5</th>\n",
       "      <td>2001</td>\n",
       "      <td>Misc</td>\n",
       "      <td>12.25</td>\n",
       "    </tr>\n",
       "    <tr>\n",
       "      <th>6</th>\n",
       "      <td>2001</td>\n",
       "      <td>Party</td>\n",
       "      <td>0.00</td>\n",
       "    </tr>\n",
       "    <tr>\n",
       "      <th>7</th>\n",
       "      <td>2001</td>\n",
       "      <td>Platform</td>\n",
       "      <td>20.53</td>\n",
       "    </tr>\n",
       "    <tr>\n",
       "      <th>8</th>\n",
       "      <td>2001</td>\n",
       "      <td>Puzzle</td>\n",
       "      <td>8.20</td>\n",
       "    </tr>\n",
       "    <tr>\n",
       "      <th>9</th>\n",
       "      <td>2001</td>\n",
       "      <td>Racing</td>\n",
       "      <td>31.08</td>\n",
       "    </tr>\n",
       "    <tr>\n",
       "      <th>10</th>\n",
       "      <td>2001</td>\n",
       "      <td>Role-Playing</td>\n",
       "      <td>11.19</td>\n",
       "    </tr>\n",
       "    <tr>\n",
       "      <th>11</th>\n",
       "      <td>2001</td>\n",
       "      <td>Shooter</td>\n",
       "      <td>17.88</td>\n",
       "    </tr>\n",
       "    <tr>\n",
       "      <th>12</th>\n",
       "      <td>2001</td>\n",
       "      <td>Simulation</td>\n",
       "      <td>13.55</td>\n",
       "    </tr>\n",
       "    <tr>\n",
       "      <th>13</th>\n",
       "      <td>2001</td>\n",
       "      <td>Sports</td>\n",
       "      <td>50.80</td>\n",
       "    </tr>\n",
       "    <tr>\n",
       "      <th>14</th>\n",
       "      <td>2001</td>\n",
       "      <td>Strategy</td>\n",
       "      <td>3.71</td>\n",
       "    </tr>\n",
       "  </tbody>\n",
       "</table>\n",
       "</div>"
      ],
      "text/plain": [
       "    release_date             genre  total_sales\n",
       "0           2001            Action        33.45\n",
       "1           2001  Action-Adventure         0.00\n",
       "2           2001         Adventure        14.64\n",
       "3           2001         Education         0.00\n",
       "4           2001          Fighting         9.47\n",
       "5           2001              Misc        12.25\n",
       "6           2001             Party         0.00\n",
       "7           2001          Platform        20.53\n",
       "8           2001            Puzzle         8.20\n",
       "9           2001            Racing        31.08\n",
       "10          2001      Role-Playing        11.19\n",
       "11          2001           Shooter        17.88\n",
       "12          2001        Simulation        13.55\n",
       "13          2001            Sports        50.80\n",
       "14          2001          Strategy         3.71"
      ]
     },
     "execution_count": 21,
     "metadata": {},
     "output_type": "execute_result"
    }
   ],
   "source": [
    "genre_2001"
   ]
  },
  {
   "cell_type": "code",
   "execution_count": 22,
   "id": "551e2c89",
   "metadata": {
    "execution": {
     "iopub.execute_input": "2024-02-19T17:03:50.833607Z",
     "iopub.status.busy": "2024-02-19T17:03:50.833224Z",
     "iopub.status.idle": "2024-02-19T17:03:51.704592Z",
     "shell.execute_reply": "2024-02-19T17:03:51.703342Z"
    },
    "papermill": {
     "duration": 0.891728,
     "end_time": "2024-02-19T17:03:51.707270",
     "exception": false,
     "start_time": "2024-02-19T17:03:50.815542",
     "status": "completed"
    },
    "tags": []
   },
   "outputs": [
    {
     "data": {
      "image/png": "[encoded data removed]",
      "text/plain": [
       "<Figure size 1200x800 with 1 Axes>"
      ]
     },
     "metadata": {},
     "output_type": "display_data"
    }
   ],
   "source": [
    "graph_genre((2015,2020), 'Shooter')"
   ]
  },
  {
   "cell_type": "code",
   "execution_count": 23,
   "id": "5739adbf",
   "metadata": {
    "execution": {
     "iopub.execute_input": "2024-02-19T17:03:51.743451Z",
     "iopub.status.busy": "2024-02-19T17:03:51.743028Z",
     "iopub.status.idle": "2024-02-19T17:03:52.111314Z",
     "shell.execute_reply": "2024-02-19T17:03:52.110073Z"
    },
    "papermill": {
     "duration": 0.389327,
     "end_time": "2024-02-19T17:03:52.113725",
     "exception": false,
     "start_time": "2024-02-19T17:03:51.724398",
     "status": "completed"
    },
    "tags": []
   },
   "outputs": [
    {
     "data": {
      "image/png": "[encoded data removed]",
      "text/plain": [
       "<Figure size 1500x800 with 1 Axes>"
      ]
     },
     "metadata": {},
     "output_type": "display_data"
    }
   ],
   "source": [
    "graph_genre_quarterly((2015,2018), 'Shooter')"
   ]
  }
 ],
 "metadata": {
  "kaggle": {
   "accelerator": "none",
   "dataSources": [
    {
     "datasetId": 4371999,
     "sourceId": 7507070,
     "sourceType": "datasetVersion"
    }
   ],
   "dockerImageVersionId": 30646,
   "isGpuEnabled": false,
   "isInternetEnabled": false,
   "language": "python",
   "sourceType": "notebook"
  },
  "kernelspec": {
   "display_name": "Python 3",
   "language": "python",
   "name": "python3"
  },
  "language_info": {
   "codemirror_mode": {
    "name": "ipython",
    "version": 3
   },
   "file_extension": ".py",
   "mimetype": "text/x-python",
   "name": "python",
   "nbconvert_exporter": "python",
   "pygments_lexer": "ipython3",
   "version": "3.10.13"
  },
  "papermill": {
   "default_parameters": {},
   "duration": 35.819941,
   "end_time": "2024-02-19T17:03:52.854184",
   "environment_variables": {},
   "exception": null,
   "input_path": "__notebook__.ipynb",
   "output_path": "__notebook__.ipynb",
   "parameters": {},
   "start_time": "2024-02-19T17:03:17.034243",
   "version": "2.5.0"
  }
 },
 "nbformat": 4,
 "nbformat_minor": 5
}
